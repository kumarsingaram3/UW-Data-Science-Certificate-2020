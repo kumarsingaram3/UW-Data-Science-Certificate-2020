{
 "cells": [
  {
   "cell_type": "markdown",
   "metadata": {},
   "source": [
    "## Capstone - Final Project\n",
    "\n",
    "After analyzing the diaper manufacturing process, we can now move into the data modeling process. In this phase, we must do an extensive amount of data cleaning and exploratory analysis before we begin modeling. These steps will help us ensure that we understand the relationships and structure of the data we are dealing with. Then, we can move onto building benchmark models. These will be simpler models that we will run on our data that we can compare with the artificial neural networks that we intend to build later on. If our benchmark models perform well, we will have to make a business decision on whether it is worth the extra effort of productionizing a more complex neural network model.\n",
    "\n",
    "In the first phase of our project, we will be doing the following:\n",
    "- Join label and feature data\n",
    "- Impute missing values\n",
    "- Remove unnecessary columns\n",
    "- Solve for class imbalance using SMOTE\n",
    "- Apply feature selection methods to reduce data dimensionality\n",
    "- Choose a performance metric"
   ]
  },
  {
   "cell_type": "markdown",
   "metadata": {},
   "source": [
    "### Feature Set\n",
    "\n",
    "The first set of data to load is our manufacturing sensor data. Each feature in this data set is a different sensor, providing us information on an observation."
   ]
  },
  {
   "cell_type": "code",
   "execution_count": 1,
   "metadata": {},
   "outputs": [
    {
     "name": "stdout",
     "output_type": "stream",
     "text": [
      "(1567, 590)\n"
     ]
    }
   ],
   "source": [
    "#load data\n",
    "#check data structure\n",
    "\n",
    "import numpy as np\n",
    "import pandas as pd\n",
    "import seaborn as sns\n",
    "import matplotlib.pyplot as plt\n",
    "\n",
    "data = np.loadtxt('data/secom.data')\n",
    "\n",
    "print(data.shape)"
   ]
  },
  {
   "cell_type": "code",
   "execution_count": 2,
   "metadata": {},
   "outputs": [
    {
     "data": {
      "text/html": [
       "<div>\n",
       "<style scoped>\n",
       "    .dataframe tbody tr th:only-of-type {\n",
       "        vertical-align: middle;\n",
       "    }\n",
       "\n",
       "    .dataframe tbody tr th {\n",
       "        vertical-align: top;\n",
       "    }\n",
       "\n",
       "    .dataframe thead th {\n",
       "        text-align: right;\n",
       "    }\n",
       "</style>\n",
       "<table border=\"1\" class=\"dataframe\">\n",
       "  <thead>\n",
       "    <tr style=\"text-align: right;\">\n",
       "      <th></th>\n",
       "      <th>0</th>\n",
       "      <th>1</th>\n",
       "      <th>2</th>\n",
       "      <th>3</th>\n",
       "      <th>4</th>\n",
       "      <th>5</th>\n",
       "      <th>6</th>\n",
       "      <th>7</th>\n",
       "      <th>8</th>\n",
       "      <th>9</th>\n",
       "      <th>...</th>\n",
       "      <th>580</th>\n",
       "      <th>581</th>\n",
       "      <th>582</th>\n",
       "      <th>583</th>\n",
       "      <th>584</th>\n",
       "      <th>585</th>\n",
       "      <th>586</th>\n",
       "      <th>587</th>\n",
       "      <th>588</th>\n",
       "      <th>589</th>\n",
       "    </tr>\n",
       "  </thead>\n",
       "  <tbody>\n",
       "    <tr>\n",
       "      <th>0</th>\n",
       "      <td>3030.93</td>\n",
       "      <td>2564.00</td>\n",
       "      <td>2187.7333</td>\n",
       "      <td>1411.1265</td>\n",
       "      <td>1.3602</td>\n",
       "      <td>100.0</td>\n",
       "      <td>97.6133</td>\n",
       "      <td>0.1242</td>\n",
       "      <td>1.5005</td>\n",
       "      <td>0.0162</td>\n",
       "      <td>...</td>\n",
       "      <td>NaN</td>\n",
       "      <td>NaN</td>\n",
       "      <td>0.5005</td>\n",
       "      <td>0.0118</td>\n",
       "      <td>0.0035</td>\n",
       "      <td>2.3630</td>\n",
       "      <td>NaN</td>\n",
       "      <td>NaN</td>\n",
       "      <td>NaN</td>\n",
       "      <td>NaN</td>\n",
       "    </tr>\n",
       "    <tr>\n",
       "      <th>1</th>\n",
       "      <td>3095.78</td>\n",
       "      <td>2465.14</td>\n",
       "      <td>2230.4222</td>\n",
       "      <td>1463.6606</td>\n",
       "      <td>0.8294</td>\n",
       "      <td>100.0</td>\n",
       "      <td>102.3433</td>\n",
       "      <td>0.1247</td>\n",
       "      <td>1.4966</td>\n",
       "      <td>-0.0005</td>\n",
       "      <td>...</td>\n",
       "      <td>0.0060</td>\n",
       "      <td>208.2045</td>\n",
       "      <td>0.5019</td>\n",
       "      <td>0.0223</td>\n",
       "      <td>0.0055</td>\n",
       "      <td>4.4447</td>\n",
       "      <td>0.0096</td>\n",
       "      <td>0.0201</td>\n",
       "      <td>0.0060</td>\n",
       "      <td>208.2045</td>\n",
       "    </tr>\n",
       "    <tr>\n",
       "      <th>2</th>\n",
       "      <td>2932.61</td>\n",
       "      <td>2559.94</td>\n",
       "      <td>2186.4111</td>\n",
       "      <td>1698.0172</td>\n",
       "      <td>1.5102</td>\n",
       "      <td>100.0</td>\n",
       "      <td>95.4878</td>\n",
       "      <td>0.1241</td>\n",
       "      <td>1.4436</td>\n",
       "      <td>0.0041</td>\n",
       "      <td>...</td>\n",
       "      <td>0.0148</td>\n",
       "      <td>82.8602</td>\n",
       "      <td>0.4958</td>\n",
       "      <td>0.0157</td>\n",
       "      <td>0.0039</td>\n",
       "      <td>3.1745</td>\n",
       "      <td>0.0584</td>\n",
       "      <td>0.0484</td>\n",
       "      <td>0.0148</td>\n",
       "      <td>82.8602</td>\n",
       "    </tr>\n",
       "    <tr>\n",
       "      <th>3</th>\n",
       "      <td>2988.72</td>\n",
       "      <td>2479.90</td>\n",
       "      <td>2199.0333</td>\n",
       "      <td>909.7926</td>\n",
       "      <td>1.3204</td>\n",
       "      <td>100.0</td>\n",
       "      <td>104.2367</td>\n",
       "      <td>0.1217</td>\n",
       "      <td>1.4882</td>\n",
       "      <td>-0.0124</td>\n",
       "      <td>...</td>\n",
       "      <td>0.0044</td>\n",
       "      <td>73.8432</td>\n",
       "      <td>0.4990</td>\n",
       "      <td>0.0103</td>\n",
       "      <td>0.0025</td>\n",
       "      <td>2.0544</td>\n",
       "      <td>0.0202</td>\n",
       "      <td>0.0149</td>\n",
       "      <td>0.0044</td>\n",
       "      <td>73.8432</td>\n",
       "    </tr>\n",
       "    <tr>\n",
       "      <th>4</th>\n",
       "      <td>3032.24</td>\n",
       "      <td>2502.87</td>\n",
       "      <td>2233.3667</td>\n",
       "      <td>1326.5200</td>\n",
       "      <td>1.5334</td>\n",
       "      <td>100.0</td>\n",
       "      <td>100.3967</td>\n",
       "      <td>0.1235</td>\n",
       "      <td>1.5031</td>\n",
       "      <td>-0.0031</td>\n",
       "      <td>...</td>\n",
       "      <td>NaN</td>\n",
       "      <td>NaN</td>\n",
       "      <td>0.4800</td>\n",
       "      <td>0.4766</td>\n",
       "      <td>0.1045</td>\n",
       "      <td>99.3032</td>\n",
       "      <td>0.0202</td>\n",
       "      <td>0.0149</td>\n",
       "      <td>0.0044</td>\n",
       "      <td>73.8432</td>\n",
       "    </tr>\n",
       "  </tbody>\n",
       "</table>\n",
       "<p>5 rows × 590 columns</p>\n",
       "</div>"
      ],
      "text/plain": [
       "       0        1          2          3       4      5         6       7    \\\n",
       "0  3030.93  2564.00  2187.7333  1411.1265  1.3602  100.0   97.6133  0.1242   \n",
       "1  3095.78  2465.14  2230.4222  1463.6606  0.8294  100.0  102.3433  0.1247   \n",
       "2  2932.61  2559.94  2186.4111  1698.0172  1.5102  100.0   95.4878  0.1241   \n",
       "3  2988.72  2479.90  2199.0333   909.7926  1.3204  100.0  104.2367  0.1217   \n",
       "4  3032.24  2502.87  2233.3667  1326.5200  1.5334  100.0  100.3967  0.1235   \n",
       "\n",
       "      8       9    ...     580       581     582     583     584      585  \\\n",
       "0  1.5005  0.0162  ...     NaN       NaN  0.5005  0.0118  0.0035   2.3630   \n",
       "1  1.4966 -0.0005  ...  0.0060  208.2045  0.5019  0.0223  0.0055   4.4447   \n",
       "2  1.4436  0.0041  ...  0.0148   82.8602  0.4958  0.0157  0.0039   3.1745   \n",
       "3  1.4882 -0.0124  ...  0.0044   73.8432  0.4990  0.0103  0.0025   2.0544   \n",
       "4  1.5031 -0.0031  ...     NaN       NaN  0.4800  0.4766  0.1045  99.3032   \n",
       "\n",
       "      586     587     588       589  \n",
       "0     NaN     NaN     NaN       NaN  \n",
       "1  0.0096  0.0201  0.0060  208.2045  \n",
       "2  0.0584  0.0484  0.0148   82.8602  \n",
       "3  0.0202  0.0149  0.0044   73.8432  \n",
       "4  0.0202  0.0149  0.0044   73.8432  \n",
       "\n",
       "[5 rows x 590 columns]"
      ]
     },
     "execution_count": 2,
     "metadata": {},
     "output_type": "execute_result"
    }
   ],
   "source": [
    "secom = pd.DataFrame(data)\n",
    "secom.head()"
   ]
  },
  {
   "cell_type": "markdown",
   "metadata": {},
   "source": [
    "Note that we have 590 different sensors/features and 1567 observations."
   ]
  },
  {
   "cell_type": "markdown",
   "metadata": {},
   "source": [
    "### Labels\n",
    "\n",
    "The labels data set will help us build our supervised learning model. The target indicates whether a particular observation is faulty. We can use this information to train our models and then predict on a subset of the joined data set. Let's clean this data and then join it to our sensor data."
   ]
  },
  {
   "cell_type": "code",
   "execution_count": 3,
   "metadata": {},
   "outputs": [
    {
     "name": "stdout",
     "output_type": "stream",
     "text": [
      "['-1 \"19/07/2008 11:55:00\"\\n', '-1 \"19/07/2008 12:32:00\"\\n', '1 \"19/07/2008 13:17:00\"\\n']\n"
     ]
    }
   ],
   "source": [
    "#read in labels data\n",
    "\n",
    "with open('data/secom_labels.data', 'r') as f:\n",
    "    labels = f.readlines()\n",
    "    \n",
    "print(labels[:3])"
   ]
  },
  {
   "cell_type": "markdown",
   "metadata": {},
   "source": [
    "We'll start by splitting each value in the list using the spaces, then replacing the double quotes with a single quote and stripping any other unnecessary spaces. "
   ]
  },
  {
   "cell_type": "code",
   "execution_count": 4,
   "metadata": {},
   "outputs": [],
   "source": [
    "#split by spaces\n",
    "\n",
    "labels = [label.split(' ') for label in labels]"
   ]
  },
  {
   "cell_type": "code",
   "execution_count": 5,
   "metadata": {},
   "outputs": [],
   "source": [
    "#replace double quotes and strip extra spaces\n",
    "\n",
    "labels = [[entry.strip().replace('\"', '') for entry in label] for label in labels]"
   ]
  },
  {
   "cell_type": "code",
   "execution_count": 6,
   "metadata": {},
   "outputs": [
    {
     "data": {
      "text/html": [
       "<div>\n",
       "<style scoped>\n",
       "    .dataframe tbody tr th:only-of-type {\n",
       "        vertical-align: middle;\n",
       "    }\n",
       "\n",
       "    .dataframe tbody tr th {\n",
       "        vertical-align: top;\n",
       "    }\n",
       "\n",
       "    .dataframe thead th {\n",
       "        text-align: right;\n",
       "    }\n",
       "</style>\n",
       "<table border=\"1\" class=\"dataframe\">\n",
       "  <thead>\n",
       "    <tr style=\"text-align: right;\">\n",
       "      <th></th>\n",
       "      <th>target</th>\n",
       "      <th>date</th>\n",
       "      <th>time</th>\n",
       "    </tr>\n",
       "  </thead>\n",
       "  <tbody>\n",
       "    <tr>\n",
       "      <th>0</th>\n",
       "      <td>-1</td>\n",
       "      <td>19/07/2008</td>\n",
       "      <td>11:55:00</td>\n",
       "    </tr>\n",
       "    <tr>\n",
       "      <th>1</th>\n",
       "      <td>-1</td>\n",
       "      <td>19/07/2008</td>\n",
       "      <td>12:32:00</td>\n",
       "    </tr>\n",
       "    <tr>\n",
       "      <th>2</th>\n",
       "      <td>1</td>\n",
       "      <td>19/07/2008</td>\n",
       "      <td>13:17:00</td>\n",
       "    </tr>\n",
       "    <tr>\n",
       "      <th>3</th>\n",
       "      <td>-1</td>\n",
       "      <td>19/07/2008</td>\n",
       "      <td>14:43:00</td>\n",
       "    </tr>\n",
       "    <tr>\n",
       "      <th>4</th>\n",
       "      <td>-1</td>\n",
       "      <td>19/07/2008</td>\n",
       "      <td>15:22:00</td>\n",
       "    </tr>\n",
       "  </tbody>\n",
       "</table>\n",
       "</div>"
      ],
      "text/plain": [
       "  target        date      time\n",
       "0     -1  19/07/2008  11:55:00\n",
       "1     -1  19/07/2008  12:32:00\n",
       "2      1  19/07/2008  13:17:00\n",
       "3     -1  19/07/2008  14:43:00\n",
       "4     -1  19/07/2008  15:22:00"
      ]
     },
     "execution_count": 6,
     "metadata": {},
     "output_type": "execute_result"
    }
   ],
   "source": [
    "#convert to dataframe\n",
    "\n",
    "labels = pd.DataFrame(labels, columns = ['target', 'date', 'time'])\n",
    "labels.head()"
   ]
  },
  {
   "cell_type": "markdown",
   "metadata": {},
   "source": [
    "We now have a clean data frame of the three columns from the labels data set. Let's join this to the feature set."
   ]
  },
  {
   "cell_type": "code",
   "execution_count": 7,
   "metadata": {},
   "outputs": [
    {
     "data": {
      "text/html": [
       "<div>\n",
       "<style scoped>\n",
       "    .dataframe tbody tr th:only-of-type {\n",
       "        vertical-align: middle;\n",
       "    }\n",
       "\n",
       "    .dataframe tbody tr th {\n",
       "        vertical-align: top;\n",
       "    }\n",
       "\n",
       "    .dataframe thead th {\n",
       "        text-align: right;\n",
       "    }\n",
       "</style>\n",
       "<table border=\"1\" class=\"dataframe\">\n",
       "  <thead>\n",
       "    <tr style=\"text-align: right;\">\n",
       "      <th></th>\n",
       "      <th>0</th>\n",
       "      <th>1</th>\n",
       "      <th>2</th>\n",
       "      <th>3</th>\n",
       "      <th>4</th>\n",
       "      <th>5</th>\n",
       "      <th>6</th>\n",
       "      <th>7</th>\n",
       "      <th>8</th>\n",
       "      <th>9</th>\n",
       "      <th>...</th>\n",
       "      <th>583</th>\n",
       "      <th>584</th>\n",
       "      <th>585</th>\n",
       "      <th>586</th>\n",
       "      <th>587</th>\n",
       "      <th>588</th>\n",
       "      <th>589</th>\n",
       "      <th>target</th>\n",
       "      <th>date</th>\n",
       "      <th>time</th>\n",
       "    </tr>\n",
       "  </thead>\n",
       "  <tbody>\n",
       "    <tr>\n",
       "      <th>0</th>\n",
       "      <td>3030.93</td>\n",
       "      <td>2564.00</td>\n",
       "      <td>2187.7333</td>\n",
       "      <td>1411.1265</td>\n",
       "      <td>1.3602</td>\n",
       "      <td>100.0</td>\n",
       "      <td>97.6133</td>\n",
       "      <td>0.1242</td>\n",
       "      <td>1.5005</td>\n",
       "      <td>0.0162</td>\n",
       "      <td>...</td>\n",
       "      <td>0.0118</td>\n",
       "      <td>0.0035</td>\n",
       "      <td>2.3630</td>\n",
       "      <td>NaN</td>\n",
       "      <td>NaN</td>\n",
       "      <td>NaN</td>\n",
       "      <td>NaN</td>\n",
       "      <td>-1</td>\n",
       "      <td>19/07/2008</td>\n",
       "      <td>11:55:00</td>\n",
       "    </tr>\n",
       "    <tr>\n",
       "      <th>1</th>\n",
       "      <td>3095.78</td>\n",
       "      <td>2465.14</td>\n",
       "      <td>2230.4222</td>\n",
       "      <td>1463.6606</td>\n",
       "      <td>0.8294</td>\n",
       "      <td>100.0</td>\n",
       "      <td>102.3433</td>\n",
       "      <td>0.1247</td>\n",
       "      <td>1.4966</td>\n",
       "      <td>-0.0005</td>\n",
       "      <td>...</td>\n",
       "      <td>0.0223</td>\n",
       "      <td>0.0055</td>\n",
       "      <td>4.4447</td>\n",
       "      <td>0.0096</td>\n",
       "      <td>0.0201</td>\n",
       "      <td>0.0060</td>\n",
       "      <td>208.2045</td>\n",
       "      <td>-1</td>\n",
       "      <td>19/07/2008</td>\n",
       "      <td>12:32:00</td>\n",
       "    </tr>\n",
       "    <tr>\n",
       "      <th>2</th>\n",
       "      <td>2932.61</td>\n",
       "      <td>2559.94</td>\n",
       "      <td>2186.4111</td>\n",
       "      <td>1698.0172</td>\n",
       "      <td>1.5102</td>\n",
       "      <td>100.0</td>\n",
       "      <td>95.4878</td>\n",
       "      <td>0.1241</td>\n",
       "      <td>1.4436</td>\n",
       "      <td>0.0041</td>\n",
       "      <td>...</td>\n",
       "      <td>0.0157</td>\n",
       "      <td>0.0039</td>\n",
       "      <td>3.1745</td>\n",
       "      <td>0.0584</td>\n",
       "      <td>0.0484</td>\n",
       "      <td>0.0148</td>\n",
       "      <td>82.8602</td>\n",
       "      <td>1</td>\n",
       "      <td>19/07/2008</td>\n",
       "      <td>13:17:00</td>\n",
       "    </tr>\n",
       "    <tr>\n",
       "      <th>3</th>\n",
       "      <td>2988.72</td>\n",
       "      <td>2479.90</td>\n",
       "      <td>2199.0333</td>\n",
       "      <td>909.7926</td>\n",
       "      <td>1.3204</td>\n",
       "      <td>100.0</td>\n",
       "      <td>104.2367</td>\n",
       "      <td>0.1217</td>\n",
       "      <td>1.4882</td>\n",
       "      <td>-0.0124</td>\n",
       "      <td>...</td>\n",
       "      <td>0.0103</td>\n",
       "      <td>0.0025</td>\n",
       "      <td>2.0544</td>\n",
       "      <td>0.0202</td>\n",
       "      <td>0.0149</td>\n",
       "      <td>0.0044</td>\n",
       "      <td>73.8432</td>\n",
       "      <td>-1</td>\n",
       "      <td>19/07/2008</td>\n",
       "      <td>14:43:00</td>\n",
       "    </tr>\n",
       "    <tr>\n",
       "      <th>4</th>\n",
       "      <td>3032.24</td>\n",
       "      <td>2502.87</td>\n",
       "      <td>2233.3667</td>\n",
       "      <td>1326.5200</td>\n",
       "      <td>1.5334</td>\n",
       "      <td>100.0</td>\n",
       "      <td>100.3967</td>\n",
       "      <td>0.1235</td>\n",
       "      <td>1.5031</td>\n",
       "      <td>-0.0031</td>\n",
       "      <td>...</td>\n",
       "      <td>0.4766</td>\n",
       "      <td>0.1045</td>\n",
       "      <td>99.3032</td>\n",
       "      <td>0.0202</td>\n",
       "      <td>0.0149</td>\n",
       "      <td>0.0044</td>\n",
       "      <td>73.8432</td>\n",
       "      <td>-1</td>\n",
       "      <td>19/07/2008</td>\n",
       "      <td>15:22:00</td>\n",
       "    </tr>\n",
       "  </tbody>\n",
       "</table>\n",
       "<p>5 rows × 593 columns</p>\n",
       "</div>"
      ],
      "text/plain": [
       "         0        1          2          3       4      5         6       7  \\\n",
       "0  3030.93  2564.00  2187.7333  1411.1265  1.3602  100.0   97.6133  0.1242   \n",
       "1  3095.78  2465.14  2230.4222  1463.6606  0.8294  100.0  102.3433  0.1247   \n",
       "2  2932.61  2559.94  2186.4111  1698.0172  1.5102  100.0   95.4878  0.1241   \n",
       "3  2988.72  2479.90  2199.0333   909.7926  1.3204  100.0  104.2367  0.1217   \n",
       "4  3032.24  2502.87  2233.3667  1326.5200  1.5334  100.0  100.3967  0.1235   \n",
       "\n",
       "        8       9  ...     583     584      585     586     587     588  \\\n",
       "0  1.5005  0.0162  ...  0.0118  0.0035   2.3630     NaN     NaN     NaN   \n",
       "1  1.4966 -0.0005  ...  0.0223  0.0055   4.4447  0.0096  0.0201  0.0060   \n",
       "2  1.4436  0.0041  ...  0.0157  0.0039   3.1745  0.0584  0.0484  0.0148   \n",
       "3  1.4882 -0.0124  ...  0.0103  0.0025   2.0544  0.0202  0.0149  0.0044   \n",
       "4  1.5031 -0.0031  ...  0.4766  0.1045  99.3032  0.0202  0.0149  0.0044   \n",
       "\n",
       "        589  target        date      time  \n",
       "0       NaN      -1  19/07/2008  11:55:00  \n",
       "1  208.2045      -1  19/07/2008  12:32:00  \n",
       "2   82.8602       1  19/07/2008  13:17:00  \n",
       "3   73.8432      -1  19/07/2008  14:43:00  \n",
       "4   73.8432      -1  19/07/2008  15:22:00  \n",
       "\n",
       "[5 rows x 593 columns]"
      ]
     },
     "execution_count": 7,
     "metadata": {},
     "output_type": "execute_result"
    }
   ],
   "source": [
    "#join labels to secom dataset\n",
    "\n",
    "df = secom.join(labels)\n",
    "df.head()"
   ]
  },
  {
   "cell_type": "markdown",
   "metadata": {},
   "source": [
    "### Data Cleaning & Feature Engineering"
   ]
  },
  {
   "cell_type": "markdown",
   "metadata": {},
   "source": [
    "With our data set in one piece, we can now focus on the null values in the data set. Since we are looking to find the most predictive features, we will likely not find signal in columns with an excessive number of missing values. Let's drop columns that have > 20% of the 1567 observations as null values, as we're highly unlikely to find any of these to be useful in the model."
   ]
  },
  {
   "cell_type": "code",
   "execution_count": 8,
   "metadata": {},
   "outputs": [],
   "source": [
    "#dropping columns with over 20% null values\n",
    "drop_na = list(df.loc[:,df.isna().sum() > (df.count())*(1/5)].columns)\n",
    "df.drop(drop_na, axis=1, inplace=True)"
   ]
  },
  {
   "cell_type": "code",
   "execution_count": 9,
   "metadata": {},
   "outputs": [],
   "source": [
    "#delete date, time features\n",
    "\n",
    "del[df['date']]\n",
    "del[df['time']]"
   ]
  },
  {
   "cell_type": "code",
   "execution_count": 10,
   "metadata": {},
   "outputs": [],
   "source": [
    "#replace -1 in target with 0\n",
    "\n",
    "df['target'] = df['target'].replace('-1', 0)"
   ]
  },
  {
   "cell_type": "markdown",
   "metadata": {},
   "source": [
    "Before we run any models, we need to split our data set into a train, validation, and test set. To understand whether the models we build can perform well in the future, they must be able to generalize well on unseen data. Splitting our data into three different sets is a way for us to measure how our models may perform going forward. Therefore, we will use 80% of our data set to train our model and then split the remaining 20% evenly into a test and validation set. The validation set will be used to tune our models' parameters, while the test set can tell us our how our chosen model performs on a data set it has not seen. Let's perform these steps next."
   ]
  },
  {
   "cell_type": "code",
   "execution_count": 11,
   "metadata": {},
   "outputs": [],
   "source": [
    "#drop target from X\n",
    "\n",
    "X = df.drop(['target'], axis = 1)\n",
    "y = df['target'].astype('int64')"
   ]
  },
  {
   "cell_type": "code",
   "execution_count": 12,
   "metadata": {},
   "outputs": [],
   "source": [
    "#split into 80-20 train-val/test\n",
    "#50-50 val/test\n",
    "\n",
    "from sklearn.model_selection import train_test_split\n",
    "\n",
    "X_train, X_test, y_train, y_test = train_test_split(X, y, test_size = 0.20, random_state = 1)\n",
    "\n",
    "X_valid, X_test, y_valid, y_test = train_test_split(X_test, y_test, test_size = 0.50, random_state = 1)"
   ]
  },
  {
   "cell_type": "code",
   "execution_count": 13,
   "metadata": {},
   "outputs": [],
   "source": [
    "X_train = X_train.reset_index(drop = True)\n",
    "X_valid = X_valid.reset_index(drop = True)\n",
    "X_test = X_test.reset_index(drop = True)"
   ]
  },
  {
   "cell_type": "code",
   "execution_count": 14,
   "metadata": {},
   "outputs": [
    {
     "name": "stdout",
     "output_type": "stream",
     "text": [
      "X train shape: (1253, 550)\n",
      "X validation shape: (157, 550)\n",
      "X test shape: (157, 550)\n"
     ]
    }
   ],
   "source": [
    "print('X train shape: {}'.format(X_train.shape))\n",
    "print('X validation shape: {}'.format(X_valid.shape))\n",
    "print('X test shape: {}'.format(X_test.shape))"
   ]
  },
  {
   "cell_type": "markdown",
   "metadata": {},
   "source": [
    "Splitting our data into three sets left us with the data sets above. Notice how we have 550 features in each of our data sets. It is unlikely that most of these features will be predictive in our models. High dimensionality can also cause long run times. We will need to narrow down our feature set in later steps. Before doing this however, we must do two things. \n",
    "\n",
    "First, we have to impute missing values in each of our data sets. Second, we will need to standardize the numeric features in our data. Measurements in our data are likely to have different units and scales. To account for this, we must transform these features for them to be on the same scale. This is important when we run certain algorithms such as Support Vector Machines. After doing this, our data should have a mean centered near 0 and a standard deviation of ~1."
   ]
  },
  {
   "cell_type": "code",
   "execution_count": 15,
   "metadata": {},
   "outputs": [],
   "source": [
    "#fill missing values with the mean of the train set\n",
    "\n",
    "for column in X_train.columns:\n",
    "    X_train[column].fillna(X_train[column].mean(), inplace=True)\n",
    "    X_valid[column].fillna(X_train[column].mean(), inplace=True)\n",
    "    X_test[column].fillna(X_train[column].mean(), inplace=True)"
   ]
  },
  {
   "cell_type": "code",
   "execution_count": 16,
   "metadata": {},
   "outputs": [
    {
     "data": {
      "text/html": [
       "<div>\n",
       "<style scoped>\n",
       "    .dataframe tbody tr th:only-of-type {\n",
       "        vertical-align: middle;\n",
       "    }\n",
       "\n",
       "    .dataframe tbody tr th {\n",
       "        vertical-align: top;\n",
       "    }\n",
       "\n",
       "    .dataframe thead th {\n",
       "        text-align: right;\n",
       "    }\n",
       "</style>\n",
       "<table border=\"1\" class=\"dataframe\">\n",
       "  <thead>\n",
       "    <tr style=\"text-align: right;\">\n",
       "      <th></th>\n",
       "      <th>0</th>\n",
       "      <th>1</th>\n",
       "      <th>2</th>\n",
       "      <th>3</th>\n",
       "      <th>4</th>\n",
       "      <th>5</th>\n",
       "      <th>6</th>\n",
       "      <th>7</th>\n",
       "      <th>8</th>\n",
       "      <th>9</th>\n",
       "      <th>...</th>\n",
       "      <th>576</th>\n",
       "      <th>577</th>\n",
       "      <th>582</th>\n",
       "      <th>583</th>\n",
       "      <th>584</th>\n",
       "      <th>585</th>\n",
       "      <th>586</th>\n",
       "      <th>587</th>\n",
       "      <th>588</th>\n",
       "      <th>589</th>\n",
       "    </tr>\n",
       "  </thead>\n",
       "  <tbody>\n",
       "    <tr>\n",
       "      <th>0</th>\n",
       "      <td>-0.958601</td>\n",
       "      <td>0.927555</td>\n",
       "      <td>-0.213206</td>\n",
       "      <td>2.119234</td>\n",
       "      <td>-0.040224</td>\n",
       "      <td>0.0</td>\n",
       "      <td>-2.270271</td>\n",
       "      <td>0.145725</td>\n",
       "      <td>-0.562111</td>\n",
       "      <td>0.600802</td>\n",
       "      <td>...</td>\n",
       "      <td>4.793848</td>\n",
       "      <td>6.258281</td>\n",
       "      <td>-0.699295</td>\n",
       "      <td>0.051608</td>\n",
       "      <td>-0.089278</td>\n",
       "      <td>0.051607</td>\n",
       "      <td>2.667230</td>\n",
       "      <td>0.127941</td>\n",
       "      <td>-0.080762</td>\n",
       "      <td>-0.716431</td>\n",
       "    </tr>\n",
       "    <tr>\n",
       "      <th>1</th>\n",
       "      <td>-1.059148</td>\n",
       "      <td>0.038292</td>\n",
       "      <td>-2.912957</td>\n",
       "      <td>0.330101</td>\n",
       "      <td>-0.057009</td>\n",
       "      <td>0.0</td>\n",
       "      <td>-0.367259</td>\n",
       "      <td>0.535636</td>\n",
       "      <td>-0.241648</td>\n",
       "      <td>-0.671046</td>\n",
       "      <td>...</td>\n",
       "      <td>-0.226081</td>\n",
       "      <td>0.318446</td>\n",
       "      <td>0.399258</td>\n",
       "      <td>-0.384719</td>\n",
       "      <td>-0.355759</td>\n",
       "      <td>-0.371223</td>\n",
       "      <td>0.025725</td>\n",
       "      <td>-0.256531</td>\n",
       "      <td>-0.283599</td>\n",
       "      <td>-0.372816</td>\n",
       "    </tr>\n",
       "    <tr>\n",
       "      <th>2</th>\n",
       "      <td>-1.433404</td>\n",
       "      <td>0.754126</td>\n",
       "      <td>0.100630</td>\n",
       "      <td>2.788137</td>\n",
       "      <td>-0.053570</td>\n",
       "      <td>0.0</td>\n",
       "      <td>-2.381693</td>\n",
       "      <td>0.183458</td>\n",
       "      <td>-0.251034</td>\n",
       "      <td>-0.573212</td>\n",
       "      <td>...</td>\n",
       "      <td>-0.254379</td>\n",
       "      <td>0.291199</td>\n",
       "      <td>-0.439112</td>\n",
       "      <td>-0.006218</td>\n",
       "      <td>0.056075</td>\n",
       "      <td>-0.005771</td>\n",
       "      <td>-0.897211</td>\n",
       "      <td>0.204835</td>\n",
       "      <td>0.257299</td>\n",
       "      <td>0.801493</td>\n",
       "    </tr>\n",
       "    <tr>\n",
       "      <th>3</th>\n",
       "      <td>0.462736</td>\n",
       "      <td>-0.761869</td>\n",
       "      <td>0.418952</td>\n",
       "      <td>-0.654294</td>\n",
       "      <td>-0.066859</td>\n",
       "      <td>0.0</td>\n",
       "      <td>0.488114</td>\n",
       "      <td>-0.105831</td>\n",
       "      <td>1.316421</td>\n",
       "      <td>0.013795</td>\n",
       "      <td>...</td>\n",
       "      <td>-0.233396</td>\n",
       "      <td>-0.689358</td>\n",
       "      <td>-1.046207</td>\n",
       "      <td>-0.248038</td>\n",
       "      <td>-0.186181</td>\n",
       "      <td>-0.233365</td>\n",
       "      <td>-0.411874</td>\n",
       "      <td>1.665826</td>\n",
       "      <td>1.643351</td>\n",
       "      <td>0.956293</td>\n",
       "    </tr>\n",
       "    <tr>\n",
       "      <th>4</th>\n",
       "      <td>-0.299742</td>\n",
       "      <td>1.183426</td>\n",
       "      <td>0.760062</td>\n",
       "      <td>0.772441</td>\n",
       "      <td>-0.046513</td>\n",
       "      <td>0.0</td>\n",
       "      <td>-0.689508</td>\n",
       "      <td>0.271502</td>\n",
       "      <td>1.197086</td>\n",
       "      <td>-1.740703</td>\n",
       "      <td>...</td>\n",
       "      <td>-0.211346</td>\n",
       "      <td>-0.467898</td>\n",
       "      <td>1.121990</td>\n",
       "      <td>-0.016732</td>\n",
       "      <td>-0.040827</td>\n",
       "      <td>-0.021685</td>\n",
       "      <td>-0.395961</td>\n",
       "      <td>-0.377364</td>\n",
       "      <td>-0.486436</td>\n",
       "      <td>-0.228242</td>\n",
       "    </tr>\n",
       "  </tbody>\n",
       "</table>\n",
       "<p>5 rows × 550 columns</p>\n",
       "</div>"
      ],
      "text/plain": [
       "        0         1         2         3         4    5         6         7    \\\n",
       "0 -0.958601  0.927555 -0.213206  2.119234 -0.040224  0.0 -2.270271  0.145725   \n",
       "1 -1.059148  0.038292 -2.912957  0.330101 -0.057009  0.0 -0.367259  0.535636   \n",
       "2 -1.433404  0.754126  0.100630  2.788137 -0.053570  0.0 -2.381693  0.183458   \n",
       "3  0.462736 -0.761869  0.418952 -0.654294 -0.066859  0.0  0.488114 -0.105831   \n",
       "4 -0.299742  1.183426  0.760062  0.772441 -0.046513  0.0 -0.689508  0.271502   \n",
       "\n",
       "        8         9    ...       576       577       582       583       584  \\\n",
       "0 -0.562111  0.600802  ...  4.793848  6.258281 -0.699295  0.051608 -0.089278   \n",
       "1 -0.241648 -0.671046  ... -0.226081  0.318446  0.399258 -0.384719 -0.355759   \n",
       "2 -0.251034 -0.573212  ... -0.254379  0.291199 -0.439112 -0.006218  0.056075   \n",
       "3  1.316421  0.013795  ... -0.233396 -0.689358 -1.046207 -0.248038 -0.186181   \n",
       "4  1.197086 -1.740703  ... -0.211346 -0.467898  1.121990 -0.016732 -0.040827   \n",
       "\n",
       "        585       586       587       588       589  \n",
       "0  0.051607  2.667230  0.127941 -0.080762 -0.716431  \n",
       "1 -0.371223  0.025725 -0.256531 -0.283599 -0.372816  \n",
       "2 -0.005771 -0.897211  0.204835  0.257299  0.801493  \n",
       "3 -0.233365 -0.411874  1.665826  1.643351  0.956293  \n",
       "4 -0.021685 -0.395961 -0.377364 -0.486436 -0.228242  \n",
       "\n",
       "[5 rows x 550 columns]"
      ]
     },
     "execution_count": 16,
     "metadata": {},
     "output_type": "execute_result"
    }
   ],
   "source": [
    "#initialize standardscaler\n",
    "#fit numeric columns\n",
    "from sklearn.preprocessing import StandardScaler\n",
    "\n",
    "znormalizer = StandardScaler()\n",
    "znormalizer.fit(X_train)\n",
    "X_train = pd.DataFrame(znormalizer.transform(X_train), columns = X_train.columns)\n",
    "X_valid = pd.DataFrame(znormalizer.transform(X_valid), columns = X_valid.columns)\n",
    "X_test = pd.DataFrame(znormalizer.transform(X_test), columns = X_test.columns)\n",
    "X_train.head()"
   ]
  },
  {
   "cell_type": "markdown",
   "metadata": {},
   "source": [
    "### Dealing with Class Imbalance"
   ]
  },
  {
   "cell_type": "markdown",
   "metadata": {},
   "source": [
    "We need to check the distribution of our target variable before getting to feature selection and modeling. An imbalanced target can lead to biases in our predictions towards the majority class. \n",
    "\n",
    "In our case, we are dealing with defects in the manufacturing process. It's likely that the positive cases in such a problem are very low in proportion to the negative ones. Because we are more interested in the model identifying the minority class (when there is a defect in the manufacturing process), we need to pay special attention to the class imbalance problem in this data set. With a very small number of positive cases in the data set, the model we choose will likely have challenges predicting the minority class in the future because of the lack of historical examples we are feeding it.\n",
    "\n",
    "Before we apply any methods to solve for class imbalance, let's look at the distribution of the target feature."
   ]
  },
  {
   "cell_type": "code",
   "execution_count": 17,
   "metadata": {},
   "outputs": [
    {
     "data": {
      "text/plain": [
       "0    1169\n",
       "1      84\n",
       "Name: target, dtype: int64"
      ]
     },
     "execution_count": 17,
     "metadata": {},
     "output_type": "execute_result"
    }
   ],
   "source": [
    "y_train.value_counts()"
   ]
  },
  {
   "cell_type": "markdown",
   "metadata": {},
   "source": [
    "This is clearly a very imbalanced data set with only 7% of the cases as positive (class 1). To balance the classes, we can use SMOTE to over sample the minority class (in this case, the defects). SMOTE will balance the number of observations in each class by manufacturing synthetic data using a kmeans clustering algorithm.\n",
    "\n",
    "SMOTE is a widely used approach to synthesizing new examples in a data set. The algorithm selects a minority class at random, finds its k nearest minority class neighbor, and then creates a synthetic instance by choosing one of the k nearest neighbors at random to form a line segment in the feature space. SMOTE is useful to us because we should see a balanced set of positive and negative classes in our training data after it is applied."
   ]
  },
  {
   "cell_type": "code",
   "execution_count": 20,
   "metadata": {},
   "outputs": [],
   "source": [
    "#set number of k nearest neighbors\n",
    "#fit on training data\n",
    "\n",
    "from imblearn.over_sampling import SMOTE\n",
    "smote = SMOTE(random_state=0, k_neighbors = 8)\n",
    "X_train, y_train = smote.fit_resample(X_train, y_train)"
   ]
  },
  {
   "cell_type": "code",
   "execution_count": 21,
   "metadata": {},
   "outputs": [
    {
     "data": {
      "text/plain": [
       "1    1169\n",
       "0    1169\n",
       "Name: target, dtype: int64"
      ]
     },
     "execution_count": 21,
     "metadata": {},
     "output_type": "execute_result"
    }
   ],
   "source": [
    "#check class distribution\n",
    "\n",
    "y_train.value_counts()"
   ]
  },
  {
   "cell_type": "markdown",
   "metadata": {},
   "source": [
    "Looks like SMOTE did its job. We can now get into feature selection. "
   ]
  },
  {
   "cell_type": "markdown",
   "metadata": {},
   "source": [
    "### Feature Selection\n",
    "\n",
    "We're going to start by doing a simple mutual information classification to give us a subset of important features to use in our predictive model. Mutual information highlights important statistical dependencies within in our data set in the context of our target variable.\n",
    "\n",
    "The definition for mutual information is provided below:\n",
    "\n",
    "*A quantity called mutual information measures the amount of information one can obtain from one random variable given another*\n",
    "\n",
    "Running a mutual information classification is an efficient way of selecting a set of features that can explain the target variable from a larger data set. After running this, we can use the subset of features chosen by the mutual information classification and run stepwise feature selection to iteratively select a smaller set of predictive features for our model. By using mutual information classification in our first step, our recursive feature elimination step that we perform later will be able to run more efficiently because we will have already narrowed down our features from the original data set."
   ]
  },
  {
   "cell_type": "code",
   "execution_count": 22,
   "metadata": {
    "scrolled": true
   },
   "outputs": [],
   "source": [
    "#run mutual info classification\n",
    "#convert output to list and show 125 highest mutual information features\n",
    "\n",
    "from sklearn.feature_selection import mutual_info_classif\n",
    "import heapq\n",
    "\n",
    "mi_score = mutual_info_classif(np.array(X_train), y_train, random_state = 7)\n",
    "\n",
    "mi = mi_score.tolist()\n",
    "num = 125\n",
    "\n",
    "m = heapq.nlargest(num, enumerate(mi), key = lambda mi: mi[1])"
   ]
  },
  {
   "cell_type": "code",
   "execution_count": 23,
   "metadata": {
    "scrolled": true
   },
   "outputs": [
    {
     "data": {
      "text/plain": [
       "[(339, 0.46321581555281277),\n",
       " (148, 0.45945732504443204),\n",
       " (136, 0.4565686230546764),\n",
       " (544, 0.45546961832109356),\n",
       " (357, 0.44998797054176665),\n",
       " (157, 0.44896224092914205),\n",
       " (117, 0.4481753149306611),\n",
       " (124, 0.447054443809918),\n",
       " (358, 0.4458583564068188),\n",
       " (210, 0.4417919534892498),\n",
       " (229, 0.43959606281155805),\n",
       " (114, 0.4388671660010879),\n",
       " (116, 0.4371186120363839),\n",
       " (158, 0.4346239085716763),\n",
       " (7, 0.4285601553564853),\n",
       " (101, 0.4261521146190337),\n",
       " (264, 0.4261294043939048),\n",
       " (369, 0.423508657096513),\n",
       " (228, 0.42280702743167886),\n",
       " (347, 0.42044344057633065),\n",
       " (349, 0.42004693353013756),\n",
       " (122, 0.41651464100921376),\n",
       " (274, 0.4137487540999183),\n",
       " (102, 0.41326162395141974),\n",
       " (341, 0.413002343024075),\n",
       " (128, 0.4096012763178052),\n",
       " (548, 0.40787881750496324),\n",
       " (109, 0.4073240120382484),\n",
       " (97, 0.40729408501232567),\n",
       " (346, 0.4063690636146786),\n",
       " (348, 0.4051922764515923),\n",
       " (29, 0.40433035384893223),\n",
       " (55, 0.39834951473164537),\n",
       " (89, 0.39766110478238637),\n",
       " (268, 0.3887586755897876),\n",
       " (103, 0.38519070268324995),\n",
       " (266, 0.38161918530456784),\n",
       " (90, 0.37903342517092087),\n",
       " (100, 0.37842876031470096),\n",
       " (237, 0.37459765993698735),\n",
       " (363, 0.3729090786353684),\n",
       " (543, 0.36765911025380094),\n",
       " (98, 0.36021459921174115),\n",
       " (267, 0.3544055389154206),\n",
       " (54, 0.3539136209033047),\n",
       " (118, 0.35203119577340636),\n",
       " (91, 0.3517835712627011),\n",
       " (542, 0.34864683234835425),\n",
       " (159, 0.3470493237844705),\n",
       " (368, 0.34692796514091384),\n",
       " (56, 0.34516179411171244),\n",
       " (82, 0.34357301076620184),\n",
       " (123, 0.3393806159785975),\n",
       " (155, 0.33883730733039275),\n",
       " (96, 0.33831509935625426),\n",
       " (53, 0.3381777597486415),\n",
       " (212, 0.33306264379196615),\n",
       " (366, 0.33236533776364996),\n",
       " (57, 0.33212207842002117),\n",
       " (40, 0.3305604768667234),\n",
       " (293, 0.3215910987926005),\n",
       " (32, 0.3172069969543454),\n",
       " (291, 0.3149195750955527),\n",
       " (33, 0.3145813610979402),\n",
       " (120, 0.31447110053628147),\n",
       " (405, 0.3138375747163804),\n",
       " (119, 0.311519069574796),\n",
       " (38, 0.3109156745684396),\n",
       " (186, 0.30997979728507064),\n",
       " (36, 0.3095523082086582),\n",
       " (37, 0.3084993348473595),\n",
       " (34, 0.3067962505131512),\n",
       " (115, 0.3056079469033526),\n",
       " (127, 0.30517172842247264),\n",
       " (166, 0.3042583336719662),\n",
       " (340, 0.30193217612016676),\n",
       " (41, 0.30080228711227486),\n",
       " (126, 0.30042607072015004),\n",
       " (512, 0.30006703742391694),\n",
       " (165, 0.30002973747704975),\n",
       " (168, 0.2991874325000494),\n",
       " (384, 0.29884928602702643),\n",
       " (146, 0.29875909700989456),\n",
       " (164, 0.298564343562572),\n",
       " (382, 0.29765217312862857),\n",
       " (423, 0.29753650722643155),\n",
       " (84, 0.2971487820999661),\n",
       " (163, 0.2966486764047509),\n",
       " (296, 0.2963430813577892),\n",
       " (255, 0.29540347566727854),\n",
       " (513, 0.2952875756092008),\n",
       " (154, 0.29521842611102334),\n",
       " (125, 0.29463713377277934),\n",
       " (425, 0.29431642363448396),\n",
       " (254, 0.29414568055386114),\n",
       " (421, 0.29336570057852995),\n",
       " (523, 0.29225183509640984),\n",
       " (167, 0.29206821382815695),\n",
       " (511, 0.2909857958226141),\n",
       " (294, 0.2907505049510364),\n",
       " (422, 0.2906669926013976),\n",
       " (121, 0.2902174243768154),\n",
       " (39, 0.28967992405925935),\n",
       " (253, 0.28756257357892245),\n",
       " (290, 0.2874377034290816),\n",
       " (292, 0.2826265234455134),\n",
       " (162, 0.28191314530288514),\n",
       " (289, 0.28183677021133025),\n",
       " (35, 0.28166181516062005),\n",
       " (218, 0.28113513826415293),\n",
       " (383, 0.28090191073265025),\n",
       " (276, 0.27868474286704426),\n",
       " (295, 0.2785372843185765),\n",
       " (419, 0.27553053724289245),\n",
       " (315, 0.27385060705677455),\n",
       " (532, 0.2732653116300088),\n",
       " (547, 0.2727731787138805),\n",
       " (424, 0.27162627716704657),\n",
       " (161, 0.2712722233200653),\n",
       " (418, 0.27012240666735865),\n",
       " (58, 0.2681936967293741),\n",
       " (533, 0.2653211665036761),\n",
       " (92, 0.26455583144188144),\n",
       " (420, 0.2645156851862043),\n",
       " (17, 0.26316586752247395)]"
      ]
     },
     "execution_count": 23,
     "metadata": {},
     "output_type": "execute_result"
    }
   ],
   "source": [
    "#see results\n",
    "\n",
    "m"
   ]
  },
  {
   "cell_type": "markdown",
   "metadata": {},
   "source": [
    "We now have the 125 features with the highest mutual information. We can use these features to subset our original data set before using a step wise feature selection method called recursive feature elimination (RFE).\n",
    "\n",
    "Before moving to RFE, let's subset our features on the ones we selected."
   ]
  },
  {
   "cell_type": "code",
   "execution_count": 24,
   "metadata": {},
   "outputs": [
    {
     "data": {
      "text/html": [
       "<div>\n",
       "<style scoped>\n",
       "    .dataframe tbody tr th:only-of-type {\n",
       "        vertical-align: middle;\n",
       "    }\n",
       "\n",
       "    .dataframe tbody tr th {\n",
       "        vertical-align: top;\n",
       "    }\n",
       "\n",
       "    .dataframe thead th {\n",
       "        text-align: right;\n",
       "    }\n",
       "</style>\n",
       "<table border=\"1\" class=\"dataframe\">\n",
       "  <thead>\n",
       "    <tr style=\"text-align: right;\">\n",
       "      <th></th>\n",
       "      <th>357</th>\n",
       "      <th>155</th>\n",
       "      <th>143</th>\n",
       "      <th>584</th>\n",
       "      <th>376</th>\n",
       "      <th>166</th>\n",
       "      <th>124</th>\n",
       "      <th>131</th>\n",
       "      <th>377</th>\n",
       "      <th>219</th>\n",
       "      <th>...</th>\n",
       "      <th>560</th>\n",
       "      <th>587</th>\n",
       "      <th>447</th>\n",
       "      <th>170</th>\n",
       "      <th>441</th>\n",
       "      <th>58</th>\n",
       "      <th>561</th>\n",
       "      <th>95</th>\n",
       "      <th>443</th>\n",
       "      <th>17</th>\n",
       "    </tr>\n",
       "  </thead>\n",
       "  <tbody>\n",
       "    <tr>\n",
       "      <th>0</th>\n",
       "      <td>0.203201</td>\n",
       "      <td>-0.203907</td>\n",
       "      <td>-0.823328</td>\n",
       "      <td>-0.089278</td>\n",
       "      <td>0.002389</td>\n",
       "      <td>-0.166872</td>\n",
       "      <td>-0.302392</td>\n",
       "      <td>0.704207</td>\n",
       "      <td>0.055307</td>\n",
       "      <td>0.326860</td>\n",
       "      <td>...</td>\n",
       "      <td>-0.094124</td>\n",
       "      <td>0.127941</td>\n",
       "      <td>-0.118287</td>\n",
       "      <td>-1.211436</td>\n",
       "      <td>-1.191871</td>\n",
       "      <td>0.497086</td>\n",
       "      <td>-0.027531</td>\n",
       "      <td>-0.557033</td>\n",
       "      <td>-0.484273</td>\n",
       "      <td>0.099967</td>\n",
       "    </tr>\n",
       "    <tr>\n",
       "      <th>1</th>\n",
       "      <td>-0.386447</td>\n",
       "      <td>-0.237469</td>\n",
       "      <td>0.279585</td>\n",
       "      <td>-0.355759</td>\n",
       "      <td>1.123169</td>\n",
       "      <td>-0.608406</td>\n",
       "      <td>-0.744683</td>\n",
       "      <td>-1.153850</td>\n",
       "      <td>0.504585</td>\n",
       "      <td>-0.331345</td>\n",
       "      <td>...</td>\n",
       "      <td>0.048701</td>\n",
       "      <td>-0.256531</td>\n",
       "      <td>0.990386</td>\n",
       "      <td>0.361430</td>\n",
       "      <td>0.429895</td>\n",
       "      <td>-1.085006</td>\n",
       "      <td>0.544045</td>\n",
       "      <td>-1.506193</td>\n",
       "      <td>-1.042203</td>\n",
       "      <td>0.214363</td>\n",
       "    </tr>\n",
       "    <tr>\n",
       "      <th>2</th>\n",
       "      <td>0.006652</td>\n",
       "      <td>-0.229079</td>\n",
       "      <td>-2.083800</td>\n",
       "      <td>0.056075</td>\n",
       "      <td>0.375982</td>\n",
       "      <td>1.246035</td>\n",
       "      <td>-2.071555</td>\n",
       "      <td>0.571488</td>\n",
       "      <td>-1.067890</td>\n",
       "      <td>0.147350</td>\n",
       "      <td>...</td>\n",
       "      <td>-0.522597</td>\n",
       "      <td>0.204835</td>\n",
       "      <td>1.290749</td>\n",
       "      <td>-1.025075</td>\n",
       "      <td>-0.981764</td>\n",
       "      <td>-0.684255</td>\n",
       "      <td>-0.408390</td>\n",
       "      <td>1.341287</td>\n",
       "      <td>1.605176</td>\n",
       "      <td>0.031329</td>\n",
       "    </tr>\n",
       "    <tr>\n",
       "      <th>3</th>\n",
       "      <td>0.596300</td>\n",
       "      <td>-0.212298</td>\n",
       "      <td>-0.193092</td>\n",
       "      <td>-0.186181</td>\n",
       "      <td>0.749576</td>\n",
       "      <td>-0.608406</td>\n",
       "      <td>-0.390850</td>\n",
       "      <td>0.969643</td>\n",
       "      <td>-0.843250</td>\n",
       "      <td>0.685881</td>\n",
       "      <td>...</td>\n",
       "      <td>3.461252</td>\n",
       "      <td>1.665826</td>\n",
       "      <td>1.381205</td>\n",
       "      <td>0.885292</td>\n",
       "      <td>0.870354</td>\n",
       "      <td>-0.433351</td>\n",
       "      <td>1.158870</td>\n",
       "      <td>-0.557033</td>\n",
       "      <td>0.132240</td>\n",
       "      <td>0.588056</td>\n",
       "    </tr>\n",
       "    <tr>\n",
       "      <th>4</th>\n",
       "      <td>1.185947</td>\n",
       "      <td>-0.237469</td>\n",
       "      <td>-0.980887</td>\n",
       "      <td>-0.040827</td>\n",
       "      <td>0.375982</td>\n",
       "      <td>0.098048</td>\n",
       "      <td>-1.275432</td>\n",
       "      <td>-0.578737</td>\n",
       "      <td>0.504585</td>\n",
       "      <td>1.463760</td>\n",
       "      <td>...</td>\n",
       "      <td>-0.050324</td>\n",
       "      <td>-0.377364</td>\n",
       "      <td>0.855861</td>\n",
       "      <td>-0.107356</td>\n",
       "      <td>-0.051601</td>\n",
       "      <td>1.494896</td>\n",
       "      <td>0.434010</td>\n",
       "      <td>0.392127</td>\n",
       "      <td>-1.572237</td>\n",
       "      <td>0.107593</td>\n",
       "    </tr>\n",
       "  </tbody>\n",
       "</table>\n",
       "<p>5 rows × 125 columns</p>\n",
       "</div>"
      ],
      "text/plain": [
       "        357       155       143       584       376       166       124  \\\n",
       "0  0.203201 -0.203907 -0.823328 -0.089278  0.002389 -0.166872 -0.302392   \n",
       "1 -0.386447 -0.237469  0.279585 -0.355759  1.123169 -0.608406 -0.744683   \n",
       "2  0.006652 -0.229079 -2.083800  0.056075  0.375982  1.246035 -2.071555   \n",
       "3  0.596300 -0.212298 -0.193092 -0.186181  0.749576 -0.608406 -0.390850   \n",
       "4  1.185947 -0.237469 -0.980887 -0.040827  0.375982  0.098048 -1.275432   \n",
       "\n",
       "        131       377       219  ...       560       587       447       170  \\\n",
       "0  0.704207  0.055307  0.326860  ... -0.094124  0.127941 -0.118287 -1.211436   \n",
       "1 -1.153850  0.504585 -0.331345  ...  0.048701 -0.256531  0.990386  0.361430   \n",
       "2  0.571488 -1.067890  0.147350  ... -0.522597  0.204835  1.290749 -1.025075   \n",
       "3  0.969643 -0.843250  0.685881  ...  3.461252  1.665826  1.381205  0.885292   \n",
       "4 -0.578737  0.504585  1.463760  ... -0.050324 -0.377364  0.855861 -0.107356   \n",
       "\n",
       "        441       58        561       95        443       17   \n",
       "0 -1.191871  0.497086 -0.027531 -0.557033 -0.484273  0.099967  \n",
       "1  0.429895 -1.085006  0.544045 -1.506193 -1.042203  0.214363  \n",
       "2 -0.981764 -0.684255 -0.408390  1.341287  1.605176  0.031329  \n",
       "3  0.870354 -0.433351  1.158870 -0.557033  0.132240  0.588056  \n",
       "4 -0.051601  1.494896  0.434010  0.392127 -1.572237  0.107593  \n",
       "\n",
       "[5 rows x 125 columns]"
      ]
     },
     "execution_count": 24,
     "metadata": {},
     "output_type": "execute_result"
    }
   ],
   "source": [
    "X_col = [i[0] for i in m]\n",
    "X_train = X_train.iloc[:, X_col]\n",
    "X_train.head()"
   ]
  },
  {
   "cell_type": "code",
   "execution_count": 25,
   "metadata": {},
   "outputs": [],
   "source": [
    "#repeat for validation and test set\n",
    "\n",
    "X_valid = X_valid.iloc[:, X_col]\n",
    "X_test = X_test.iloc[:, X_col]"
   ]
  },
  {
   "cell_type": "markdown",
   "metadata": {},
   "source": [
    "We are going to use recursive feature selection (RFE) random forest classifier to choose the best features from our subsetted data set. RFE is a wrapper style feature selection method that discards less important features and repeatedly refits the model until the specified set of features remain. Because this process can be computationally expensive, we will set our cross validation parameter to just 3. \n",
    "\n",
    "After running RFE, we can output a chart that will inform us on the optimal number of features to use before classification accuracy drops off."
   ]
  },
  {
   "cell_type": "markdown",
   "metadata": {},
   "source": [
    "**Note: Long run time**"
   ]
  },
  {
   "cell_type": "code",
   "execution_count": 26,
   "metadata": {},
   "outputs": [
    {
     "data": {
      "text/plain": [
       "RFECV(cv=StratifiedKFold(n_splits=3, random_state=None, shuffle=False),\n",
       "      estimator=RandomForestClassifier(), scoring='f1_weighted')"
      ]
     },
     "execution_count": 26,
     "metadata": {},
     "output_type": "execute_result"
    }
   ],
   "source": [
    "#initialize random forest classifier\n",
    "#set cvs and performance metric\n",
    "#fit\n",
    "\n",
    "from sklearn.ensemble import RandomForestClassifier\n",
    "from sklearn.model_selection import StratifiedKFold\n",
    "from sklearn.feature_selection import RFECV\n",
    "\n",
    "rfc = RandomForestClassifier()\n",
    "rfecv = RFECV(estimator=rfc, step=1, cv=StratifiedKFold(3), scoring='f1_weighted')\n",
    "rfecv.fit(X_train, y_train)"
   ]
  },
  {
   "cell_type": "markdown",
   "metadata": {},
   "source": [
    "We can now visualize the optimal number of features and then drop the least important set."
   ]
  },
  {
   "cell_type": "code",
   "execution_count": 27,
   "metadata": {},
   "outputs": [
    {
     "data": {
      "image/png": "[encoded data removed]",
      "text/plain": [
       "<Figure size 864x576 with 1 Axes>"
      ]
     },
     "metadata": {
      "needs_background": "light"
     },
     "output_type": "display_data"
    }
   ],
   "source": [
    "plt.figure(figsize=(12, 8))\n",
    "plt.title('Recursive Feature Elimination with Cross-Validation', fontsize=18, pad=20)\n",
    "plt.xlabel('Number of features selected', fontsize=14, labelpad=20)\n",
    "plt.ylabel('% Correct Classification', fontsize=14, labelpad=20)\n",
    "plt.plot(range(1, len(rfecv.grid_scores_) + 1), rfecv.grid_scores_, color='#303F9F', linewidth=3)\n",
    "\n",
    "plt.show()"
   ]
  },
  {
   "cell_type": "code",
   "execution_count": 28,
   "metadata": {},
   "outputs": [
    {
     "name": "stdout",
     "output_type": "stream",
     "text": [
      "[ 20  22  39  43  47  48  67  68  70  71  78  82  84  86  94  98 100 101\n",
      " 103 104 107 108 119 124]\n"
     ]
    }
   ],
   "source": [
    "#output unimportant features\n",
    "\n",
    "print(np.where(rfecv.support_ == False)[0])"
   ]
  },
  {
   "cell_type": "markdown",
   "metadata": {},
   "source": [
    "The array above shows 19 sensors that RFE did not find to be predictive. We can now subset our data sets on the remaining features."
   ]
  },
  {
   "cell_type": "code",
   "execution_count": 29,
   "metadata": {},
   "outputs": [],
   "source": [
    "#store important features in RFE_col\n",
    "\n",
    "back_features = pd.DataFrame(rfecv.support_)\n",
    "sel_back = back_features[0].loc[back_features[0] == True]\n",
    "RFE_col = sel_back.index.tolist()"
   ]
  },
  {
   "cell_type": "code",
   "execution_count": 30,
   "metadata": {},
   "outputs": [],
   "source": [
    "#subset train, valid, test sets\n",
    "\n",
    "X_train = X_train.iloc[:, RFE_col]\n",
    "X_valid = X_valid.iloc[:, RFE_col]\n",
    "X_test = X_test.iloc[:, RFE_col]"
   ]
  },
  {
   "cell_type": "markdown",
   "metadata": {},
   "source": [
    "We can now output the results and see which features RFE chose for us."
   ]
  },
  {
   "cell_type": "code",
   "execution_count": 31,
   "metadata": {
    "scrolled": true
   },
   "outputs": [
    {
     "data": {
      "text/html": [
       "<div>\n",
       "<style scoped>\n",
       "    .dataframe tbody tr th:only-of-type {\n",
       "        vertical-align: middle;\n",
       "    }\n",
       "\n",
       "    .dataframe tbody tr th {\n",
       "        vertical-align: top;\n",
       "    }\n",
       "\n",
       "    .dataframe thead th {\n",
       "        text-align: right;\n",
       "    }\n",
       "</style>\n",
       "<table border=\"1\" class=\"dataframe\">\n",
       "  <thead>\n",
       "    <tr style=\"text-align: right;\">\n",
       "      <th></th>\n",
       "      <th>357</th>\n",
       "      <th>155</th>\n",
       "      <th>143</th>\n",
       "      <th>584</th>\n",
       "      <th>376</th>\n",
       "      <th>166</th>\n",
       "      <th>124</th>\n",
       "      <th>131</th>\n",
       "      <th>377</th>\n",
       "      <th>219</th>\n",
       "      <th>...</th>\n",
       "      <th>442</th>\n",
       "      <th>331</th>\n",
       "      <th>560</th>\n",
       "      <th>587</th>\n",
       "      <th>447</th>\n",
       "      <th>170</th>\n",
       "      <th>58</th>\n",
       "      <th>561</th>\n",
       "      <th>95</th>\n",
       "      <th>443</th>\n",
       "    </tr>\n",
       "  </thead>\n",
       "  <tbody>\n",
       "    <tr>\n",
       "      <th>0</th>\n",
       "      <td>0.203201</td>\n",
       "      <td>-0.203907</td>\n",
       "      <td>-0.823328</td>\n",
       "      <td>-0.089278</td>\n",
       "      <td>0.002389</td>\n",
       "      <td>-0.166872</td>\n",
       "      <td>-0.302392</td>\n",
       "      <td>0.704207</td>\n",
       "      <td>0.055307</td>\n",
       "      <td>0.326860</td>\n",
       "      <td>...</td>\n",
       "      <td>-0.786655</td>\n",
       "      <td>0.313557</td>\n",
       "      <td>-0.094124</td>\n",
       "      <td>0.127941</td>\n",
       "      <td>-0.118287</td>\n",
       "      <td>-1.211436</td>\n",
       "      <td>0.497086</td>\n",
       "      <td>-0.027531</td>\n",
       "      <td>-0.557033</td>\n",
       "      <td>-0.484273</td>\n",
       "    </tr>\n",
       "    <tr>\n",
       "      <th>1</th>\n",
       "      <td>-0.386447</td>\n",
       "      <td>-0.237469</td>\n",
       "      <td>0.279585</td>\n",
       "      <td>-0.355759</td>\n",
       "      <td>1.123169</td>\n",
       "      <td>-0.608406</td>\n",
       "      <td>-0.744683</td>\n",
       "      <td>-1.153850</td>\n",
       "      <td>0.504585</td>\n",
       "      <td>-0.331345</td>\n",
       "      <td>...</td>\n",
       "      <td>-0.168723</td>\n",
       "      <td>0.189876</td>\n",
       "      <td>0.048701</td>\n",
       "      <td>-0.256531</td>\n",
       "      <td>0.990386</td>\n",
       "      <td>0.361430</td>\n",
       "      <td>-1.085006</td>\n",
       "      <td>0.544045</td>\n",
       "      <td>-1.506193</td>\n",
       "      <td>-1.042203</td>\n",
       "    </tr>\n",
       "    <tr>\n",
       "      <th>2</th>\n",
       "      <td>0.006652</td>\n",
       "      <td>-0.229079</td>\n",
       "      <td>-2.083800</td>\n",
       "      <td>0.056075</td>\n",
       "      <td>0.375982</td>\n",
       "      <td>1.246035</td>\n",
       "      <td>-2.071555</td>\n",
       "      <td>0.571488</td>\n",
       "      <td>-1.067890</td>\n",
       "      <td>0.147350</td>\n",
       "      <td>...</td>\n",
       "      <td>-0.617990</td>\n",
       "      <td>-0.080496</td>\n",
       "      <td>-0.522597</td>\n",
       "      <td>0.204835</td>\n",
       "      <td>1.290749</td>\n",
       "      <td>-1.025075</td>\n",
       "      <td>-0.684255</td>\n",
       "      <td>-0.408390</td>\n",
       "      <td>1.341287</td>\n",
       "      <td>1.605176</td>\n",
       "    </tr>\n",
       "    <tr>\n",
       "      <th>3</th>\n",
       "      <td>0.596300</td>\n",
       "      <td>-0.212298</td>\n",
       "      <td>-0.193092</td>\n",
       "      <td>-0.186181</td>\n",
       "      <td>0.749576</td>\n",
       "      <td>-0.608406</td>\n",
       "      <td>-0.390850</td>\n",
       "      <td>0.969643</td>\n",
       "      <td>-0.843250</td>\n",
       "      <td>0.685881</td>\n",
       "      <td>...</td>\n",
       "      <td>-0.185665</td>\n",
       "      <td>0.176933</td>\n",
       "      <td>3.461252</td>\n",
       "      <td>1.665826</td>\n",
       "      <td>1.381205</td>\n",
       "      <td>0.885292</td>\n",
       "      <td>-0.433351</td>\n",
       "      <td>1.158870</td>\n",
       "      <td>-0.557033</td>\n",
       "      <td>0.132240</td>\n",
       "    </tr>\n",
       "    <tr>\n",
       "      <th>4</th>\n",
       "      <td>1.185947</td>\n",
       "      <td>-0.237469</td>\n",
       "      <td>-0.980887</td>\n",
       "      <td>-0.040827</td>\n",
       "      <td>0.375982</td>\n",
       "      <td>0.098048</td>\n",
       "      <td>-1.275432</td>\n",
       "      <td>-0.578737</td>\n",
       "      <td>0.504585</td>\n",
       "      <td>1.463760</td>\n",
       "      <td>...</td>\n",
       "      <td>-0.052549</td>\n",
       "      <td>0.017298</td>\n",
       "      <td>-0.050324</td>\n",
       "      <td>-0.377364</td>\n",
       "      <td>0.855861</td>\n",
       "      <td>-0.107356</td>\n",
       "      <td>1.494896</td>\n",
       "      <td>0.434010</td>\n",
       "      <td>0.392127</td>\n",
       "      <td>-1.572237</td>\n",
       "    </tr>\n",
       "  </tbody>\n",
       "</table>\n",
       "<p>5 rows × 101 columns</p>\n",
       "</div>"
      ],
      "text/plain": [
       "        357       155       143       584       376       166       124  \\\n",
       "0  0.203201 -0.203907 -0.823328 -0.089278  0.002389 -0.166872 -0.302392   \n",
       "1 -0.386447 -0.237469  0.279585 -0.355759  1.123169 -0.608406 -0.744683   \n",
       "2  0.006652 -0.229079 -2.083800  0.056075  0.375982  1.246035 -2.071555   \n",
       "3  0.596300 -0.212298 -0.193092 -0.186181  0.749576 -0.608406 -0.390850   \n",
       "4  1.185947 -0.237469 -0.980887 -0.040827  0.375982  0.098048 -1.275432   \n",
       "\n",
       "        131       377       219  ...       442       331       560       587  \\\n",
       "0  0.704207  0.055307  0.326860  ... -0.786655  0.313557 -0.094124  0.127941   \n",
       "1 -1.153850  0.504585 -0.331345  ... -0.168723  0.189876  0.048701 -0.256531   \n",
       "2  0.571488 -1.067890  0.147350  ... -0.617990 -0.080496 -0.522597  0.204835   \n",
       "3  0.969643 -0.843250  0.685881  ... -0.185665  0.176933  3.461252  1.665826   \n",
       "4 -0.578737  0.504585  1.463760  ... -0.052549  0.017298 -0.050324 -0.377364   \n",
       "\n",
       "        447       170       58        561       95        443  \n",
       "0 -0.118287 -1.211436  0.497086 -0.027531 -0.557033 -0.484273  \n",
       "1  0.990386  0.361430 -1.085006  0.544045 -1.506193 -1.042203  \n",
       "2  1.290749 -1.025075 -0.684255 -0.408390  1.341287  1.605176  \n",
       "3  1.381205  0.885292 -0.433351  1.158870 -0.557033  0.132240  \n",
       "4  0.855861 -0.107356  1.494896  0.434010  0.392127 -1.572237  \n",
       "\n",
       "[5 rows x 101 columns]"
      ]
     },
     "execution_count": 31,
     "metadata": {},
     "output_type": "execute_result"
    }
   ],
   "source": [
    "#display new data frame\n",
    "X_train.head()"
   ]
  },
  {
   "cell_type": "markdown",
   "metadata": {},
   "source": [
    "### Initial Models\n",
    "\n",
    "We are ready to begin modeling. We will begin by building a decision tree classifier before moving to random forest and SVM classifiers. The decision tree classifier will give us more intuition about the decision making within the model, where the most important splits are, and more information about the non linear relationships within the data set."
   ]
  },
  {
   "cell_type": "markdown",
   "metadata": {},
   "source": [
    "#### Decision Tree\n",
    "\n",
    "Below, we trained a classifier using a greedy approach to parameter tuning. We incremented the max leaf node parameter by 1 until performance dropped off before using the same approach on the minimum sample leaf and split parameters. This left us with the parameters shown in the code block below."
   ]
  },
  {
   "cell_type": "code",
   "execution_count": 32,
   "metadata": {},
   "outputs": [
    {
     "name": "stdout",
     "output_type": "stream",
     "text": [
      "Decision Tree accuracy on training set: 79.4%\n",
      "Decision Tree accuracy on validation set: 80.9%\n"
     ]
    }
   ],
   "source": [
    "#train decision tree\n",
    "#predict on train and val\n",
    "#print accuracy on both\n",
    "\n",
    "from sklearn.tree import DecisionTreeClassifier\n",
    "from sklearn.metrics import accuracy_score\n",
    "\n",
    "dtree = DecisionTreeClassifier(min_samples_leaf = 2, max_leaf_nodes = 8, \n",
    "                               min_samples_split = 2, class_weight = 'balanced').fit(X_train, y_train)\n",
    "\n",
    "y_dtree_train = dtree.predict(X_train) \n",
    "y_dtree_valid = dtree.predict(X_valid) \n",
    "\n",
    "print(\"Decision Tree accuracy on training set: {:.1f}%\".format(accuracy_score(y_train, y_dtree_train)*100))\n",
    "print(\"Decision Tree accuracy on validation set: {:.1f}%\".format(accuracy_score(y_valid, y_dtree_valid)*100))"
   ]
  },
  {
   "cell_type": "markdown",
   "metadata": {},
   "source": [
    "Surprisingly, our validation accuracy was higher than our accuracy on the training set. To understand what is happening under the hood, we need to visualize our decision tree and then look at the precision and recall to get a better sense of how the model is classifying the positive cases."
   ]
  },
  {
   "cell_type": "code",
   "execution_count": 33,
   "metadata": {},
   "outputs": [
    {
     "data": {
      "image/png": "[encoded data removed]",
      "text/plain": [
       "<Figure size 1440x1080 with 1 Axes>"
      ]
     },
     "metadata": {
      "needs_background": "light"
     },
     "output_type": "display_data"
    }
   ],
   "source": [
    "#plot decision tree\n",
    "\n",
    "from sklearn import tree\n",
    "import matplotlib.pyplot as plt\n",
    "\n",
    "fig = plt.figure(figsize=(20, 15)) \n",
    "tree.plot_tree(dtree,\n",
    "               feature_names=X.columns,  \n",
    "               class_names=['1', '-1'],\n",
    "               filled=True);"
   ]
  },
  {
   "cell_type": "markdown",
   "metadata": {},
   "source": [
    "To understand the decision tree, we begin with the root node. This classifier uses the gini coefficient to determine each split. Notice how at the root node, we can see the highest gini coefficient of any node in the tree. This means that the feature identified in the root node is the most important according to our model. From this node, the model divides the classes evenly. The left split becomes a leaf/terminal node, where no further splits are made indicating that the model has made a final decision on these particular observations. The right split sends the rest of the observations down a deep path to figuring out which class they stand in.\n",
    "\n",
    "With this understanding, we can now move onto getting a precision and recall score from our model. The purpose of both metrics is to better understand how our model is classifying the positive class."
   ]
  },
  {
   "cell_type": "code",
   "execution_count": 34,
   "metadata": {},
   "outputs": [
    {
     "name": "stdout",
     "output_type": "stream",
     "text": [
      "Precision on training data: 81.1%.\n",
      "Recall on training data: 76.6%.\n",
      "\n",
      "Precision on validation data: 18.8%.\n",
      "Recall on validation data: 60.0%.\n"
     ]
    }
   ],
   "source": [
    "#print precision/recall for train-val\n",
    "\n",
    "from sklearn.metrics import precision_score\n",
    "from sklearn.metrics import recall_score\n",
    "\n",
    "precision_train = precision_score(y_train, y_dtree_train, pos_label = 1) * 100\n",
    "precision_valid = precision_score(y_valid, y_dtree_valid, pos_label = 1) * 100\n",
    "recall_train = recall_score(y_train, y_dtree_train, pos_label = 1) * 100\n",
    "recall_valid = recall_score(y_valid, y_dtree_valid, pos_label = 1) * 100\n",
    "\n",
    "print(\"Precision on training data: {:.1f}%.\".format(precision_train))\n",
    "print(\"Recall on training data: {:.1f}%.\\n\".format(recall_train))\n",
    "print(\"Precision on validation data: {:.1f}%.\".format(precision_valid))\n",
    "print(\"Recall on validation data: {:.1f}%.\".format(recall_valid))"
   ]
  },
  {
   "cell_type": "code",
   "execution_count": 35,
   "metadata": {},
   "outputs": [
    {
     "data": {
      "image/png": "[encoded data removed]",
      "text/plain": [
       "<Figure size 432x288 with 2 Axes>"
      ]
     },
     "metadata": {
      "needs_background": "light"
     },
     "output_type": "display_data"
    }
   ],
   "source": [
    "from sklearn.metrics import plot_confusion_matrix\n",
    "\n",
    "plot_confusion_matrix(dtree, X_valid, y_valid);"
   ]
  },
  {
   "cell_type": "code",
   "execution_count": 36,
   "metadata": {},
   "outputs": [
    {
     "name": "stdout",
     "output_type": "stream",
     "text": [
      "Training AUC: 79.4%.\n",
      "Validation AUC: 71.2%.\n"
     ]
    }
   ],
   "source": [
    "from sklearn.metrics import roc_auc_score\n",
    "\n",
    "print(\"Training AUC: {:.1f}%.\".format(roc_auc_score(y_train, y_dtree_train)*100))\n",
    "print(\"Validation AUC: {:.1f}%.\".format(roc_auc_score(y_valid, y_dtree_valid)*100))"
   ]
  },
  {
   "cell_type": "markdown",
   "metadata": {},
   "source": [
    "The results above tell us that the model is over fitting to the training set. Both precision and recall drop off from train to validation, primarily due to class imbalance.\n",
    "\n",
    "Let's implement a random forest next to see if we can get a more robust model. Random forest is less likely to overfit because it uses many small decision trees rather than only one to make its predictions. We will begin with a grid search to choose the optimal parameters for the model. The code block below has been commented out due to run time."
   ]
  },
  {
   "cell_type": "markdown",
   "metadata": {},
   "source": [
    "#### Random Forest"
   ]
  },
  {
   "cell_type": "code",
   "execution_count": 37,
   "metadata": {
    "scrolled": true
   },
   "outputs": [],
   "source": [
    "#set parameter grid\n",
    "#initialize rf regressor\n",
    "#perform grid search - 2 cvs\n",
    "#print best parameters\n",
    "\n",
    "from sklearn.ensemble import RandomForestRegressor\n",
    "from sklearn.model_selection import GridSearchCV\n",
    "\n",
    "#param_grid = {\n",
    "#    'bootstrap': [True],\n",
    "#    'max_depth': [10, None],\n",
    "#    'max_features': [10, 12],\n",
    "#    'n_estimators': [800, 1000]\n",
    "#}\n",
    "\n",
    "#rf = RandomForestRegressor()\n",
    "#grid_search = GridSearchCV(estimator = rf, param_grid = param_grid, \n",
    "#                          cv = 2, n_jobs = -1, verbose = 2)\n",
    "\n",
    "#grid_search.fit(X_train, y_train)\n",
    "#grid_search.best_params_"
   ]
  },
  {
   "cell_type": "markdown",
   "metadata": {},
   "source": [
    "We can now use the parameters specified by the grid search to train our random forest classifier."
   ]
  },
  {
   "cell_type": "code",
   "execution_count": 38,
   "metadata": {},
   "outputs": [
    {
     "name": "stderr",
     "output_type": "stream",
     "text": [
      "[Parallel(n_jobs=1)]: Using backend SequentialBackend with 1 concurrent workers.\n",
      "[Parallel(n_jobs=1)]: Done 1000 out of 1000 | elapsed:   23.5s finished\n"
     ]
    }
   ],
   "source": [
    "#use optimal parameters from grid search\n",
    "#run rf classifier\n",
    "\n",
    "from sklearn.ensemble import RandomForestClassifier\n",
    "\n",
    "hypers = {\"n_estimators\": 1000, \"max_features\": 12, \"max_depth\": None, \n",
    "          \"min_samples_leaf\": 2, \"min_samples_split\": 2}\n",
    "clf_rf = RandomForestClassifier(class_weight = 'balanced',\n",
    "                                verbose = True, **hypers).fit(X_train, y_train)"
   ]
  },
  {
   "cell_type": "code",
   "execution_count": 39,
   "metadata": {},
   "outputs": [
    {
     "name": "stderr",
     "output_type": "stream",
     "text": [
      "[Parallel(n_jobs=1)]: Using backend SequentialBackend with 1 concurrent workers.\n"
     ]
    },
    {
     "name": "stdout",
     "output_type": "stream",
     "text": [
      "Train set random forest accuracy: 100.00%\n",
      "Validation set random forest accuracy: 94.27%\n"
     ]
    },
    {
     "name": "stderr",
     "output_type": "stream",
     "text": [
      "[Parallel(n_jobs=1)]: Done 1000 out of 1000 | elapsed:    0.3s finished\n",
      "[Parallel(n_jobs=1)]: Using backend SequentialBackend with 1 concurrent workers.\n",
      "[Parallel(n_jobs=1)]: Done 1000 out of 1000 | elapsed:    0.0s finished\n"
     ]
    }
   ],
   "source": [
    "#predict on train-val\n",
    "#print accuracy\n",
    "\n",
    "y_hat_train_rf = clf_rf.predict(X_train)\n",
    "y_hat_valid_rf = clf_rf.predict(X_valid)\n",
    "\n",
    "acc_train_rf = accuracy_score(y_train, y_hat_train_rf)\n",
    "acc_val_rf = accuracy_score(y_valid, y_hat_valid_rf)\n",
    "\n",
    "print('Train set random forest accuracy: {:.2f}%'.format(acc_train_rf * 100))\n",
    "print('Validation set random forest accuracy: {:.2f}%'.format(acc_val_rf * 100))"
   ]
  },
  {
   "cell_type": "markdown",
   "metadata": {},
   "source": [
    "We got much better accuracy on both the training and validation sets, as expected. Let's check our precision, recall, and output the AUC of this model."
   ]
  },
  {
   "cell_type": "code",
   "execution_count": 40,
   "metadata": {},
   "outputs": [
    {
     "name": "stdout",
     "output_type": "stream",
     "text": [
      "Precision on training data: 100.0%\n",
      "Recall on training data: 100.0% \n",
      "\n",
      "Precision on validation data: 60.0%\n",
      "Recall on validation data: 30.0%\n"
     ]
    }
   ],
   "source": [
    "#print precision/recall\n",
    "\n",
    "precision_train_rf = precision_score(y_train, y_hat_train_rf, pos_label = 1) * 100\n",
    "precision_valid_rf = precision_score(y_valid, y_hat_valid_rf, pos_label = 1) * 100\n",
    "recall_train_rf = recall_score(y_train, y_hat_train_rf, pos_label = 1) * 100\n",
    "recall_valid_rf = recall_score(y_valid, y_hat_valid_rf, pos_label = 1) * 100\n",
    "\n",
    "print(\"Precision on training data: {:.1f}%\".format(precision_train_rf))\n",
    "print(\"Recall on training data: {:.1f}% \\n\".format(recall_train_rf))\n",
    "print(\"Precision on validation data: {:.1f}%\".format(precision_valid_rf))\n",
    "print(\"Recall on validation data: {:.1f}%\".format(recall_valid_rf))"
   ]
  },
  {
   "cell_type": "code",
   "execution_count": 41,
   "metadata": {},
   "outputs": [
    {
     "name": "stderr",
     "output_type": "stream",
     "text": [
      "[Parallel(n_jobs=1)]: Using backend SequentialBackend with 1 concurrent workers.\n",
      "[Parallel(n_jobs=1)]: Done 1000 out of 1000 | elapsed:    0.0s finished\n"
     ]
    },
    {
     "data": {
      "image/png": "[encoded data removed]",
      "text/plain": [
       "<Figure size 432x288 with 2 Axes>"
      ]
     },
     "metadata": {
      "needs_background": "light"
     },
     "output_type": "display_data"
    }
   ],
   "source": [
    "plot_confusion_matrix(clf_rf, X_valid, y_valid);"
   ]
  },
  {
   "cell_type": "code",
   "execution_count": 42,
   "metadata": {},
   "outputs": [
    {
     "name": "stdout",
     "output_type": "stream",
     "text": [
      "Training AUC: 100.0%.\n",
      "Validation AUC: 64.3%.\n"
     ]
    }
   ],
   "source": [
    "print(\"Training AUC: {:.1f}%.\".format(roc_auc_score(y_train, y_hat_train_rf)*100))\n",
    "print(\"Validation AUC: {:.1f}%.\".format(roc_auc_score(y_valid, y_hat_valid_rf)*100))"
   ]
  },
  {
   "cell_type": "markdown",
   "metadata": {},
   "source": [
    "Once again, we are seeing a large drop from train to validation sets. This model however, is more precise than the decision tree, but was unable to identify 7 out of the 10 positive cases.\n",
    "\n",
    "Let's see what features the model is highlighting by looking at a feature importance table. We can use this to compare it with our original decision tree to see how it might differ."
   ]
  },
  {
   "cell_type": "code",
   "execution_count": 43,
   "metadata": {
    "scrolled": true
   },
   "outputs": [
    {
     "data": {
      "text/html": [
       "<div>\n",
       "<style scoped>\n",
       "    .dataframe tbody tr th:only-of-type {\n",
       "        vertical-align: middle;\n",
       "    }\n",
       "\n",
       "    .dataframe tbody tr th {\n",
       "        vertical-align: top;\n",
       "    }\n",
       "\n",
       "    .dataframe thead th {\n",
       "        text-align: right;\n",
       "    }\n",
       "</style>\n",
       "<table border=\"1\" class=\"dataframe\">\n",
       "  <thead>\n",
       "    <tr style=\"text-align: right;\">\n",
       "      <th></th>\n",
       "      <th>feature</th>\n",
       "      <th>importance</th>\n",
       "    </tr>\n",
       "  </thead>\n",
       "  <tbody>\n",
       "    <tr>\n",
       "      <th>11</th>\n",
       "      <td>121</td>\n",
       "      <td>0.041079</td>\n",
       "    </tr>\n",
       "    <tr>\n",
       "      <th>57</th>\n",
       "      <td>33</td>\n",
       "      <td>0.030135</td>\n",
       "    </tr>\n",
       "    <tr>\n",
       "      <th>46</th>\n",
       "      <td>130</td>\n",
       "      <td>0.027720</td>\n",
       "    </tr>\n",
       "    <tr>\n",
       "      <th>39</th>\n",
       "      <td>101</td>\n",
       "      <td>0.026598</td>\n",
       "    </tr>\n",
       "    <tr>\n",
       "      <th>8</th>\n",
       "      <td>377</td>\n",
       "      <td>0.026264</td>\n",
       "    </tr>\n",
       "  </tbody>\n",
       "</table>\n",
       "</div>"
      ],
      "text/plain": [
       "   feature  importance\n",
       "11     121    0.041079\n",
       "57      33    0.030135\n",
       "46     130    0.027720\n",
       "39     101    0.026598\n",
       "8      377    0.026264"
      ]
     },
     "execution_count": 43,
     "metadata": {},
     "output_type": "execute_result"
    }
   ],
   "source": [
    "#display top 5 features from rf\n",
    "\n",
    "var_imp = pd.DataFrame({\"feature\": X_train.columns, \"importance\": clf_rf.feature_importances_})\n",
    "var_imp.sort_values(by = 'importance', ascending = False).head(5)"
   ]
  },
  {
   "cell_type": "markdown",
   "metadata": {},
   "source": [
    "Some differences, but the top feature is the same in both the decision tree and random forest, as we might expect."
   ]
  },
  {
   "cell_type": "markdown",
   "metadata": {},
   "source": [
    "#### Support Vector Machine\n",
    "\n",
    "Next, we can try an SVM before finalizing a model. We should expect the SVM to perform fairly well on sparse data with class imbalance such as what we have. Let's see how it performs."
   ]
  },
  {
   "cell_type": "code",
   "execution_count": 44,
   "metadata": {},
   "outputs": [
    {
     "name": "stdout",
     "output_type": "stream",
     "text": [
      "Train set svm accuracy: 99.83%\n",
      "Validation set svm accuracy: 95.54%\n"
     ]
    }
   ],
   "source": [
    "#initialize svm\n",
    "#predict on train, validation\n",
    "#print accuracy\n",
    "\n",
    "from sklearn.svm import SVC\n",
    "\n",
    "svmc = SVC(C = 1.2, gamma = 'scale', kernel = 'rbf', class_weight = 'balanced')\n",
    "svmc.fit(X_train, y_train)\n",
    "\n",
    "y_hat_train_svm = svmc.predict(X_train)\n",
    "y_hat_valid_svm = svmc.predict(X_valid)\n",
    "\n",
    "acc_train_svm = accuracy_score(y_train, y_hat_train_svm)\n",
    "acc_val_svm = accuracy_score(y_valid, y_hat_valid_svm)\n",
    "\n",
    "print('Train set svm accuracy: {:.2f}%'.format(acc_train_svm * 100))\n",
    "print('Validation set svm accuracy: {:.2f}%'.format(acc_val_svm * 100))"
   ]
  },
  {
   "cell_type": "markdown",
   "metadata": {},
   "source": [
    "The SVM has a higher validation set accuracy than the random forest did. This should translate into better precision and recall as well. Let's check this and then finalize an initial model."
   ]
  },
  {
   "cell_type": "code",
   "execution_count": 45,
   "metadata": {},
   "outputs": [
    {
     "name": "stdout",
     "output_type": "stream",
     "text": [
      "Precision on training data: 99.7%\n",
      "Recall on training data: 100.0% \n",
      "\n",
      "Precision on validation data: 66.7%\n",
      "Recall on validation data: 60.0%\n"
     ]
    }
   ],
   "source": [
    "precision_train_svm = precision_score(y_train, y_hat_train_svm, pos_label = 1) * 100\n",
    "precision_valid_svm = precision_score(y_valid, y_hat_valid_svm, pos_label = 1) * 100\n",
    "recall_train_svm = recall_score(y_train, y_hat_train_svm, pos_label = 1) * 100\n",
    "recall_valid_svm = recall_score(y_valid, y_hat_valid_svm, pos_label = 1) * 100\n",
    "\n",
    "print(\"Precision on training data: {:.1f}%\".format(precision_train_svm))\n",
    "print(\"Recall on training data: {:.1f}% \\n\".format(recall_train_svm))\n",
    "print(\"Precision on validation data: {:.1f}%\".format(precision_valid_svm))\n",
    "print(\"Recall on validation data: {:.1f}%\".format(recall_valid_svm))"
   ]
  },
  {
   "cell_type": "code",
   "execution_count": 46,
   "metadata": {},
   "outputs": [
    {
     "data": {
      "image/png": "[encoded data removed]",
      "text/plain": [
       "<Figure size 432x288 with 2 Axes>"
      ]
     },
     "metadata": {
      "needs_background": "light"
     },
     "output_type": "display_data"
    }
   ],
   "source": [
    "plot_confusion_matrix(svmc, X_valid, y_valid);"
   ]
  },
  {
   "cell_type": "code",
   "execution_count": 47,
   "metadata": {},
   "outputs": [
    {
     "name": "stdout",
     "output_type": "stream",
     "text": [
      "Training AUC: 99.8%.\n",
      "Validation AUC: 79.0%.\n"
     ]
    }
   ],
   "source": [
    "print(\"Training AUC: {:.1f}%.\".format(roc_auc_score(y_train, y_hat_train_svm)*100))\n",
    "print(\"Validation AUC: {:.1f}%.\".format(roc_auc_score(y_valid, y_hat_valid_svm)*100))"
   ]
  },
  {
   "cell_type": "markdown",
   "metadata": {},
   "source": [
    "The SVM performed the best out of the benchmark models on the validation set, achieving 67% precision and 60% recall, outperforming the random forest on both metrics. SVMs perform quite well on sparse data sets, so this is unsurprising. With a 79% AUC, we can be quite satisfied with our best benchmark model, as we move onto building our neural networks. If they cannot score better than the SVM, our decision on the final model will be simple."
   ]
  },
  {
   "cell_type": "markdown",
   "metadata": {},
   "source": [
    "### Final Models"
   ]
  },
  {
   "cell_type": "markdown",
   "metadata": {},
   "source": [
    "#### Fully Connected MLP Classifier\n",
    "\n",
    "We'll begin by using a simple MLP (Multi-layer Perceptron) Classifier in Sklearn. The parameters below have been optimized using a greedy approach and testing on the validation set. We iterated on activation functions, depth of architecture, epochs, and different solvers optimizing for the log-loss function (cross entropy loss in our case)."
   ]
  },
  {
   "cell_type": "code",
   "execution_count": 48,
   "metadata": {
    "scrolled": true
   },
   "outputs": [
    {
     "name": "stdout",
     "output_type": "stream",
     "text": [
      "Iteration 1, loss = 0.65959340\n",
      "Iteration 2, loss = 0.53098084\n",
      "Iteration 3, loss = 0.45681450\n",
      "Iteration 4, loss = 0.39989936\n",
      "Iteration 5, loss = 0.35044127\n",
      "Iteration 6, loss = 0.30878084\n",
      "Iteration 7, loss = 0.27059346\n",
      "Iteration 8, loss = 0.23540713\n",
      "Iteration 9, loss = 0.20346604\n",
      "Iteration 10, loss = 0.17548077\n",
      "Iteration 11, loss = 0.15124649\n",
      "Iteration 12, loss = 0.12961620\n",
      "Iteration 13, loss = 0.11083784\n",
      "Iteration 14, loss = 0.09441975\n",
      "Iteration 15, loss = 0.08157427\n",
      "Iteration 16, loss = 0.06986265\n",
      "Iteration 17, loss = 0.05962337\n",
      "Iteration 18, loss = 0.05120206\n",
      "Iteration 19, loss = 0.04481404\n",
      "Iteration 20, loss = 0.03878737\n",
      "Iteration 21, loss = 0.03320420\n",
      "Iteration 22, loss = 0.02929438\n",
      "Iteration 23, loss = 0.02531880\n",
      "Iteration 24, loss = 0.02237705\n",
      "Iteration 25, loss = 0.01972432\n",
      "Iteration 26, loss = 0.01748274\n",
      "Iteration 27, loss = 0.01563463\n",
      "Iteration 28, loss = 0.01413094\n",
      "Iteration 29, loss = 0.01274398\n",
      "Iteration 30, loss = 0.01121874\n",
      "Iteration 31, loss = 0.01021221\n",
      "Iteration 32, loss = 0.00922712\n",
      "Iteration 33, loss = 0.00845324\n",
      "Iteration 34, loss = 0.00764323\n",
      "Iteration 35, loss = 0.00701279\n",
      "Iteration 36, loss = 0.00646183\n",
      "Iteration 37, loss = 0.00595952\n",
      "Iteration 38, loss = 0.00550617\n",
      "Iteration 39, loss = 0.00508371\n",
      "Iteration 40, loss = 0.00472802\n",
      "Iteration 41, loss = 0.00440212\n",
      "Iteration 42, loss = 0.00411565\n",
      "Iteration 43, loss = 0.00384587\n",
      "Iteration 44, loss = 0.00360401\n",
      "Iteration 45, loss = 0.00337996\n",
      "Iteration 46, loss = 0.00317897\n",
      "Iteration 47, loss = 0.00301654\n",
      "Iteration 48, loss = 0.00282467\n",
      "Iteration 49, loss = 0.00267653\n",
      "Iteration 50, loss = 0.00252071\n",
      "Iteration 51, loss = 0.00240137\n",
      "Iteration 52, loss = 0.00227863\n",
      "Iteration 53, loss = 0.00216351\n",
      "Iteration 54, loss = 0.00205724\n",
      "Iteration 55, loss = 0.00196878\n",
      "Iteration 56, loss = 0.00187763\n",
      "Iteration 57, loss = 0.00179188\n",
      "Iteration 58, loss = 0.00171293\n",
      "Iteration 59, loss = 0.00164021\n",
      "Iteration 60, loss = 0.00156946\n",
      "Iteration 61, loss = 0.00150719\n",
      "Iteration 62, loss = 0.00144921\n",
      "Iteration 63, loss = 0.00138594\n",
      "Iteration 64, loss = 0.00133359\n",
      "Iteration 65, loss = 0.00128594\n",
      "Training loss did not improve more than tol=0.000100 for 10 consecutive epochs. Stopping.\n"
     ]
    },
    {
     "data": {
      "text/plain": [
       "MLPClassifier(batch_size=150, hidden_layer_sizes=(50, 15), max_iter=100,\n",
       "              random_state=1, verbose=10)"
      ]
     },
     "execution_count": 48,
     "metadata": {},
     "output_type": "execute_result"
    }
   ],
   "source": [
    "#use greedy approach to parameter setting\n",
    "#default loss is cross entropy\n",
    "\n",
    "from sklearn.neural_network import MLPClassifier\n",
    "\n",
    "mlp = MLPClassifier(hidden_layer_sizes=(50, 15), max_iter=100, alpha=0.0001,\n",
    "                    solver='adam', activation='relu', batch_size= 150, verbose=10, random_state=1,\n",
    "                    n_iter_no_change=10, tol=0.0001)\n",
    "\n",
    "mlp.fit(X_train, y_train)"
   ]
  },
  {
   "cell_type": "code",
   "execution_count": 49,
   "metadata": {},
   "outputs": [
    {
     "data": {
      "text/plain": [
       "Text(0.5, 1.0, 'Loss Curve')"
      ]
     },
     "execution_count": 49,
     "metadata": {},
     "output_type": "execute_result"
    },
    {
     "data": {
      "image/png": "[encoded data removed]",
      "text/plain": [
       "<Figure size 432x288 with 1 Axes>"
      ]
     },
     "metadata": {
      "needs_background": "light"
     },
     "output_type": "display_data"
    }
   ],
   "source": [
    "plt.plot(mlp.loss_curve_)\n",
    "plt.grid()\n",
    "plt.xlabel('Iterations')\n",
    "plt.ylabel('Loss (Cross Entropy)')\n",
    "plt.title('Loss Curve')"
   ]
  },
  {
   "cell_type": "markdown",
   "metadata": {},
   "source": [
    "The loss curve allows us to see where performance tails off. After the 35th iteration or so, cross entropy loss begins to flat line. We continued for ~25 iterations after that point because of the class imbalance in the data set. Every positive missclassification is more costly than the negative cases. Beyond the 65th iteration, we saw no improvement in the validation AUC.\n",
    "\n",
    "Our final parameters in our MLP classifier are as follows:\n",
    "\n",
    "- Layer 1: 50\n",
    "- Layer 2: 15\n",
    "- 65 Iterations/Epochs\n",
    "- 150 Batches\n",
    "- Activation Function: Relu\n",
    "- Solver: Adam\n",
    "\n",
    "The parameters used in this classifier can provide a starting point in our next model that we will build using TensorFlow, so we will keep them in mind. Let's look at our performance metrics."
   ]
  },
  {
   "cell_type": "code",
   "execution_count": 50,
   "metadata": {},
   "outputs": [
    {
     "name": "stdout",
     "output_type": "stream",
     "text": [
      "Training set score: 1.0000\n",
      "Validation set score: 0.9427\n"
     ]
    }
   ],
   "source": [
    "print(\"Training set score: {:.4f}\".format(mlp.score(X_train, y_train)))\n",
    "print(\"Validation set score: {:.4f}\".format(mlp.score(X_valid, y_valid)))"
   ]
  },
  {
   "cell_type": "code",
   "execution_count": 51,
   "metadata": {},
   "outputs": [
    {
     "data": {
      "image/png": "[encoded data removed]",
      "text/plain": [
       "<Figure size 432x288 with 2 Axes>"
      ]
     },
     "metadata": {
      "needs_background": "light"
     },
     "output_type": "display_data"
    }
   ],
   "source": [
    "from sklearn.metrics import plot_confusion_matrix\n",
    "\n",
    "plot_confusion_matrix(mlp, X_valid, y_valid);"
   ]
  },
  {
   "cell_type": "code",
   "execution_count": 52,
   "metadata": {},
   "outputs": [],
   "source": [
    "y_hat_train_mlp = mlp.predict(X_train)\n",
    "y_hat_valid_mlp = mlp.predict(X_valid)"
   ]
  },
  {
   "cell_type": "code",
   "execution_count": 53,
   "metadata": {},
   "outputs": [
    {
     "name": "stdout",
     "output_type": "stream",
     "text": [
      "Precision on training data: 100.0%\n",
      "Recall on training data: 100.0% \n",
      "\n",
      "Precision on validation data: 55.6%\n",
      "Recall on validation data: 50.0%\n"
     ]
    }
   ],
   "source": [
    "precision_train_mlp = precision_score(y_train, y_hat_train_mlp, pos_label = 1) * 100\n",
    "precision_valid_mlp = precision_score(y_valid, y_hat_valid_mlp, pos_label = 1) * 100\n",
    "recall_train_mlp = recall_score(y_train, y_hat_train_mlp, pos_label = 1) * 100\n",
    "recall_valid_mlp = recall_score(y_valid, y_hat_valid_mlp, pos_label = 1) * 100\n",
    "\n",
    "print(\"Precision on training data: {:.1f}%\".format(precision_train_mlp))\n",
    "print(\"Recall on training data: {:.1f}% \\n\".format(recall_train_mlp))\n",
    "print(\"Precision on validation data: {:.1f}%\".format(precision_valid_mlp))\n",
    "print(\"Recall on validation data: {:.1f}%\".format(recall_valid_mlp))"
   ]
  },
  {
   "cell_type": "code",
   "execution_count": 54,
   "metadata": {},
   "outputs": [
    {
     "name": "stdout",
     "output_type": "stream",
     "text": [
      "Training AUC: 100.0%.\n",
      "Validation AUC: 73.6%.\n"
     ]
    }
   ],
   "source": [
    "print(\"Training AUC: {:.1f}%.\".format(roc_auc_score(y_train, y_hat_train_mlp)*100))\n",
    "print(\"Validation AUC: {:.1f}%.\".format(roc_auc_score(y_valid, y_hat_valid_mlp)*100))"
   ]
  },
  {
   "cell_type": "markdown",
   "metadata": {},
   "source": [
    "Our MLP classifier performed quite well, but did not outperform the SVM we chose from our initial models. Both models performed almost equally well on precision and recall, which is a positive sign. Before we move onto the Tensorflow model, where we will test a deeper architecture, let's check the F1 scores for both our MLP and SVM classifiers. The F1 score provides a weighted average measure of the precision and recall scores we see above."
   ]
  },
  {
   "cell_type": "code",
   "execution_count": 55,
   "metadata": {},
   "outputs": [
    {
     "name": "stdout",
     "output_type": "stream",
     "text": [
      "MLP F1 on training data: 100.0%\n",
      "MLP F1 on validation data: 52.6% \n",
      "\n",
      "SVM F1 on training data: 99.8%\n",
      "SVM F1 on validation data: 63.2% \n",
      "\n"
     ]
    }
   ],
   "source": [
    "from sklearn.metrics import f1_score\n",
    "\n",
    "f1_train_mlp = f1_score(y_train, y_hat_train_mlp, pos_label = 1) * 100\n",
    "f1_valid_mlp = f1_score(y_valid, y_hat_valid_mlp, pos_label = 1) * 100\n",
    "\n",
    "f1_train_svm = f1_score(y_train, y_hat_train_svm, pos_label = 1) * 100\n",
    "f1_valid_svm = f1_score(y_valid, y_hat_valid_svm, pos_label = 1) * 100\n",
    "\n",
    "print(\"MLP F1 on training data: {:.1f}%\".format(f1_train_mlp))\n",
    "print(\"MLP F1 on validation data: {:.1f}% \\n\".format(f1_valid_mlp))\n",
    "print(\"SVM F1 on training data: {:.1f}%\".format(f1_train_svm))\n",
    "print(\"SVM F1 on validation data: {:.1f}% \\n\".format(f1_valid_svm))"
   ]
  },
  {
   "cell_type": "markdown",
   "metadata": {},
   "source": [
    "Given the results so far, the SVM is still the top choice. Using our knowledge from the MLP classifier built above though, let's see if we can improve performance by introducing more layers into the neural network and apply a regularization method to help with overfitting."
   ]
  },
  {
   "cell_type": "markdown",
   "metadata": {},
   "source": [
    "#### Tensorflow Dense Network with Dropout"
   ]
  },
  {
   "cell_type": "markdown",
   "metadata": {},
   "source": [
    "Tensorflow will require us to convert our data frames into numpy arrays. Let's do that first and then we can tune our hyperparameters."
   ]
  },
  {
   "cell_type": "code",
   "execution_count": 56,
   "metadata": {},
   "outputs": [],
   "source": [
    "#convert datasets to numpy arrays\n",
    "\n",
    "X_train = np.array(X_train)\n",
    "X_valid = np.array(X_valid)\n",
    "X_test = np.array(X_test)"
   ]
  },
  {
   "cell_type": "code",
   "execution_count": 57,
   "metadata": {},
   "outputs": [],
   "source": [
    "y_train = np.array(y_train)\n",
    "y_valid = np.array(y_valid)\n",
    "y_test = np.array(y_test)"
   ]
  },
  {
   "cell_type": "code",
   "execution_count": 58,
   "metadata": {},
   "outputs": [
    {
     "name": "stdout",
     "output_type": "stream",
     "text": [
      "Train Set Shape: (2338, 101)\n",
      "Validation Set Shape: (157, 101)\n",
      "Test Set Shape: (157, 101)\n",
      "Train Labels Shape: (2338,)\n",
      "Validation Labels Shape: (157,)\n",
      "Test Labels Shape: (157,)\n"
     ]
    }
   ],
   "source": [
    "print('Train Set Shape:', X_train.shape)\n",
    "print('Validation Set Shape:', X_valid.shape)\n",
    "print('Test Set Shape:', X_test.shape)\n",
    "\n",
    "print('Train Labels Shape:', y_train.shape)\n",
    "print('Validation Labels Shape:', y_valid.shape)\n",
    "print('Test Labels Shape:', y_test.shape)"
   ]
  },
  {
   "cell_type": "markdown",
   "metadata": {},
   "source": [
    "The below parameters have been iteratively tuned according to performance on the validation set. The model built uses 4 layers with the sizes shown below, a learning rate of 0.001, 412 batch size, and 9 iterations/epochs. We tuned the model until we reached convergence between the training and validation sets."
   ]
  },
  {
   "cell_type": "code",
   "execution_count": 69,
   "metadata": {},
   "outputs": [],
   "source": [
    "from tensorflow import keras\n",
    "import tensorflow as tf\n",
    "from tensorflow.keras.layers import Dense, Dropout\n",
    "\n",
    "#-------------------------\n",
    "# Set some hyper parameters\n",
    "#-------------------------\n",
    "\n",
    "# Total number of training epochs\n",
    "epochs = 9\n",
    "\n",
    "# Training batch size\n",
    "batch_size = 412\n",
    "\n",
    "# The optimization initial learning rate\n",
    "learning_rate = 0.001\n",
    "\n",
    "# Hidden layer sizes\n",
    "h_layer_seq = [50, 15, 5, 2]\n",
    "final_count = 1\n",
    "\n",
    "# x-data feature size\n",
    "n_features = X_train.shape[1]"
   ]
  },
  {
   "cell_type": "markdown",
   "metadata": {},
   "source": [
    "We added a 10% drop out rate that forces the model to work harder to find different paths in predicting the target. This prevents overfitting because each node in our model cannot rely on the output of other nodes. Setting the parameter to 10%, drops 10% of input elements, leaving more pressure on other nodes to perform during the training process. We determined this rate after 3 iterations on the validation set using 5, 10, and 20% dropout rates."
   ]
  },
  {
   "cell_type": "code",
   "execution_count": 70,
   "metadata": {},
   "outputs": [
    {
     "name": "stdout",
     "output_type": "stream",
     "text": [
      "Model: \"sequential_1\"\n",
      "_________________________________________________________________\n",
      "Layer (type)                 Output Shape              Param #   \n",
      "=================================================================\n",
      "dense_5 (Dense)              (None, 50)                5100      \n",
      "_________________________________________________________________\n",
      "dense_6 (Dense)              (None, 15)                765       \n",
      "_________________________________________________________________\n",
      "dropout_3 (Dropout)          (None, 15)                0         \n",
      "_________________________________________________________________\n",
      "dense_7 (Dense)              (None, 5)                 80        \n",
      "_________________________________________________________________\n",
      "dropout_4 (Dropout)          (None, 5)                 0         \n",
      "_________________________________________________________________\n",
      "dense_8 (Dense)              (None, 2)                 12        \n",
      "_________________________________________________________________\n",
      "dropout_5 (Dropout)          (None, 2)                 0         \n",
      "_________________________________________________________________\n",
      "dense_9 (Dense)              (None, 1)                 3         \n",
      "=================================================================\n",
      "Total params: 5,960\n",
      "Trainable params: 5,960\n",
      "Non-trainable params: 0\n",
      "_________________________________________________________________\n"
     ]
    }
   ],
   "source": [
    "# Initialize a \"sequential model\" with tf.keras\n",
    "model = tf.keras.Sequential()\n",
    "\n",
    "# Add layers sequentially\n",
    "for h_ix, h_num in enumerate(h_layer_seq):\n",
    "    if h_ix == 0:\n",
    "        # Need to set input Dimensions\n",
    "        model.add(Dense(h_num, activation='relu', kernel_initializer='random_normal', input_shape=(n_features,)))\n",
    "    else:\n",
    "        model.add(Dense(h_num, activation='relu', kernel_initializer='random_normal'))\n",
    "        # Add dropout!\n",
    "        model.add(Dropout(rate=0.1))\n",
    "\n",
    "\n",
    "# Add final output\n",
    "model.add(Dense(final_count, activation='sigmoid'))\n",
    "\n",
    "model.summary()"
   ]
  },
  {
   "cell_type": "markdown",
   "metadata": {},
   "source": [
    "Next, we will set up an optimizer that implements the Adam algorithm. The Adam optimizer is a stochastic gradient descent method that looks to minimize, in our case, binary cross entropy loss."
   ]
  },
  {
   "cell_type": "code",
   "execution_count": 71,
   "metadata": {},
   "outputs": [
    {
     "name": "stdout",
     "output_type": "stream",
     "text": [
      "Model: \"sequential_1\"\n",
      "_________________________________________________________________\n",
      "Layer (type)                 Output Shape              Param #   \n",
      "=================================================================\n",
      "dense_5 (Dense)              (None, 50)                5100      \n",
      "_________________________________________________________________\n",
      "dense_6 (Dense)              (None, 15)                765       \n",
      "_________________________________________________________________\n",
      "dropout_3 (Dropout)          (None, 15)                0         \n",
      "_________________________________________________________________\n",
      "dense_7 (Dense)              (None, 5)                 80        \n",
      "_________________________________________________________________\n",
      "dropout_4 (Dropout)          (None, 5)                 0         \n",
      "_________________________________________________________________\n",
      "dense_8 (Dense)              (None, 2)                 12        \n",
      "_________________________________________________________________\n",
      "dropout_5 (Dropout)          (None, 2)                 0         \n",
      "_________________________________________________________________\n",
      "dense_9 (Dense)              (None, 1)                 3         \n",
      "=================================================================\n",
      "Total params: 5,960\n",
      "Trainable params: 5,960\n",
      "Non-trainable params: 0\n",
      "_________________________________________________________________\n"
     ]
    }
   ],
   "source": [
    "# Setup / Compile model\n",
    "# Setup model with ADAM optimization & binary cross entropy loss\n",
    "\n",
    "my_optmizer = tf.keras.optimizers.Adam(\n",
    "    learning_rate=learning_rate, beta_1=0.8, beta_2=0.99, epsilon=1e-07, amsgrad=False,\n",
    "    name='Adam')\n",
    "model.compile(optimizer=my_optmizer, loss='binary_crossentropy', metrics=['AUC'])\n",
    "model.summary()"
   ]
  },
  {
   "cell_type": "markdown",
   "metadata": {},
   "source": [
    "We are now ready to fit the model with the parameters specified above and evaluate our validation set AUC results."
   ]
  },
  {
   "cell_type": "code",
   "execution_count": 72,
   "metadata": {},
   "outputs": [
    {
     "name": "stdout",
     "output_type": "stream",
     "text": [
      "Epoch 1/9\n",
      "6/6 [==============================] - 0s 37ms/step - loss: 0.6931 - auc: 0.5000 - val_loss: 0.6930 - val_auc: 0.5000\n",
      "Epoch 2/9\n",
      "6/6 [==============================] - 0s 5ms/step - loss: 0.6929 - auc: 0.5000 - val_loss: 0.6914 - val_auc: 0.5000\n",
      "Epoch 3/9\n",
      "6/6 [==============================] - 0s 5ms/step - loss: 0.6924 - auc: 0.5950 - val_loss: 0.6896 - val_auc: 0.6065\n",
      "Epoch 4/9\n",
      "6/6 [==============================] - 0s 6ms/step - loss: 0.6915 - auc: 0.6829 - val_loss: 0.6872 - val_auc: 0.6786\n",
      "Epoch 5/9\n",
      "6/6 [==============================] - 0s 5ms/step - loss: 0.6895 - auc: 0.7650 - val_loss: 0.6823 - val_auc: 0.7735\n",
      "Epoch 6/9\n",
      "6/6 [==============================] - 0s 5ms/step - loss: 0.6865 - auc: 0.8019 - val_loss: 0.6759 - val_auc: 0.7830\n",
      "Epoch 7/9\n",
      "6/6 [==============================] - 0s 5ms/step - loss: 0.6819 - auc: 0.8431 - val_loss: 0.6676 - val_auc: 0.7922\n",
      "Epoch 8/9\n",
      "6/6 [==============================] - 0s 6ms/step - loss: 0.6750 - auc: 0.8621 - val_loss: 0.6555 - val_auc: 0.8173\n",
      "Epoch 9/9\n",
      "6/6 [==============================] - 0s 5ms/step - loss: 0.6653 - auc: 0.8787 - val_loss: 0.6381 - val_auc: 0.8180\n"
     ]
    }
   ],
   "source": [
    "model_logs = model.fit(X_train, y_train,\n",
    "                       epochs=epochs, batch_size=batch_size,\n",
    "                       validation_data=(X_valid, y_valid), verbose=1)"
   ]
  },
  {
   "cell_type": "code",
   "execution_count": 74,
   "metadata": {},
   "outputs": [
    {
     "data": {
      "image/png": "[encoded data removed]",
      "text/plain": [
       "<Figure size 432x288 with 1 Axes>"
      ]
     },
     "metadata": {
      "needs_background": "light"
     },
     "output_type": "display_data"
    },
    {
     "data": {
      "image/png": "[encoded data removed]",
      "text/plain": [
       "<Figure size 432x288 with 1 Axes>"
      ]
     },
     "metadata": {
      "needs_background": "light"
     },
     "output_type": "display_data"
    }
   ],
   "source": [
    "# Plot auc\n",
    "plt.plot(model_logs.history['auc'])\n",
    "plt.plot(model_logs.history['val_auc'])\n",
    "plt.title('Model auc')\n",
    "plt.ylabel('auc')\n",
    "plt.xlabel('Epoch')\n",
    "plt.legend(['Train', 'Validation'], loc='upper left')\n",
    "plt.grid()\n",
    "plt.show()\n",
    "# plot loss\n",
    "plt.plot(model_logs.history['loss'])\n",
    "plt.plot(model_logs.history['val_loss'])\n",
    "plt.title('Model Loss')\n",
    "plt.ylabel('Loss')\n",
    "plt.xlabel('Epoch')\n",
    "plt.legend(['Train', 'Validation'], loc='upper left')\n",
    "plt.grid()\n",
    "plt.show()"
   ]
  },
  {
   "cell_type": "markdown",
   "metadata": {},
   "source": [
    "We can see that the model converges at epoch 5. The AUC we achieved with this model outperforms our SVM. Next, we can check the precison and recall on this model and then move onto choosing a final model."
   ]
  },
  {
   "cell_type": "code",
   "execution_count": 75,
   "metadata": {},
   "outputs": [],
   "source": [
    "tf_train_prob = model.predict(X_train)\n",
    "tf_valid_prob = model.predict(X_valid)"
   ]
  },
  {
   "cell_type": "code",
   "execution_count": 76,
   "metadata": {},
   "outputs": [],
   "source": [
    "#set probabilities > 50% to 1\n",
    "\n",
    "y_hat_train_tf = (tf_train_prob > 0.5)*1\n",
    "y_hat_valid_tf = (tf_valid_prob > 0.5)*1"
   ]
  },
  {
   "cell_type": "code",
   "execution_count": 77,
   "metadata": {},
   "outputs": [
    {
     "name": "stdout",
     "output_type": "stream",
     "text": [
      "5/5 [==============================] - 0s 997us/step - loss: 0.6381 - auc: 0.8180\n"
     ]
    },
    {
     "data": {
      "text/plain": [
       "[0.6380723118782043, 0.8180272579193115]"
      ]
     },
     "execution_count": 77,
     "metadata": {},
     "output_type": "execute_result"
    }
   ],
   "source": [
    "model.evaluate(X_valid, y_valid, verbose = 1)"
   ]
  },
  {
   "cell_type": "code",
   "execution_count": 78,
   "metadata": {},
   "outputs": [],
   "source": [
    "#generate confusion matrix\n",
    "\n",
    "from sklearn.metrics import confusion_matrix\n",
    "\n",
    "train_cmatrix = confusion_matrix(y_train, y_hat_train_tf)\n",
    "valid_cmatrix = confusion_matrix(y_valid, y_hat_valid_tf)"
   ]
  },
  {
   "cell_type": "code",
   "execution_count": 79,
   "metadata": {},
   "outputs": [
    {
     "name": "stdout",
     "output_type": "stream",
     "text": [
      "Train set precision: 90.4%\n",
      "Train set recall: 80.9% \n",
      "\n",
      "Validation set precision: 29.2%\n",
      "Validation set recall: 70.0%\n"
     ]
    }
   ],
   "source": [
    "#create & print precision-recall variables\n",
    "\n",
    "tf_precision_train = train_cmatrix[1][1]/(train_cmatrix[1][1] + train_cmatrix[0][1])*100\n",
    "tf_recall_train = train_cmatrix[1][1]/(train_cmatrix[1][1] + train_cmatrix[1][0])*100\n",
    "tf_precision_valid = valid_cmatrix[1][1]/(valid_cmatrix[1][1] + valid_cmatrix[0][1])*100\n",
    "tf_recall_valid = valid_cmatrix[1][1]/(valid_cmatrix[1][1] + valid_cmatrix[1][0])*100\n",
    "print(\"Train set precision: {:.1f}%\".format(tf_precision_train))\n",
    "print(\"Train set recall: {:.1f}% \\n\".format(tf_recall_train))\n",
    "print(\"Validation set precision: {:.1f}%\".format(tf_precision_valid))\n",
    "print(\"Validation set recall: {:.1f}%\".format(tf_recall_valid))"
   ]
  },
  {
   "cell_type": "markdown",
   "metadata": {},
   "source": [
    "With the light number of positive samples in the validation set, we can be quite satisfied with these results. The TF model with dropout was able to achieve 70% recall, but only 29% precision. The AUC of 81% outperformed any of our previous models. Before finalizing our model for predicting faulty products, we can test the SVM and the TF model with dropout on the left over test set. While we cannot make any more model/data related adjustments, we can gain more clarity on how both models generalize, given an unseen data set."
   ]
  },
  {
   "cell_type": "markdown",
   "metadata": {},
   "source": [
    "### Choosing a Final Model"
   ]
  },
  {
   "cell_type": "markdown",
   "metadata": {},
   "source": [
    "We'll start by checking the SVM's performance metrics."
   ]
  },
  {
   "cell_type": "code",
   "execution_count": 80,
   "metadata": {},
   "outputs": [
    {
     "name": "stdout",
     "output_type": "stream",
     "text": [
      "Test set svm accuracy: 90.45%\n"
     ]
    }
   ],
   "source": [
    "y_hat_test_svm = svmc.predict(X_test)\n",
    "acc_test_svm = accuracy_score(y_test, y_hat_test_svm)\n",
    "\n",
    "print('Test set svm accuracy: {:.2f}%'.format(acc_test_svm * 100))"
   ]
  },
  {
   "cell_type": "code",
   "execution_count": 81,
   "metadata": {},
   "outputs": [
    {
     "name": "stdout",
     "output_type": "stream",
     "text": [
      "Precision on test data: 14.3%\n",
      "Recall on test data: 10.0%\n"
     ]
    }
   ],
   "source": [
    "recall_test_svm = recall_score(y_test, y_hat_test_svm, pos_label = 1) * 100\n",
    "precision_test_svm = precision_score(y_test, y_hat_test_svm, pos_label = 1) * 100\n",
    "\n",
    "print(\"Precision on test data: {:.1f}%\".format(precision_test_svm))\n",
    "print(\"Recall on test data: {:.1f}%\".format(recall_test_svm))"
   ]
  },
  {
   "cell_type": "code",
   "execution_count": 82,
   "metadata": {},
   "outputs": [
    {
     "data": {
      "image/png": "[encoded data removed]",
      "text/plain": [
       "<Figure size 432x288 with 2 Axes>"
      ]
     },
     "metadata": {
      "needs_background": "light"
     },
     "output_type": "display_data"
    }
   ],
   "source": [
    "plot_confusion_matrix(svmc, X_test, y_test);"
   ]
  },
  {
   "cell_type": "code",
   "execution_count": 83,
   "metadata": {},
   "outputs": [
    {
     "name": "stdout",
     "output_type": "stream",
     "text": [
      "Validation AUC: 53.0%.\n"
     ]
    }
   ],
   "source": [
    "print(\"Validation AUC: {:.1f}%.\".format(roc_auc_score(y_test, y_hat_test_svm)*100))"
   ]
  },
  {
   "cell_type": "markdown",
   "metadata": {},
   "source": [
    "The SVM is showing significant variance between train, validation, and test sets. With an AUC of only 53%, the model performs hardly better than a coin flip. Both precision and recall were near zero. This should make our decision simple. Let's see how our TF model with dropout performs."
   ]
  },
  {
   "cell_type": "code",
   "execution_count": 84,
   "metadata": {},
   "outputs": [],
   "source": [
    "tf_test_prob = model.predict(X_test)\n",
    "y_hat_test_tf = (tf_test_prob > 0.5)*1"
   ]
  },
  {
   "cell_type": "code",
   "execution_count": 85,
   "metadata": {},
   "outputs": [
    {
     "name": "stdout",
     "output_type": "stream",
     "text": [
      "5/5 [==============================] - 0s 998us/step - loss: 0.6373 - auc: 0.7000\n"
     ]
    },
    {
     "data": {
      "text/plain": [
       "[0.6372652649879456, 0.699999988079071]"
      ]
     },
     "execution_count": 85,
     "metadata": {},
     "output_type": "execute_result"
    }
   ],
   "source": [
    "model.evaluate(X_test, y_test, verbose = 1)"
   ]
  },
  {
   "cell_type": "code",
   "execution_count": 86,
   "metadata": {},
   "outputs": [
    {
     "name": "stdout",
     "output_type": "stream",
     "text": [
      "Test set precision: 15.8%\n",
      "Test set recall: 30.0%\n"
     ]
    }
   ],
   "source": [
    "test_cmatrix = confusion_matrix(y_test, y_hat_test_tf)\n",
    "tf_precision_test = test_cmatrix[1][1]/(test_cmatrix[1][1] + test_cmatrix[0][1])*100\n",
    "tf_recall_test = test_cmatrix[1][1]/(test_cmatrix[1][1] + test_cmatrix[1][0])*100\n",
    "\n",
    "print(\"Test set precision: {:.1f}%\".format(tf_precision_test))\n",
    "print(\"Test set recall: {:.1f}%\".format(tf_recall_test))"
   ]
  },
  {
   "cell_type": "markdown",
   "metadata": {},
   "source": [
    "With an AUC of 70%, the TF model significantly outperforms the SVM and is the clear choice from the models we have built."
   ]
  },
  {
   "cell_type": "markdown",
   "metadata": {},
   "source": [
    "### Conclusion"
   ]
  },
  {
   "cell_type": "markdown",
   "metadata": {},
   "source": [
    "To summarize findings from our data models and analysis, a few important elements standout. Of the models built in this process, the Tensorflow model with dropout proved to be the most robust. Having said that, all of the models shown here were extremely sensitive to minor changes in parameters, among other things. There was also noticeable overfitting regardless of model. \n",
    "\n",
    "While our final model was able to achieve a 70% AUC on the test set, the model's performance may not be reliable enough to put into production. With 1567 total observations and only ~7% of them, as defective; the models were not able to produce consistent results on unseen data. This is concerning for a variety of reasons. For one, we will likely run into many false negatives and positives in production that could be very costly to the organization. There is also the investment risk associated with building processes around an unreliable 'black box' model. If the model performs worse than expected and it is not interpretable, the return on time and effort will not be adequate, given the resources typically required for such projects.\n",
    "\n",
    "To optimize the diaper manufacturing process, we suggest collecting more data and re-running the models built here. More samples (especially positive samples) will allow our models to gain a better understanding of the underlying structure and relationships between the sensor data and the product quality. If more data is not an option, it may be worth building a simple rule based classifier using what we have learned about the sensor data already. Through our decision tree and random forest classifiers, we identified the most important sensors above. Using these sensors idenitifed by our models and related domain knowledge, a rule based classifier could perform moderately well, while being more interpretable for decision makers."
   ]
  }
 ],
 "metadata": {
  "kernelspec": {
   "display_name": "Python 3",
   "language": "python",
   "name": "python3"
  },
  "language_info": {
   "codemirror_mode": {
    "name": "ipython",
    "version": 3
   },
   "file_extension": ".py",
   "mimetype": "text/x-python",
   "name": "python",
   "nbconvert_exporter": "python",
   "pygments_lexer": "ipython3",
   "version": "3.7.6"
  }
 },
 "nbformat": 4,
 "nbformat_minor": 4
}
