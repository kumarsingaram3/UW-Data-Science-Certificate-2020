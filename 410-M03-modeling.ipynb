{
 "cells": [
  {
   "cell_type": "markdown",
   "metadata": {},
   "source": [
    "## Milestone 3 - Independent Project\n",
    "\n",
    "### Kumaran Singaram"
   ]
  },
  {
   "cell_type": "markdown",
   "metadata": {},
   "source": [
    "### Abstract\n",
    "\n",
    "This data set is on telco customer churn. Using this data set, I can predict customer churn using their historical behavior and demographic data, which can help the company build dedicated customer retention programs. Each row in the data set represents an individual customer (as indicated by their customer ID). Each column represents customer attributes, which can be used for analysis and prediction.\n",
    "\n",
    "Features:\n",
    "\n",
    "- customerID: ID of the customer\n",
    "- gender: gender of the customer\n",
    "- Senior Citizen: binary variable indicating whether the customer classifies as a senior citizen (> 60) or not\n",
    "- Partner: binary variable indicating whether the customer has a partner\n",
    "- Dependents: binary variable indicating whether the customer has dependents\n",
    "- tenure: number of months customer has stayed with the company\n",
    "- Phone Service: binary variable indicating whether customer has phone service\n",
    "- Multiple Lines: does the customer have multiple lines\n",
    "- Internet Service: customer's internet provider\n",
    "- Online Security: does the customer have online security\n",
    "- Online Backup: does the customer have online backup\n",
    "- Device Protection: does the customer have device protection\n",
    "- Tech Support: does the customer use tech support\n",
    "- StreamingTV: does the customer have TV streaming\n",
    "- Streaming Movies: does the customer have movie streaming\n",
    "- Contract: contract term of the customer\n",
    "- Paperless Billing: whether the customer has paperless billing\n",
    "- Payment Method: customer's payment method\n",
    "- Monthly Charges: the amount charged to the customer monthly\n",
    "- Total Charges: the total amount charged to the customer\n",
    "- Churn: whether the customer churned or not in the last month"
   ]
  },
  {
   "cell_type": "markdown",
   "metadata": {},
   "source": [
    "To explore this dataset, we will use a variety of EDA techniques to summarize and slice the data in ways that we can better understand the relationships between the independent variables and churn. "
   ]
  },
  {
   "cell_type": "code",
   "execution_count": 1,
   "metadata": {},
   "outputs": [],
   "source": [
    "import pandas as pd\n",
    "import numpy as np\n",
    "import seaborn as sns"
   ]
  },
  {
   "cell_type": "code",
   "execution_count": 2,
   "metadata": {},
   "outputs": [
    {
     "data": {
      "text/html": [
       "<div>\n",
       "<style scoped>\n",
       "    .dataframe tbody tr th:only-of-type {\n",
       "        vertical-align: middle;\n",
       "    }\n",
       "\n",
       "    .dataframe tbody tr th {\n",
       "        vertical-align: top;\n",
       "    }\n",
       "\n",
       "    .dataframe thead th {\n",
       "        text-align: right;\n",
       "    }\n",
       "</style>\n",
       "<table border=\"1\" class=\"dataframe\">\n",
       "  <thead>\n",
       "    <tr style=\"text-align: right;\">\n",
       "      <th></th>\n",
       "      <th>customerID</th>\n",
       "      <th>gender</th>\n",
       "      <th>SeniorCitizen</th>\n",
       "      <th>Partner</th>\n",
       "      <th>Dependents</th>\n",
       "      <th>tenure</th>\n",
       "      <th>PhoneService</th>\n",
       "      <th>MultipleLines</th>\n",
       "      <th>InternetService</th>\n",
       "      <th>OnlineSecurity</th>\n",
       "      <th>...</th>\n",
       "      <th>DeviceProtection</th>\n",
       "      <th>TechSupport</th>\n",
       "      <th>StreamingTV</th>\n",
       "      <th>StreamingMovies</th>\n",
       "      <th>Contract</th>\n",
       "      <th>PaperlessBilling</th>\n",
       "      <th>PaymentMethod</th>\n",
       "      <th>MonthlyCharges</th>\n",
       "      <th>TotalCharges</th>\n",
       "      <th>Churn</th>\n",
       "    </tr>\n",
       "  </thead>\n",
       "  <tbody>\n",
       "    <tr>\n",
       "      <th>0</th>\n",
       "      <td>7590-VHVEG</td>\n",
       "      <td>Female</td>\n",
       "      <td>0</td>\n",
       "      <td>Yes</td>\n",
       "      <td>No</td>\n",
       "      <td>1</td>\n",
       "      <td>No</td>\n",
       "      <td>No phone service</td>\n",
       "      <td>DSL</td>\n",
       "      <td>No</td>\n",
       "      <td>...</td>\n",
       "      <td>No</td>\n",
       "      <td>No</td>\n",
       "      <td>No</td>\n",
       "      <td>No</td>\n",
       "      <td>Month-to-month</td>\n",
       "      <td>Yes</td>\n",
       "      <td>Electronic check</td>\n",
       "      <td>29.85</td>\n",
       "      <td>29.85</td>\n",
       "      <td>No</td>\n",
       "    </tr>\n",
       "    <tr>\n",
       "      <th>1</th>\n",
       "      <td>5575-GNVDE</td>\n",
       "      <td>Male</td>\n",
       "      <td>0</td>\n",
       "      <td>No</td>\n",
       "      <td>No</td>\n",
       "      <td>34</td>\n",
       "      <td>Yes</td>\n",
       "      <td>No</td>\n",
       "      <td>DSL</td>\n",
       "      <td>Yes</td>\n",
       "      <td>...</td>\n",
       "      <td>Yes</td>\n",
       "      <td>No</td>\n",
       "      <td>No</td>\n",
       "      <td>No</td>\n",
       "      <td>One year</td>\n",
       "      <td>No</td>\n",
       "      <td>Mailed check</td>\n",
       "      <td>56.95</td>\n",
       "      <td>1889.5</td>\n",
       "      <td>No</td>\n",
       "    </tr>\n",
       "    <tr>\n",
       "      <th>2</th>\n",
       "      <td>3668-QPYBK</td>\n",
       "      <td>Male</td>\n",
       "      <td>0</td>\n",
       "      <td>No</td>\n",
       "      <td>No</td>\n",
       "      <td>2</td>\n",
       "      <td>Yes</td>\n",
       "      <td>No</td>\n",
       "      <td>DSL</td>\n",
       "      <td>Yes</td>\n",
       "      <td>...</td>\n",
       "      <td>No</td>\n",
       "      <td>No</td>\n",
       "      <td>No</td>\n",
       "      <td>No</td>\n",
       "      <td>Month-to-month</td>\n",
       "      <td>Yes</td>\n",
       "      <td>Mailed check</td>\n",
       "      <td>53.85</td>\n",
       "      <td>108.15</td>\n",
       "      <td>Yes</td>\n",
       "    </tr>\n",
       "    <tr>\n",
       "      <th>3</th>\n",
       "      <td>7795-CFOCW</td>\n",
       "      <td>Male</td>\n",
       "      <td>0</td>\n",
       "      <td>No</td>\n",
       "      <td>No</td>\n",
       "      <td>45</td>\n",
       "      <td>No</td>\n",
       "      <td>No phone service</td>\n",
       "      <td>DSL</td>\n",
       "      <td>Yes</td>\n",
       "      <td>...</td>\n",
       "      <td>Yes</td>\n",
       "      <td>Yes</td>\n",
       "      <td>No</td>\n",
       "      <td>No</td>\n",
       "      <td>One year</td>\n",
       "      <td>No</td>\n",
       "      <td>Bank transfer (automatic)</td>\n",
       "      <td>42.30</td>\n",
       "      <td>1840.75</td>\n",
       "      <td>No</td>\n",
       "    </tr>\n",
       "    <tr>\n",
       "      <th>4</th>\n",
       "      <td>9237-HQITU</td>\n",
       "      <td>Female</td>\n",
       "      <td>0</td>\n",
       "      <td>No</td>\n",
       "      <td>No</td>\n",
       "      <td>2</td>\n",
       "      <td>Yes</td>\n",
       "      <td>No</td>\n",
       "      <td>Fiber optic</td>\n",
       "      <td>No</td>\n",
       "      <td>...</td>\n",
       "      <td>No</td>\n",
       "      <td>No</td>\n",
       "      <td>No</td>\n",
       "      <td>No</td>\n",
       "      <td>Month-to-month</td>\n",
       "      <td>Yes</td>\n",
       "      <td>Electronic check</td>\n",
       "      <td>70.70</td>\n",
       "      <td>151.65</td>\n",
       "      <td>Yes</td>\n",
       "    </tr>\n",
       "  </tbody>\n",
       "</table>\n",
       "<p>5 rows × 21 columns</p>\n",
       "</div>"
      ],
      "text/plain": [
       "   customerID  gender  SeniorCitizen Partner Dependents  tenure PhoneService  \\\n",
       "0  7590-VHVEG  Female              0     Yes         No       1           No   \n",
       "1  5575-GNVDE    Male              0      No         No      34          Yes   \n",
       "2  3668-QPYBK    Male              0      No         No       2          Yes   \n",
       "3  7795-CFOCW    Male              0      No         No      45           No   \n",
       "4  9237-HQITU  Female              0      No         No       2          Yes   \n",
       "\n",
       "      MultipleLines InternetService OnlineSecurity  ... DeviceProtection  \\\n",
       "0  No phone service             DSL             No  ...               No   \n",
       "1                No             DSL            Yes  ...              Yes   \n",
       "2                No             DSL            Yes  ...               No   \n",
       "3  No phone service             DSL            Yes  ...              Yes   \n",
       "4                No     Fiber optic             No  ...               No   \n",
       "\n",
       "  TechSupport StreamingTV StreamingMovies        Contract PaperlessBilling  \\\n",
       "0          No          No              No  Month-to-month              Yes   \n",
       "1          No          No              No        One year               No   \n",
       "2          No          No              No  Month-to-month              Yes   \n",
       "3         Yes          No              No        One year               No   \n",
       "4          No          No              No  Month-to-month              Yes   \n",
       "\n",
       "               PaymentMethod MonthlyCharges  TotalCharges Churn  \n",
       "0           Electronic check          29.85         29.85    No  \n",
       "1               Mailed check          56.95        1889.5    No  \n",
       "2               Mailed check          53.85        108.15   Yes  \n",
       "3  Bank transfer (automatic)          42.30       1840.75    No  \n",
       "4           Electronic check          70.70        151.65   Yes  \n",
       "\n",
       "[5 rows x 21 columns]"
      ]
     },
     "execution_count": 2,
     "metadata": {},
     "output_type": "execute_result"
    }
   ],
   "source": [
    "#read in data\n",
    "telco = pd.read_csv('data/telco_churn.csv')\n",
    "\n",
    "telco.head()"
   ]
  },
  {
   "cell_type": "code",
   "execution_count": 3,
   "metadata": {},
   "outputs": [
    {
     "name": "stdout",
     "output_type": "stream",
     "text": [
      "<class 'pandas.core.frame.DataFrame'>\n",
      "RangeIndex: 7043 entries, 0 to 7042\n",
      "Data columns (total 21 columns):\n",
      " #   Column            Non-Null Count  Dtype  \n",
      "---  ------            --------------  -----  \n",
      " 0   customerID        7043 non-null   object \n",
      " 1   gender            7043 non-null   object \n",
      " 2   SeniorCitizen     7043 non-null   int64  \n",
      " 3   Partner           7043 non-null   object \n",
      " 4   Dependents        7043 non-null   object \n",
      " 5   tenure            7043 non-null   int64  \n",
      " 6   PhoneService      7043 non-null   object \n",
      " 7   MultipleLines     7043 non-null   object \n",
      " 8   InternetService   7043 non-null   object \n",
      " 9   OnlineSecurity    7043 non-null   object \n",
      " 10  OnlineBackup      7043 non-null   object \n",
      " 11  DeviceProtection  7043 non-null   object \n",
      " 12  TechSupport       7043 non-null   object \n",
      " 13  StreamingTV       7043 non-null   object \n",
      " 14  StreamingMovies   7043 non-null   object \n",
      " 15  Contract          7043 non-null   object \n",
      " 16  PaperlessBilling  7043 non-null   object \n",
      " 17  PaymentMethod     7043 non-null   object \n",
      " 18  MonthlyCharges    7043 non-null   float64\n",
      " 19  TotalCharges      7043 non-null   object \n",
      " 20  Churn             7043 non-null   object \n",
      "dtypes: float64(1), int64(2), object(18)\n",
      "memory usage: 1.1+ MB\n"
     ]
    }
   ],
   "source": [
    "telco.info()"
   ]
  },
  {
   "cell_type": "markdown",
   "metadata": {},
   "source": [
    "### Cleaning Data"
   ]
  },
  {
   "cell_type": "markdown",
   "metadata": {},
   "source": [
    "The data set is relatively clean, but there are a few things to fix. We will drop unneccesary columns and and impute data where needed."
   ]
  },
  {
   "cell_type": "code",
   "execution_count": 4,
   "metadata": {},
   "outputs": [],
   "source": [
    "#drop ID column\n",
    "\n",
    "telco = telco.drop(['customerID'], axis = 1)"
   ]
  },
  {
   "cell_type": "code",
   "execution_count": 5,
   "metadata": {},
   "outputs": [],
   "source": [
    "#clean data\n",
    "\n",
    "telco['TotalCharges'] = telco['TotalCharges'].replace(to_replace = ' ', value = np.nan, regex = True)\n",
    "telco['TotalCharges'] = telco['TotalCharges'].astype('float')"
   ]
  },
  {
   "cell_type": "code",
   "execution_count": 6,
   "metadata": {},
   "outputs": [
    {
     "data": {
      "text/plain": [
       "gender              0\n",
       "SeniorCitizen       0\n",
       "Partner             0\n",
       "Dependents          0\n",
       "tenure              0\n",
       "PhoneService        0\n",
       "MultipleLines       0\n",
       "InternetService     0\n",
       "OnlineSecurity      0\n",
       "OnlineBackup        0\n",
       "DeviceProtection    0\n",
       "TechSupport         0\n",
       "StreamingTV         0\n",
       "StreamingMovies     0\n",
       "Contract            0\n",
       "PaperlessBilling    0\n",
       "PaymentMethod       0\n",
       "MonthlyCharges      0\n",
       "TotalCharges        0\n",
       "Churn               0\n",
       "dtype: int64"
      ]
     },
     "execution_count": 6,
     "metadata": {},
     "output_type": "execute_result"
    }
   ],
   "source": [
    "#impute missing data with mean\n",
    "\n",
    "def fill_mean(x):\n",
    "    x = pd.to_numeric(x, errors = 'coerce')\n",
    "    dropped_na = x[~np.isnan(x)]\n",
    "    mean = np.mean(dropped_na)\n",
    "    x[np.isnan(x)] = mean\n",
    "    return x\n",
    "\n",
    "telco['TotalCharges'] = fill_mean(telco['TotalCharges'])\n",
    "    \n",
    "telco.isnull().sum()"
   ]
  },
  {
   "cell_type": "code",
   "execution_count": 7,
   "metadata": {},
   "outputs": [],
   "source": [
    "#change data types\n",
    "\n",
    "telco[telco.select_dtypes('object').columns] = telco.select_dtypes('object').astype('category')\n",
    "telco['SeniorCitizen'] = telco['SeniorCitizen'].astype('category')"
   ]
  },
  {
   "cell_type": "markdown",
   "metadata": {},
   "source": [
    "### EDA"
   ]
  },
  {
   "cell_type": "code",
   "execution_count": 8,
   "metadata": {},
   "outputs": [
    {
     "data": {
      "text/html": [
       "<style  type=\"text/css\" >\n",
       "    #T_53cac908_f069_11ea_ae9b_f06e0bdd3db0row0_col0 {\n",
       "            background-color:  #860b86;\n",
       "            color:  #f1f1f1;\n",
       "        }    #T_53cac908_f069_11ea_ae9b_f06e0bdd3db0row0_col1 {\n",
       "            background-color:  #f9dbf9;\n",
       "            color:  #000000;\n",
       "        }    #T_53cac908_f069_11ea_ae9b_f06e0bdd3db0row1_col0 {\n",
       "            background-color:  #800080;\n",
       "            color:  #f1f1f1;\n",
       "        }    #T_53cac908_f069_11ea_ae9b_f06e0bdd3db0row1_col1 {\n",
       "            background-color:  #ffe5ff;\n",
       "            color:  #000000;\n",
       "        }    #T_53cac908_f069_11ea_ae9b_f06e0bdd3db0row2_col0 {\n",
       "            background-color:  #ffe5ff;\n",
       "            color:  #000000;\n",
       "        }    #T_53cac908_f069_11ea_ae9b_f06e0bdd3db0row2_col1 {\n",
       "            background-color:  #800080;\n",
       "            color:  #f1f1f1;\n",
       "        }    #T_53cac908_f069_11ea_ae9b_f06e0bdd3db0row3_col0 {\n",
       "            background-color:  #901d90;\n",
       "            color:  #f1f1f1;\n",
       "        }    #T_53cac908_f069_11ea_ae9b_f06e0bdd3db0row3_col1 {\n",
       "            background-color:  #efc9ef;\n",
       "            color:  #000000;\n",
       "        }</style><table id=\"T_53cac908_f069_11ea_ae9b_f06e0bdd3db0\" ><thead>    <tr>        <th class=\"index_name level0\" >Churn</th>        <th class=\"col_heading level0 col0\" >No</th>        <th class=\"col_heading level0 col1\" >Yes</th>    </tr>    <tr>        <th class=\"index_name level0\" >PaymentMethod</th>        <th class=\"blank\" ></th>        <th class=\"blank\" ></th>    </tr></thead><tbody>\n",
       "                <tr>\n",
       "                        <th id=\"T_53cac908_f069_11ea_ae9b_f06e0bdd3db0level0_row0\" class=\"row_heading level0 row0\" >Bank transfer (automatic)</th>\n",
       "                        <td id=\"T_53cac908_f069_11ea_ae9b_f06e0bdd3db0row0_col0\" class=\"data row0 col0\" >0.832902</td>\n",
       "                        <td id=\"T_53cac908_f069_11ea_ae9b_f06e0bdd3db0row0_col1\" class=\"data row0 col1\" >0.167098</td>\n",
       "            </tr>\n",
       "            <tr>\n",
       "                        <th id=\"T_53cac908_f069_11ea_ae9b_f06e0bdd3db0level0_row1\" class=\"row_heading level0 row1\" >Credit card (automatic)</th>\n",
       "                        <td id=\"T_53cac908_f069_11ea_ae9b_f06e0bdd3db0row1_col0\" class=\"data row1 col0\" >0.847569</td>\n",
       "                        <td id=\"T_53cac908_f069_11ea_ae9b_f06e0bdd3db0row1_col1\" class=\"data row1 col1\" >0.152431</td>\n",
       "            </tr>\n",
       "            <tr>\n",
       "                        <th id=\"T_53cac908_f069_11ea_ae9b_f06e0bdd3db0level0_row2\" class=\"row_heading level0 row2\" >Electronic check</th>\n",
       "                        <td id=\"T_53cac908_f069_11ea_ae9b_f06e0bdd3db0row2_col0\" class=\"data row2 col0\" >0.547146</td>\n",
       "                        <td id=\"T_53cac908_f069_11ea_ae9b_f06e0bdd3db0row2_col1\" class=\"data row2 col1\" >0.452854</td>\n",
       "            </tr>\n",
       "            <tr>\n",
       "                        <th id=\"T_53cac908_f069_11ea_ae9b_f06e0bdd3db0level0_row3\" class=\"row_heading level0 row3\" >Mailed check</th>\n",
       "                        <td id=\"T_53cac908_f069_11ea_ae9b_f06e0bdd3db0row3_col0\" class=\"data row3 col0\" >0.808933</td>\n",
       "                        <td id=\"T_53cac908_f069_11ea_ae9b_f06e0bdd3db0row3_col1\" class=\"data row3 col1\" >0.191067</td>\n",
       "            </tr>\n",
       "    </tbody></table>"
      ],
      "text/plain": [
       "<pandas.io.formats.style.Styler at 0x1a8123a2288>"
      ]
     },
     "execution_count": 8,
     "metadata": {},
     "output_type": "execute_result"
    }
   ],
   "source": [
    "#create crosstab tables to visualize churn by category\n",
    "\n",
    "purple = sns.light_palette(\"purple\", as_cmap=True)\n",
    "pd.crosstab(index = telco['PaymentMethod'], \n",
    "            columns = telco['Churn'], normalize = 'index').style.background_gradient(cmap=purple)"
   ]
  },
  {
   "cell_type": "code",
   "execution_count": 9,
   "metadata": {},
   "outputs": [
    {
     "data": {
      "text/html": [
       "<style  type=\"text/css\" >\n",
       "    #T_53d8ef22_f069_11ea_8ccb_f06e0bdd3db0row0_col0 {\n",
       "            background-color:  #ffe5ff;\n",
       "            color:  #000000;\n",
       "        }    #T_53d8ef22_f069_11ea_8ccb_f06e0bdd3db0row0_col1 {\n",
       "            background-color:  #fcdffc;\n",
       "            color:  #000000;\n",
       "        }    #T_53d8ef22_f069_11ea_8ccb_f06e0bdd3db0row1_col0 {\n",
       "            background-color:  #e3b3e3;\n",
       "            color:  #000000;\n",
       "        }    #T_53d8ef22_f069_11ea_8ccb_f06e0bdd3db0row1_col1 {\n",
       "            background-color:  #ffe5ff;\n",
       "            color:  #000000;\n",
       "        }    #T_53d8ef22_f069_11ea_8ccb_f06e0bdd3db0row2_col0 {\n",
       "            background-color:  #c780c7;\n",
       "            color:  #000000;\n",
       "        }    #T_53d8ef22_f069_11ea_8ccb_f06e0bdd3db0row2_col1 {\n",
       "            background-color:  #800080;\n",
       "            color:  #f1f1f1;\n",
       "        }    #T_53d8ef22_f069_11ea_8ccb_f06e0bdd3db0row3_col0 {\n",
       "            background-color:  #800080;\n",
       "            color:  #f1f1f1;\n",
       "        }    #T_53d8ef22_f069_11ea_8ccb_f06e0bdd3db0row3_col1 {\n",
       "            background-color:  #f4d1f4;\n",
       "            color:  #000000;\n",
       "        }</style><table id=\"T_53d8ef22_f069_11ea_8ccb_f06e0bdd3db0\" ><thead>    <tr>        <th class=\"index_name level0\" >Churn</th>        <th class=\"col_heading level0 col0\" >No</th>        <th class=\"col_heading level0 col1\" >Yes</th>    </tr>    <tr>        <th class=\"index_name level0\" >PaymentMethod</th>        <th class=\"blank\" ></th>        <th class=\"blank\" ></th>    </tr></thead><tbody>\n",
       "                <tr>\n",
       "                        <th id=\"T_53d8ef22_f069_11ea_8ccb_f06e0bdd3db0level0_row0\" class=\"row_heading level0 row0\" >Bank transfer (automatic)</th>\n",
       "                        <td id=\"T_53d8ef22_f069_11ea_8ccb_f06e0bdd3db0row0_col0\" class=\"data row0 col0\" >1286</td>\n",
       "                        <td id=\"T_53d8ef22_f069_11ea_8ccb_f06e0bdd3db0row0_col1\" class=\"data row0 col1\" >258</td>\n",
       "            </tr>\n",
       "            <tr>\n",
       "                        <th id=\"T_53d8ef22_f069_11ea_8ccb_f06e0bdd3db0level0_row1\" class=\"row_heading level0 row1\" >Credit card (automatic)</th>\n",
       "                        <td id=\"T_53d8ef22_f069_11ea_8ccb_f06e0bdd3db0row1_col0\" class=\"data row1 col0\" >1290</td>\n",
       "                        <td id=\"T_53d8ef22_f069_11ea_8ccb_f06e0bdd3db0row1_col1\" class=\"data row1 col1\" >232</td>\n",
       "            </tr>\n",
       "            <tr>\n",
       "                        <th id=\"T_53d8ef22_f069_11ea_8ccb_f06e0bdd3db0level0_row2\" class=\"row_heading level0 row2\" >Electronic check</th>\n",
       "                        <td id=\"T_53d8ef22_f069_11ea_8ccb_f06e0bdd3db0row2_col0\" class=\"data row2 col0\" >1294</td>\n",
       "                        <td id=\"T_53d8ef22_f069_11ea_8ccb_f06e0bdd3db0row2_col1\" class=\"data row2 col1\" >1071</td>\n",
       "            </tr>\n",
       "            <tr>\n",
       "                        <th id=\"T_53d8ef22_f069_11ea_8ccb_f06e0bdd3db0level0_row3\" class=\"row_heading level0 row3\" >Mailed check</th>\n",
       "                        <td id=\"T_53d8ef22_f069_11ea_8ccb_f06e0bdd3db0row3_col0\" class=\"data row3 col0\" >1304</td>\n",
       "                        <td id=\"T_53d8ef22_f069_11ea_8ccb_f06e0bdd3db0row3_col1\" class=\"data row3 col1\" >308</td>\n",
       "            </tr>\n",
       "    </tbody></table>"
      ],
      "text/plain": [
       "<pandas.io.formats.style.Styler at 0x1a813d4e548>"
      ]
     },
     "execution_count": 9,
     "metadata": {},
     "output_type": "execute_result"
    }
   ],
   "source": [
    "#create crosstab tables to visualize churn with counts\n",
    "\n",
    "purple = sns.light_palette(\"purple\", as_cmap=True)\n",
    "pd.crosstab(index = telco['PaymentMethod'], \n",
    "            columns = telco['Churn']).style.background_gradient(cmap=purple)"
   ]
  },
  {
   "cell_type": "code",
   "execution_count": 10,
   "metadata": {},
   "outputs": [
    {
     "data": {
      "text/html": [
       "<style  type=\"text/css\" >\n",
       "    #T_53e1df3a_f069_11ea_9d5d_f06e0bdd3db0row0_col0 {\n",
       "            background-color:  #800080;\n",
       "            color:  #f1f1f1;\n",
       "        }    #T_53e1df3a_f069_11ea_9d5d_f06e0bdd3db0row0_col1 {\n",
       "            background-color:  #ffe5ff;\n",
       "            color:  #000000;\n",
       "        }    #T_53e1df3a_f069_11ea_9d5d_f06e0bdd3db0row1_col0 {\n",
       "            background-color:  #ffe5ff;\n",
       "            color:  #000000;\n",
       "        }    #T_53e1df3a_f069_11ea_9d5d_f06e0bdd3db0row1_col1 {\n",
       "            background-color:  #800080;\n",
       "            color:  #f1f1f1;\n",
       "        }</style><table id=\"T_53e1df3a_f069_11ea_9d5d_f06e0bdd3db0\" ><thead>    <tr>        <th class=\"index_name level0\" >Churn</th>        <th class=\"col_heading level0 col0\" >No</th>        <th class=\"col_heading level0 col1\" >Yes</th>    </tr>    <tr>        <th class=\"index_name level0\" >PaperlessBilling</th>        <th class=\"blank\" ></th>        <th class=\"blank\" ></th>    </tr></thead><tbody>\n",
       "                <tr>\n",
       "                        <th id=\"T_53e1df3a_f069_11ea_9d5d_f06e0bdd3db0level0_row0\" class=\"row_heading level0 row0\" >No</th>\n",
       "                        <td id=\"T_53e1df3a_f069_11ea_9d5d_f06e0bdd3db0row0_col0\" class=\"data row0 col0\" >0.836699</td>\n",
       "                        <td id=\"T_53e1df3a_f069_11ea_9d5d_f06e0bdd3db0row0_col1\" class=\"data row0 col1\" >0.163301</td>\n",
       "            </tr>\n",
       "            <tr>\n",
       "                        <th id=\"T_53e1df3a_f069_11ea_9d5d_f06e0bdd3db0level0_row1\" class=\"row_heading level0 row1\" >Yes</th>\n",
       "                        <td id=\"T_53e1df3a_f069_11ea_9d5d_f06e0bdd3db0row1_col0\" class=\"data row1 col0\" >0.664349</td>\n",
       "                        <td id=\"T_53e1df3a_f069_11ea_9d5d_f06e0bdd3db0row1_col1\" class=\"data row1 col1\" >0.335651</td>\n",
       "            </tr>\n",
       "    </tbody></table>"
      ],
      "text/plain": [
       "<pandas.io.formats.style.Styler at 0x1a813e8b108>"
      ]
     },
     "execution_count": 10,
     "metadata": {},
     "output_type": "execute_result"
    }
   ],
   "source": [
    "purple = sns.light_palette(\"purple\", as_cmap=True)\n",
    "pd.crosstab(index = telco['PaperlessBilling'], columns = telco['Churn'], \n",
    "           normalize = 'index').style.background_gradient(cmap=purple)"
   ]
  },
  {
   "cell_type": "markdown",
   "metadata": {},
   "source": [
    "Customers who paid via Electronic check seem to have a significantly higher likelihood to churn. This is the case for customers who went with paperless billing as well. The theory here could be that those that are more tech inclined (prefer no direct mail) are maybe more likely to shop around for different deals. As for electronic check, we are dealing with a fairly high sample size so it is probably significant, but it's difficult to come up with a theory that makes sense."
   ]
  },
  {
   "cell_type": "code",
   "execution_count": 11,
   "metadata": {},
   "outputs": [
    {
     "data": {
      "text/html": [
       "<style  type=\"text/css\" >\n",
       "    #T_53eab926_f069_11ea_89ca_f06e0bdd3db0row0_col0 {\n",
       "            background-color:  #ffe5e5;\n",
       "            color:  #000000;\n",
       "        }    #T_53eab926_f069_11ea_89ca_f06e0bdd3db0row0_col1 {\n",
       "            background-color:  #ff0000;\n",
       "            color:  #f1f1f1;\n",
       "        }    #T_53eab926_f069_11ea_89ca_f06e0bdd3db0row1_col0 {\n",
       "            background-color:  #ff0000;\n",
       "            color:  #f1f1f1;\n",
       "        }    #T_53eab926_f069_11ea_89ca_f06e0bdd3db0row1_col1 {\n",
       "            background-color:  #ffe5e5;\n",
       "            color:  #000000;\n",
       "        }</style><table id=\"T_53eab926_f069_11ea_89ca_f06e0bdd3db0\" ><thead>    <tr>        <th class=\"index_name level0\" >Churn</th>        <th class=\"col_heading level0 col0\" >No</th>        <th class=\"col_heading level0 col1\" >Yes</th>    </tr>    <tr>        <th class=\"index_name level0\" >Dependents</th>        <th class=\"blank\" ></th>        <th class=\"blank\" ></th>    </tr></thead><tbody>\n",
       "                <tr>\n",
       "                        <th id=\"T_53eab926_f069_11ea_89ca_f06e0bdd3db0level0_row0\" class=\"row_heading level0 row0\" >No</th>\n",
       "                        <td id=\"T_53eab926_f069_11ea_89ca_f06e0bdd3db0row0_col0\" class=\"data row0 col0\" >0.687209</td>\n",
       "                        <td id=\"T_53eab926_f069_11ea_89ca_f06e0bdd3db0row0_col1\" class=\"data row0 col1\" >0.312791</td>\n",
       "            </tr>\n",
       "            <tr>\n",
       "                        <th id=\"T_53eab926_f069_11ea_89ca_f06e0bdd3db0level0_row1\" class=\"row_heading level0 row1\" >Yes</th>\n",
       "                        <td id=\"T_53eab926_f069_11ea_89ca_f06e0bdd3db0row1_col0\" class=\"data row1 col0\" >0.845498</td>\n",
       "                        <td id=\"T_53eab926_f069_11ea_89ca_f06e0bdd3db0row1_col1\" class=\"data row1 col1\" >0.154502</td>\n",
       "            </tr>\n",
       "    </tbody></table>"
      ],
      "text/plain": [
       "<pandas.io.formats.style.Styler at 0x1a812b4ca88>"
      ]
     },
     "execution_count": 11,
     "metadata": {},
     "output_type": "execute_result"
    }
   ],
   "source": [
    "purple = sns.light_palette(\"red\", as_cmap=True)\n",
    "pd.crosstab(index = telco['Dependents'], columns = telco['Churn'], \n",
    "            normalize = 'index').style.background_gradient(cmap=purple)"
   ]
  },
  {
   "cell_type": "code",
   "execution_count": 12,
   "metadata": {},
   "outputs": [
    {
     "data": {
      "text/html": [
       "<style  type=\"text/css\" >\n",
       "    #T_53fdcf76_f069_11ea_bdc1_f06e0bdd3db0row0_col0 {\n",
       "            background-color:  #ffe5e5;\n",
       "            color:  #000000;\n",
       "        }    #T_53fdcf76_f069_11ea_bdc1_f06e0bdd3db0row0_col1 {\n",
       "            background-color:  #ff0000;\n",
       "            color:  #f1f1f1;\n",
       "        }    #T_53fdcf76_f069_11ea_bdc1_f06e0bdd3db0row1_col0 {\n",
       "            background-color:  #ff0000;\n",
       "            color:  #f1f1f1;\n",
       "        }    #T_53fdcf76_f069_11ea_bdc1_f06e0bdd3db0row1_col1 {\n",
       "            background-color:  #ffe5e5;\n",
       "            color:  #000000;\n",
       "        }</style><table id=\"T_53fdcf76_f069_11ea_bdc1_f06e0bdd3db0\" ><thead>    <tr>        <th class=\"index_name level0\" >Churn</th>        <th class=\"col_heading level0 col0\" >No</th>        <th class=\"col_heading level0 col1\" >Yes</th>    </tr>    <tr>        <th class=\"index_name level0\" >Partner</th>        <th class=\"blank\" ></th>        <th class=\"blank\" ></th>    </tr></thead><tbody>\n",
       "                <tr>\n",
       "                        <th id=\"T_53fdcf76_f069_11ea_bdc1_f06e0bdd3db0level0_row0\" class=\"row_heading level0 row0\" >No</th>\n",
       "                        <td id=\"T_53fdcf76_f069_11ea_bdc1_f06e0bdd3db0row0_col0\" class=\"data row0 col0\" >0.670420</td>\n",
       "                        <td id=\"T_53fdcf76_f069_11ea_bdc1_f06e0bdd3db0row0_col1\" class=\"data row0 col1\" >0.329580</td>\n",
       "            </tr>\n",
       "            <tr>\n",
       "                        <th id=\"T_53fdcf76_f069_11ea_bdc1_f06e0bdd3db0level0_row1\" class=\"row_heading level0 row1\" >Yes</th>\n",
       "                        <td id=\"T_53fdcf76_f069_11ea_bdc1_f06e0bdd3db0row1_col0\" class=\"data row1 col0\" >0.803351</td>\n",
       "                        <td id=\"T_53fdcf76_f069_11ea_bdc1_f06e0bdd3db0row1_col1\" class=\"data row1 col1\" >0.196649</td>\n",
       "            </tr>\n",
       "    </tbody></table>"
      ],
      "text/plain": [
       "<pandas.io.formats.style.Styler at 0x1a813e8b588>"
      ]
     },
     "execution_count": 12,
     "metadata": {},
     "output_type": "execute_result"
    }
   ],
   "source": [
    "purple = sns.light_palette(\"red\", as_cmap=True)\n",
    "pd.crosstab(index = telco['Partner'], columns = telco['Churn'], \n",
    "            normalize = 'index').style.background_gradient(cmap=purple)"
   ]
  },
  {
   "cell_type": "markdown",
   "metadata": {},
   "source": [
    "It looks like both Partner and Dependents will be important features in the model. Customers with dependents seem especially likely to be retained, which makes sense intuitively."
   ]
  },
  {
   "cell_type": "code",
   "execution_count": 13,
   "metadata": {},
   "outputs": [
    {
     "data": {
      "text/html": [
       "<style  type=\"text/css\" >\n",
       "    #T_54378194_f069_11ea_b8d0_f06e0bdd3db0row0_col0 {\n",
       "            background-color:  #e5e5ff;\n",
       "            color:  #000000;\n",
       "        }    #T_54378194_f069_11ea_b8d0_f06e0bdd3db0row0_col1 {\n",
       "            background-color:  #0000ff;\n",
       "            color:  #f1f1f1;\n",
       "        }    #T_54378194_f069_11ea_b8d0_f06e0bdd3db0row1_col0 {\n",
       "            background-color:  #3131ff;\n",
       "            color:  #f1f1f1;\n",
       "        }    #T_54378194_f069_11ea_b8d0_f06e0bdd3db0row1_col1 {\n",
       "            background-color:  #b5b5ff;\n",
       "            color:  #000000;\n",
       "        }    #T_54378194_f069_11ea_b8d0_f06e0bdd3db0row2_col0 {\n",
       "            background-color:  #0000ff;\n",
       "            color:  #f1f1f1;\n",
       "        }    #T_54378194_f069_11ea_b8d0_f06e0bdd3db0row2_col1 {\n",
       "            background-color:  #e5e5ff;\n",
       "            color:  #000000;\n",
       "        }</style><table id=\"T_54378194_f069_11ea_b8d0_f06e0bdd3db0\" ><thead>    <tr>        <th class=\"index_name level0\" >Churn</th>        <th class=\"col_heading level0 col0\" >No</th>        <th class=\"col_heading level0 col1\" >Yes</th>    </tr>    <tr>        <th class=\"index_name level0\" >Contract</th>        <th class=\"blank\" ></th>        <th class=\"blank\" ></th>    </tr></thead><tbody>\n",
       "                <tr>\n",
       "                        <th id=\"T_54378194_f069_11ea_b8d0_f06e0bdd3db0level0_row0\" class=\"row_heading level0 row0\" >Month-to-month</th>\n",
       "                        <td id=\"T_54378194_f069_11ea_b8d0_f06e0bdd3db0row0_col0\" class=\"data row0 col0\" >0.572903</td>\n",
       "                        <td id=\"T_54378194_f069_11ea_b8d0_f06e0bdd3db0row0_col1\" class=\"data row0 col1\" >0.427097</td>\n",
       "            </tr>\n",
       "            <tr>\n",
       "                        <th id=\"T_54378194_f069_11ea_b8d0_f06e0bdd3db0level0_row1\" class=\"row_heading level0 row1\" >One year</th>\n",
       "                        <td id=\"T_54378194_f069_11ea_b8d0_f06e0bdd3db0row1_col0\" class=\"data row1 col0\" >0.887305</td>\n",
       "                        <td id=\"T_54378194_f069_11ea_b8d0_f06e0bdd3db0row1_col1\" class=\"data row1 col1\" >0.112695</td>\n",
       "            </tr>\n",
       "            <tr>\n",
       "                        <th id=\"T_54378194_f069_11ea_b8d0_f06e0bdd3db0level0_row2\" class=\"row_heading level0 row2\" >Two year</th>\n",
       "                        <td id=\"T_54378194_f069_11ea_b8d0_f06e0bdd3db0row2_col0\" class=\"data row2 col0\" >0.971681</td>\n",
       "                        <td id=\"T_54378194_f069_11ea_b8d0_f06e0bdd3db0row2_col1\" class=\"data row2 col1\" >0.028319</td>\n",
       "            </tr>\n",
       "    </tbody></table>"
      ],
      "text/plain": [
       "<pandas.io.formats.style.Styler at 0x1a813ec9a48>"
      ]
     },
     "execution_count": 13,
     "metadata": {},
     "output_type": "execute_result"
    }
   ],
   "source": [
    "purple = sns.light_palette(\"blue\", as_cmap=True)\n",
    "pd.crosstab(index = telco['Contract'], columns = telco['Churn'], \n",
    "            normalize = 'index').style.background_gradient(cmap=purple)"
   ]
  },
  {
   "cell_type": "code",
   "execution_count": 14,
   "metadata": {},
   "outputs": [
    {
     "data": {
      "text/html": [
       "<style  type=\"text/css\" >\n",
       "    #T_5455939c_f069_11ea_94b8_f06e0bdd3db0row0_col0 {\n",
       "            background-color:  #aa4daa;\n",
       "            color:  #f1f1f1;\n",
       "        }    #T_5455939c_f069_11ea_94b8_f06e0bdd3db0row0_col1 {\n",
       "            background-color:  #d599d5;\n",
       "            color:  #000000;\n",
       "        }    #T_5455939c_f069_11ea_94b8_f06e0bdd3db0row1_col0 {\n",
       "            background-color:  #ffe5ff;\n",
       "            color:  #000000;\n",
       "        }    #T_5455939c_f069_11ea_94b8_f06e0bdd3db0row1_col1 {\n",
       "            background-color:  #800080;\n",
       "            color:  #f1f1f1;\n",
       "        }    #T_5455939c_f069_11ea_94b8_f06e0bdd3db0row2_col0 {\n",
       "            background-color:  #800080;\n",
       "            color:  #f1f1f1;\n",
       "        }    #T_5455939c_f069_11ea_94b8_f06e0bdd3db0row2_col1 {\n",
       "            background-color:  #ffe5ff;\n",
       "            color:  #000000;\n",
       "        }</style><table id=\"T_5455939c_f069_11ea_94b8_f06e0bdd3db0\" ><thead>    <tr>        <th class=\"index_name level0\" >Churn</th>        <th class=\"col_heading level0 col0\" >No</th>        <th class=\"col_heading level0 col1\" >Yes</th>    </tr>    <tr>        <th class=\"index_name level0\" >InternetService</th>        <th class=\"blank\" ></th>        <th class=\"blank\" ></th>    </tr></thead><tbody>\n",
       "                <tr>\n",
       "                        <th id=\"T_5455939c_f069_11ea_94b8_f06e0bdd3db0level0_row0\" class=\"row_heading level0 row0\" >DSL</th>\n",
       "                        <td id=\"T_5455939c_f069_11ea_94b8_f06e0bdd3db0row0_col0\" class=\"data row0 col0\" >0.810409</td>\n",
       "                        <td id=\"T_5455939c_f069_11ea_94b8_f06e0bdd3db0row0_col1\" class=\"data row0 col1\" >0.189591</td>\n",
       "            </tr>\n",
       "            <tr>\n",
       "                        <th id=\"T_5455939c_f069_11ea_94b8_f06e0bdd3db0level0_row1\" class=\"row_heading level0 row1\" >Fiber optic</th>\n",
       "                        <td id=\"T_5455939c_f069_11ea_94b8_f06e0bdd3db0row1_col0\" class=\"data row1 col0\" >0.581072</td>\n",
       "                        <td id=\"T_5455939c_f069_11ea_94b8_f06e0bdd3db0row1_col1\" class=\"data row1 col1\" >0.418928</td>\n",
       "            </tr>\n",
       "            <tr>\n",
       "                        <th id=\"T_5455939c_f069_11ea_94b8_f06e0bdd3db0level0_row2\" class=\"row_heading level0 row2\" >No</th>\n",
       "                        <td id=\"T_5455939c_f069_11ea_94b8_f06e0bdd3db0row2_col0\" class=\"data row2 col0\" >0.925950</td>\n",
       "                        <td id=\"T_5455939c_f069_11ea_94b8_f06e0bdd3db0row2_col1\" class=\"data row2 col1\" >0.074050</td>\n",
       "            </tr>\n",
       "    </tbody></table>"
      ],
      "text/plain": [
       "<pandas.io.formats.style.Styler at 0x1a813ee7648>"
      ]
     },
     "execution_count": 14,
     "metadata": {},
     "output_type": "execute_result"
    }
   ],
   "source": [
    "purple = sns.light_palette(\"purple\", as_cmap=True)\n",
    "pd.crosstab(index = telco['InternetService'], columns = telco['Churn'], \n",
    "            normalize = 'index').style.background_gradient(cmap=purple)"
   ]
  },
  {
   "cell_type": "markdown",
   "metadata": {},
   "source": [
    "Contract is likely to be a major driver of the model. The data confirms this with 43% of month to month customers churning. This is about 25x higher than customers with two year contracts.\n",
    "\n",
    "As for internet service, we see some surprising results. Those without internet service churned were less likely to churn by a lot. This may indicate that customers with internet service were disappointed with the service or were able to get better deals from another player."
   ]
  },
  {
   "cell_type": "code",
   "execution_count": 15,
   "metadata": {},
   "outputs": [
    {
     "data": {
      "text/html": [
       "<style  type=\"text/css\" >\n",
       "    #T_548ed2ec_f069_11ea_9255_f06e0bdd3db0row0_col0 {\n",
       "            background-color:  #800080;\n",
       "            color:  #f1f1f1;\n",
       "        }    #T_548ed2ec_f069_11ea_9255_f06e0bdd3db0row0_col1 {\n",
       "            background-color:  #ffe5ff;\n",
       "            color:  #000000;\n",
       "        }    #T_548ed2ec_f069_11ea_9255_f06e0bdd3db0row1_col0 {\n",
       "            background-color:  #ffe5ff;\n",
       "            color:  #000000;\n",
       "        }    #T_548ed2ec_f069_11ea_9255_f06e0bdd3db0row1_col1 {\n",
       "            background-color:  #800080;\n",
       "            color:  #f1f1f1;\n",
       "        }</style><table id=\"T_548ed2ec_f069_11ea_9255_f06e0bdd3db0\" ><thead>    <tr>        <th class=\"index_name level0\" >Churn</th>        <th class=\"col_heading level0 col0\" >No</th>        <th class=\"col_heading level0 col1\" >Yes</th>    </tr>    <tr>        <th class=\"index_name level0\" >PhoneService</th>        <th class=\"blank\" ></th>        <th class=\"blank\" ></th>    </tr></thead><tbody>\n",
       "                <tr>\n",
       "                        <th id=\"T_548ed2ec_f069_11ea_9255_f06e0bdd3db0level0_row0\" class=\"row_heading level0 row0\" >No</th>\n",
       "                        <td id=\"T_548ed2ec_f069_11ea_9255_f06e0bdd3db0row0_col0\" class=\"data row0 col0\" >0.750733</td>\n",
       "                        <td id=\"T_548ed2ec_f069_11ea_9255_f06e0bdd3db0row0_col1\" class=\"data row0 col1\" >0.249267</td>\n",
       "            </tr>\n",
       "            <tr>\n",
       "                        <th id=\"T_548ed2ec_f069_11ea_9255_f06e0bdd3db0level0_row1\" class=\"row_heading level0 row1\" >Yes</th>\n",
       "                        <td id=\"T_548ed2ec_f069_11ea_9255_f06e0bdd3db0row1_col0\" class=\"data row1 col0\" >0.732904</td>\n",
       "                        <td id=\"T_548ed2ec_f069_11ea_9255_f06e0bdd3db0row1_col1\" class=\"data row1 col1\" >0.267096</td>\n",
       "            </tr>\n",
       "    </tbody></table>"
      ],
      "text/plain": [
       "<pandas.io.formats.style.Styler at 0x1a813ee35c8>"
      ]
     },
     "execution_count": 15,
     "metadata": {},
     "output_type": "execute_result"
    }
   ],
   "source": [
    "purple = sns.light_palette(\"purple\", as_cmap=True)\n",
    "pd.crosstab(index = telco['PhoneService'], columns = telco['Churn'], \n",
    "            normalize = 'index').style.background_gradient(cmap=purple)"
   ]
  },
  {
   "cell_type": "code",
   "execution_count": 16,
   "metadata": {},
   "outputs": [
    {
     "data": {
      "text/html": [
       "<style  type=\"text/css\" >\n",
       "    #T_54ac5b24_f069_11ea_850b_f06e0bdd3db0row0_col0 {\n",
       "            background-color:  #840784;\n",
       "            color:  #f1f1f1;\n",
       "        }    #T_54ac5b24_f069_11ea_850b_f06e0bdd3db0row0_col1 {\n",
       "            background-color:  #fbdefb;\n",
       "            color:  #000000;\n",
       "        }    #T_54ac5b24_f069_11ea_850b_f06e0bdd3db0row1_col0 {\n",
       "            background-color:  #800080;\n",
       "            color:  #f1f1f1;\n",
       "        }    #T_54ac5b24_f069_11ea_850b_f06e0bdd3db0row1_col1 {\n",
       "            background-color:  #ffe5ff;\n",
       "            color:  #000000;\n",
       "        }    #T_54ac5b24_f069_11ea_850b_f06e0bdd3db0row2_col0 {\n",
       "            background-color:  #ffe5ff;\n",
       "            color:  #000000;\n",
       "        }    #T_54ac5b24_f069_11ea_850b_f06e0bdd3db0row2_col1 {\n",
       "            background-color:  #800080;\n",
       "            color:  #f1f1f1;\n",
       "        }</style><table id=\"T_54ac5b24_f069_11ea_850b_f06e0bdd3db0\" ><thead>    <tr>        <th class=\"index_name level0\" >Churn</th>        <th class=\"col_heading level0 col0\" >No</th>        <th class=\"col_heading level0 col1\" >Yes</th>    </tr>    <tr>        <th class=\"index_name level0\" >MultipleLines</th>        <th class=\"blank\" ></th>        <th class=\"blank\" ></th>    </tr></thead><tbody>\n",
       "                <tr>\n",
       "                        <th id=\"T_54ac5b24_f069_11ea_850b_f06e0bdd3db0level0_row0\" class=\"row_heading level0 row0\" >No</th>\n",
       "                        <td id=\"T_54ac5b24_f069_11ea_850b_f06e0bdd3db0row0_col0\" class=\"data row0 col0\" >0.749558</td>\n",
       "                        <td id=\"T_54ac5b24_f069_11ea_850b_f06e0bdd3db0row0_col1\" class=\"data row0 col1\" >0.250442</td>\n",
       "            </tr>\n",
       "            <tr>\n",
       "                        <th id=\"T_54ac5b24_f069_11ea_850b_f06e0bdd3db0level0_row1\" class=\"row_heading level0 row1\" >No phone service</th>\n",
       "                        <td id=\"T_54ac5b24_f069_11ea_850b_f06e0bdd3db0row1_col0\" class=\"data row1 col0\" >0.750733</td>\n",
       "                        <td id=\"T_54ac5b24_f069_11ea_850b_f06e0bdd3db0row1_col1\" class=\"data row1 col1\" >0.249267</td>\n",
       "            </tr>\n",
       "            <tr>\n",
       "                        <th id=\"T_54ac5b24_f069_11ea_850b_f06e0bdd3db0level0_row2\" class=\"row_heading level0 row2\" >Yes</th>\n",
       "                        <td id=\"T_54ac5b24_f069_11ea_850b_f06e0bdd3db0row2_col0\" class=\"data row2 col0\" >0.713901</td>\n",
       "                        <td id=\"T_54ac5b24_f069_11ea_850b_f06e0bdd3db0row2_col1\" class=\"data row2 col1\" >0.286099</td>\n",
       "            </tr>\n",
       "    </tbody></table>"
      ],
      "text/plain": [
       "<pandas.io.formats.style.Styler at 0x1a813ef22c8>"
      ]
     },
     "execution_count": 16,
     "metadata": {},
     "output_type": "execute_result"
    }
   ],
   "source": [
    "purple = sns.light_palette(\"purple\", as_cmap=True)\n",
    "pd.crosstab(index = telco['MultipleLines'], columns = telco['Churn'], \n",
    "            normalize = 'index').style.background_gradient(cmap=purple)"
   ]
  },
  {
   "cell_type": "markdown",
   "metadata": {},
   "source": [
    "Neither of these variables look to be significant. "
   ]
  },
  {
   "cell_type": "code",
   "execution_count": 17,
   "metadata": {},
   "outputs": [
    {
     "data": {
      "image/png": "[encoded data removed]",
      "text/plain": [
       "<Figure size 432x288 with 1 Axes>"
      ]
     },
     "metadata": {
      "needs_background": "light"
     },
     "output_type": "display_data"
    }
   ],
   "source": [
    "ax = sns.barplot(x = 'Churn', y = 'tenure', data = telco)\n",
    "ax.set_title('churned vs retained customers by tenure');"
   ]
  },
  {
   "cell_type": "code",
   "execution_count": 18,
   "metadata": {},
   "outputs": [
    {
     "data": {
      "image/png": "[encoded data removed]",
      "text/plain": [
       "<Figure size 432x288 with 1 Axes>"
      ]
     },
     "metadata": {
      "needs_background": "light"
     },
     "output_type": "display_data"
    }
   ],
   "source": [
    "ax = sns.barplot(x = 'Churn', y = 'MonthlyCharges', data = telco)\n",
    "ax.set_title('churned vs retained customers by monthly charges');"
   ]
  },
  {
   "cell_type": "markdown",
   "metadata": {},
   "source": [
    "Unsurprisingly, tenure is a large factor in churn rate. Customers who churned had a tenure about half as long as customers who did not churn.\n",
    "\n",
    "Monthly charges is an interesting case. We can see that customers are price sensitive. Those who were charged more (either on better deals or paid for more services) churned at a higher rate. This could be connected to the internet service customers who were either disappointed with their internet or saw better deals elsewhere."
   ]
  },
  {
   "cell_type": "code",
   "execution_count": 19,
   "metadata": {},
   "outputs": [
    {
     "data": {
      "image/png": "[encoded data removed]",
      "text/plain": [
       "<Figure size 1153.88x360 with 3 Axes>"
      ]
     },
     "metadata": {
      "needs_background": "light"
     },
     "output_type": "display_data"
    }
   ],
   "source": [
    "sns.catplot(x = 'Churn', hue = 'SeniorCitizen', data = telco, \n",
    "            col = 'Contract', kind = 'count', height = 5, aspect = 1);"
   ]
  },
  {
   "cell_type": "markdown",
   "metadata": {},
   "source": [
    "The most striking part of this chart is that Senior Citizens are much more likely to churn on the month to month contract."
   ]
  },
  {
   "cell_type": "code",
   "execution_count": 20,
   "metadata": {},
   "outputs": [
    {
     "data": {
      "image/png": "[encoded data removed]",
      "text/plain": [
       "<Figure size 1211.38x360 with 3 Axes>"
      ]
     },
     "metadata": {
      "needs_background": "light"
     },
     "output_type": "display_data"
    }
   ],
   "source": [
    "sns.catplot(x = 'Churn', hue = 'TechSupport', data = telco, \n",
    "            col = 'DeviceProtection', kind = 'count', height = 5, aspect = 1);"
   ]
  },
  {
   "cell_type": "markdown",
   "metadata": {},
   "source": [
    "Tech support seems to make a big difference for customers, while the significance of device protection is unclear."
   ]
  },
  {
   "cell_type": "code",
   "execution_count": 21,
   "metadata": {},
   "outputs": [
    {
     "data": {
      "image/png": "[encoded data removed]",
      "text/plain": [
       "<Figure size 1211.38x360 with 3 Axes>"
      ]
     },
     "metadata": {
      "needs_background": "light"
     },
     "output_type": "display_data"
    }
   ],
   "source": [
    "sns.catplot(x = 'Churn', hue = 'StreamingTV', data = telco, \n",
    "            col = 'StreamingMovies', kind = 'count', height = 5, aspect = 1);"
   ]
  },
  {
   "cell_type": "code",
   "execution_count": 22,
   "metadata": {},
   "outputs": [
    {
     "data": {
      "image/png": "[encoded data removed]",
      "text/plain": [
       "<Figure size 1211.38x360 with 3 Axes>"
      ]
     },
     "metadata": {
      "needs_background": "light"
     },
     "output_type": "display_data"
    }
   ],
   "source": [
    "sns.catplot(x = 'Churn', hue = 'OnlineSecurity', data = telco, \n",
    "            col = 'OnlineBackup', kind = 'count', height = 5, aspect = 1);"
   ]
  },
  {
   "cell_type": "markdown",
   "metadata": {},
   "source": [
    "### One Hot Encoding and Normalizing the Data"
   ]
  },
  {
   "cell_type": "code",
   "execution_count": 23,
   "metadata": {},
   "outputs": [
    {
     "name": "stdout",
     "output_type": "stream",
     "text": [
      "Numeric columns are tenure, MonthlyCharges, TotalCharges.\n",
      "Categorical columns are gender, SeniorCitizen, Partner, Dependents, PhoneService, MultipleLines, InternetService, OnlineSecurity, OnlineBackup, DeviceProtection, TechSupport, StreamingTV, StreamingMovies, Contract, PaperlessBilling, PaymentMethod.\n"
     ]
    }
   ],
   "source": [
    "#differentiate categorical and numeric\n",
    "num_cols = telco.select_dtypes(['integer', 'float']).columns\n",
    "cat_cols = telco.select_dtypes(['category']).drop(columns = \"Churn\").columns\n",
    "\n",
    "print(\"Numeric columns are {}.\".format(\", \".join(num_cols)))\n",
    "print(\"Categorical columns are {}.\".format(\", \".join(cat_cols)))"
   ]
  },
  {
   "cell_type": "code",
   "execution_count": 24,
   "metadata": {},
   "outputs": [
    {
     "name": "stdout",
     "output_type": "stream",
     "text": [
      "Training data has 5282 rows.\n",
      "Test data has 1761 rows.\n"
     ]
    }
   ],
   "source": [
    "#split train and test sets\n",
    "from sklearn.model_selection import train_test_split\n",
    "\n",
    "X_train, X_test, y_train, y_test = train_test_split(telco.drop(columns = \"Churn\"), telco[\"Churn\"], \n",
    "                                                    test_size = 0.25, random_state = 42)\n",
    "\n",
    "X_train = X_train.reset_index(drop = True)\n",
    "X_test = X_test.reset_index(drop = True)\n",
    "\n",
    "print(f\"Training data has {X_train.shape[0]} rows.\")\n",
    "print(f\"Test data has {X_test.shape[0]} rows.\")"
   ]
  },
  {
   "cell_type": "code",
   "execution_count": 25,
   "metadata": {},
   "outputs": [],
   "source": [
    "#one hot encode non numeric columns\n",
    "from sklearn.preprocessing import OneHotEncoder\n",
    "\n",
    "onehoter = OneHotEncoder(sparse = False, drop = \"first\")\n",
    "onehoter.fit(X_train[cat_cols])\n",
    "onehot_cols = onehoter.get_feature_names(cat_cols)\n",
    "X_train_onehot = pd.DataFrame(onehoter.transform(X_train[cat_cols]), columns = onehot_cols)\n",
    "X_test_onehot = pd.DataFrame(onehoter.transform(X_test[cat_cols]), columns = onehot_cols)"
   ]
  },
  {
   "cell_type": "code",
   "execution_count": 26,
   "metadata": {},
   "outputs": [
    {
     "data": {
      "text/html": [
       "<div>\n",
       "<style scoped>\n",
       "    .dataframe tbody tr th:only-of-type {\n",
       "        vertical-align: middle;\n",
       "    }\n",
       "\n",
       "    .dataframe tbody tr th {\n",
       "        vertical-align: top;\n",
       "    }\n",
       "\n",
       "    .dataframe thead th {\n",
       "        text-align: right;\n",
       "    }\n",
       "</style>\n",
       "<table border=\"1\" class=\"dataframe\">\n",
       "  <thead>\n",
       "    <tr style=\"text-align: right;\">\n",
       "      <th></th>\n",
       "      <th>tenure</th>\n",
       "      <th>MonthlyCharges</th>\n",
       "      <th>TotalCharges</th>\n",
       "    </tr>\n",
       "  </thead>\n",
       "  <tbody>\n",
       "    <tr>\n",
       "      <th>0</th>\n",
       "      <td>-1.282882</td>\n",
       "      <td>-1.310046</td>\n",
       "      <td>-0.999361</td>\n",
       "    </tr>\n",
       "    <tr>\n",
       "      <th>1</th>\n",
       "      <td>-1.037857</td>\n",
       "      <td>0.344832</td>\n",
       "      <td>-0.778920</td>\n",
       "    </tr>\n",
       "    <tr>\n",
       "      <th>2</th>\n",
       "      <td>-1.160369</td>\n",
       "      <td>-1.484331</td>\n",
       "      <td>-0.972804</td>\n",
       "    </tr>\n",
       "    <tr>\n",
       "      <th>3</th>\n",
       "      <td>-0.139429</td>\n",
       "      <td>0.373049</td>\n",
       "      <td>-0.033271</td>\n",
       "    </tr>\n",
       "    <tr>\n",
       "      <th>4</th>\n",
       "      <td>-1.201207</td>\n",
       "      <td>0.343172</td>\n",
       "      <td>-0.891103</td>\n",
       "    </tr>\n",
       "  </tbody>\n",
       "</table>\n",
       "</div>"
      ],
      "text/plain": [
       "     tenure  MonthlyCharges  TotalCharges\n",
       "0 -1.282882       -1.310046     -0.999361\n",
       "1 -1.037857        0.344832     -0.778920\n",
       "2 -1.160369       -1.484331     -0.972804\n",
       "3 -0.139429        0.373049     -0.033271\n",
       "4 -1.201207        0.343172     -0.891103"
      ]
     },
     "execution_count": 26,
     "metadata": {},
     "output_type": "execute_result"
    }
   ],
   "source": [
    "#normalize numeric columns\n",
    "from sklearn.preprocessing import StandardScaler\n",
    "\n",
    "znormalizer = StandardScaler()\n",
    "znormalizer.fit(X_train[num_cols])\n",
    "X_train_norm = pd.DataFrame(znormalizer.transform(X_train[num_cols]), columns = num_cols)\n",
    "X_test_norm = pd.DataFrame(znormalizer.transform(X_test[num_cols]), columns = num_cols)\n",
    "X_train_norm.head()"
   ]
  },
  {
   "cell_type": "code",
   "execution_count": 27,
   "metadata": {},
   "outputs": [
    {
     "name": "stdout",
     "output_type": "stream",
     "text": [
      "Featurized training data has 5282 rows and 30 columns.\n",
      "Featurized test data has 1761 rows and 30 columns.\n"
     ]
    }
   ],
   "source": [
    "X_train_featurized = X_train_onehot # add one-hot-encoded columns\n",
    "X_test_featurized = X_test_onehot   # add one-hot-encoded columns\n",
    "X_train_featurized[num_cols] = X_train_norm # add numeric columns\n",
    "X_test_featurized[num_cols] = X_test_norm   # add numeric columns\n",
    "\n",
    "del X_train_norm, X_test_norm, X_train_onehot, X_test_onehot\n",
    "\n",
    "print(\"Featurized training data has {} rows and {} columns.\".format(*X_train_featurized.shape))\n",
    "print(\"Featurized test data has {} rows and {} columns.\".format(*X_test_featurized.shape))"
   ]
  },
  {
   "cell_type": "markdown",
   "metadata": {},
   "source": [
    "### Modeling"
   ]
  },
  {
   "cell_type": "code",
   "execution_count": 28,
   "metadata": {},
   "outputs": [],
   "source": [
    "#train and predict\n",
    "\n",
    "from sklearn.linear_model import LogisticRegression\n",
    "\n",
    "logit = LogisticRegression(max_iter = 5000)\n",
    "logit.fit(X_train_featurized, y_train)\n",
    "\n",
    "y_hat_train = logit.predict(X_train_featurized)\n",
    "y_hat_test = logit.predict(X_test_featurized)"
   ]
  },
  {
   "cell_type": "code",
   "execution_count": 29,
   "metadata": {},
   "outputs": [
    {
     "name": "stdout",
     "output_type": "stream",
     "text": [
      "Precision = 66% and recall = 53% on the training data.\n",
      "Precision = 68% and recall = 58% on the test data.\n"
     ]
    }
   ],
   "source": [
    "from sklearn.metrics import precision_score, recall_score, accuracy_score\n",
    "precision_train = precision_score(y_train, y_hat_train, pos_label = 'Yes') * 100\n",
    "precision_test = precision_score(y_test, y_hat_test, pos_label = 'Yes') * 100\n",
    "\n",
    "recall_train = recall_score(y_train, y_hat_train, pos_label = 'Yes') * 100\n",
    "recall_test = recall_score(y_test, y_hat_test, pos_label = 'Yes') * 100\n",
    "\n",
    "print(\"Precision = {:.0f}% and recall = {:.0f}% on the training data.\".format(precision_train, recall_train))\n",
    "print(\"Precision = {:.0f}% and recall = {:.0f}% on the test data.\".format(precision_test, recall_test))"
   ]
  },
  {
   "cell_type": "markdown",
   "metadata": {},
   "source": [
    "We're seeing very good performance on the test data. Above 50% precision and recall is quite good."
   ]
  },
  {
   "cell_type": "code",
   "execution_count": 30,
   "metadata": {},
   "outputs": [
    {
     "name": "stdout",
     "output_type": "stream",
     "text": [
      "Accuracy = 80% on the training data.\n",
      "Accuracy = 81% on the test data.\n"
     ]
    }
   ],
   "source": [
    "accuracy_train = accuracy_score(y_train, y_hat_train) * 100\n",
    "accuracy_test = accuracy_score(y_test, y_hat_test) * 100\n",
    "\n",
    "print(\"Accuracy = {:.0f}% on the training data.\".format(accuracy_train))\n",
    "print(\"Accuracy = {:.0f}% on the test data.\".format(accuracy_test))"
   ]
  },
  {
   "cell_type": "markdown",
   "metadata": {},
   "source": [
    "81% overall accuracy on the predictions. Let's plot AUC now."
   ]
  },
  {
   "cell_type": "code",
   "execution_count": 31,
   "metadata": {},
   "outputs": [],
   "source": [
    "from sklearn.metrics import roc_curve, auc\n",
    "import matplotlib.pyplot as plt\n",
    "\n",
    "def plot_roc(models, model_names):\n",
    "    plt.figure(0, figsize = [8, 7]).clf()\n",
    "    plt.plot([0, 1], [0, 1],'r--')\n",
    "    plt.xlim([0, 1])\n",
    "    plt.ylim([0, 1])\n",
    "    plt.ylabel('True Positive Rate')\n",
    "    plt.xlabel('False Positive Rate')\n",
    "    \n",
    "    for ii, model in enumerate(models):\n",
    "        y_prob_test = model.predict_proba(X_test_featurized)[:, 1]\n",
    "        fpr, tpr, threshold = roc_curve(y_test, y_prob_test, pos_label = \"Yes\")\n",
    "        roc_auc = auc(fpr, tpr)\n",
    "\n",
    "        plt.plot(fpr, tpr, label = \"{} AUC = {:0.2f}\".format(model_names[ii], roc_auc))\n",
    "\n",
    "    plt.legend(loc = 'lower right');"
   ]
  },
  {
   "cell_type": "code",
   "execution_count": 32,
   "metadata": {},
   "outputs": [
    {
     "data": {
      "image/png": "[encoded data removed]",
      "text/plain": [
       "<Figure size 576x504 with 1 Axes>"
      ]
     },
     "metadata": {
      "needs_background": "light"
     },
     "output_type": "display_data"
    }
   ],
   "source": [
    "plot_roc([logit], ['logistic'])"
   ]
  },
  {
   "cell_type": "code",
   "execution_count": 39,
   "metadata": {},
   "outputs": [
    {
     "name": "stdout",
     "output_type": "stream",
     "text": [
      "[-1.61636264]\n",
      "[[-0.04708616  0.14497165  0.01353384 -0.16066118 -0.18674141  0.19094196\n",
      "   0.29946675  1.02553866 -0.15746799 -0.15746799 -0.39645463 -0.15746799\n",
      "  -0.1418897  -0.15746799  0.02207905 -0.15746799 -0.28470755 -0.15746799\n",
      "   0.24106158 -0.15746799  0.36089598 -0.64217622 -1.48924792  0.30551703\n",
      "  -0.11210505  0.31011952 -0.05994672 -1.33402369 -0.36859776  0.65227628]]\n"
     ]
    }
   ],
   "source": [
    "print(logit.intercept_)\n",
    "print(logit.coef_)"
   ]
  },
  {
   "cell_type": "markdown",
   "metadata": {},
   "source": [
    "### Final Thoughts\n",
    "\n",
    "With a 86% AUC we can safely say that the model has good performance and generalizes well. There are still some false positives, which a more complex model may be able to pick up. That may be something we could look at for next steps.\n",
    "\n",
    "The implications of the model are that we can now predict churn of a customer beforehand and then put together retention plans going forward. For example, we noted that customers are price sensitive. If we were able to individually target customers most likely to churn due to price, we could put together a discount package or a deal to bundle other things together to make our offering more competitive.\n",
    "\n",
    "The benefit of going with a logistic regression here vs a more complex model is its tendency to not overfit and also its interpretability. Notice how we were able to get very good test results with no drop off from the training set. This is a good sign for the model's performance going forward."
   ]
  }
 ],
 "metadata": {
  "kernelspec": {
   "display_name": "Python 3",
   "language": "python",
   "name": "python3"
  },
  "language_info": {
   "codemirror_mode": {
    "name": "ipython",
    "version": 3
   },
   "file_extension": ".py",
   "mimetype": "text/x-python",
   "name": "python",
   "nbconvert_exporter": "python",
   "pygments_lexer": "ipython3",
   "version": "3.7.6"
  }
 },
 "nbformat": 4,
 "nbformat_minor": 4
}
