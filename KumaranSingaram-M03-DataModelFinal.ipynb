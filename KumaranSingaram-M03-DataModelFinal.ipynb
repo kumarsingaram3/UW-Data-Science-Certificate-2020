{
 "cells": [
  {
   "cell_type": "markdown",
   "metadata": {},
   "source": [
    "# Milestone 3\n",
    "# Kumaran Singaram"
   ]
  },
  {
   "cell_type": "markdown",
   "metadata": {},
   "source": [
    "## Best Practices for Assignments & Milestones\n",
    "\n",
    "- <b>Break the assignment into sections - one section per numbered requirement.</b> Each assignment has numbered requirements/instructions e.g. \"1. Read the CIFAR-10 dataset\". Each requirement should have at least one markdown cell and at least one code cell. Feel free to combine sections or make other sensible changes if that makes sense for your code and is still clear. The intent is to give you a useful structure and to make sure you get full credit for your work.\n",
    "\n",
    "- <b>Break the milestone into sections - one section for each item in the rubric.</b> Each milestone has rubric items e.g. \"5. Handle class imbalance problem\". Each rubric item should have at least one markdown cell and at least one code cell. Feel free to combine sections or make other sensible changes if that makes sense for your code and is still clear. The intent is to give you a useful structure and to make sure you get full credit for your work.\n",
    "\n",
    "- <b>Include comments, with block comments preferred over in-line comments.</b> A good habit is to start each code cell with comments.\n",
    "\n",
    "The above put into a useful pattern:\n",
    "\n",
    "<b>Markdown cell:</b> Requirement #1: Read the CIFAR-10 dataset<br>\n",
    "<b>Code cell:</b>: Comments followed by code<br>\n",
    "<b>Markdown cell:</b> Requirement #2: Explore the data<br>\n",
    "<b>Code cell:</b>: Comments followed by code<br>\n",
    "<b>Markdown cell:</b> Requirement #3: Preprocess the data and prepare for classification<br>\n",
    "<b>Code cell:</b>: Comments followed by code<br>\n",
    "\n",
    "For more information:\n",
    "- A good notebook example: [DataFrame Basics](https://github.com/Tanu-N-Prabhu/Python/blob/master/Pandas/Pandas_DataFrame.ipynb) \n",
    "- More example notebooks: [A gallery of interesting Jupyter Notebooks](https://github.com/jupyter/jupyter/wiki/A-gallery-of-interesting-Jupyter-Notebooks#pandas-for-data-analysis)\n",
    "- [PEP 8 on commenting](https://www.python.org/dev/peps/pep-0008/)\n",
    "- [PEP 257 - docstrings](https://www.python.org/dev/peps/pep-0257/)\n",
    "\n",
    "Occasionally an assignment or milestone will ask you to do something other than write Python code e.g. ask you turn in a .docx file. In which case, please use logical structuring, but the specific notes above may not apply."
   ]
  },
  {
   "cell_type": "markdown",
   "metadata": {},
   "source": [
    "**Data Preparation Introduction**\n",
    "\n",
    "In using the google play store data, I have access to the top ranked mobile applications with a variety of useful indicators. I will be using the category, rating, reviews, size, installs, genres and content rating to predict whether the App if a free or paid app. \n",
    "\n",
    "This can help determine some of the variables driving the top ranking apps. I need to remove the missing values and replace them with mean values wherever necessary. The size column also contains string values and these need to be converted into numeric values. I need to remove the columns I will not be using. These include, Last Updated, Current Ver, and Android Ver. I can then apply K-Means clustering and conduct a logistic regression and a decision tree classifier."
   ]
  },
  {
   "cell_type": "code",
   "execution_count": 81,
   "metadata": {},
   "outputs": [
    {
     "data": {
      "text/html": [
       "<div>\n",
       "<style scoped>\n",
       "    .dataframe tbody tr th:only-of-type {\n",
       "        vertical-align: middle;\n",
       "    }\n",
       "\n",
       "    .dataframe tbody tr th {\n",
       "        vertical-align: top;\n",
       "    }\n",
       "\n",
       "    .dataframe thead th {\n",
       "        text-align: right;\n",
       "    }\n",
       "</style>\n",
       "<table border=\"1\" class=\"dataframe\">\n",
       "  <thead>\n",
       "    <tr style=\"text-align: right;\">\n",
       "      <th></th>\n",
       "      <th>App</th>\n",
       "      <th>Category</th>\n",
       "      <th>Rating</th>\n",
       "      <th>Reviews</th>\n",
       "      <th>Size</th>\n",
       "      <th>Installs</th>\n",
       "      <th>Type</th>\n",
       "      <th>Content Rating</th>\n",
       "      <th>Genres</th>\n",
       "      <th>Last Updated</th>\n",
       "      <th>Current Ver</th>\n",
       "      <th>Android Ver</th>\n",
       "    </tr>\n",
       "  </thead>\n",
       "  <tbody>\n",
       "    <tr>\n",
       "      <th>0</th>\n",
       "      <td>Facebook</td>\n",
       "      <td>SOCIAL</td>\n",
       "      <td>4.1</td>\n",
       "      <td>78158306</td>\n",
       "      <td>Varies with device</td>\n",
       "      <td>1,000,000,000+</td>\n",
       "      <td>Free</td>\n",
       "      <td>Teen</td>\n",
       "      <td>Social</td>\n",
       "      <td>3-Aug-18</td>\n",
       "      <td>Varies with device</td>\n",
       "      <td>Varies with device</td>\n",
       "    </tr>\n",
       "    <tr>\n",
       "      <th>1</th>\n",
       "      <td>Facebook</td>\n",
       "      <td>SOCIAL</td>\n",
       "      <td>4.1</td>\n",
       "      <td>78128208</td>\n",
       "      <td>Varies with device</td>\n",
       "      <td>1,000,000,000+</td>\n",
       "      <td>Free</td>\n",
       "      <td>Teen</td>\n",
       "      <td>Social</td>\n",
       "      <td>3-Aug-18</td>\n",
       "      <td>Varies with device</td>\n",
       "      <td>Varies with device</td>\n",
       "    </tr>\n",
       "    <tr>\n",
       "      <th>2</th>\n",
       "      <td>WhatsApp Messenger</td>\n",
       "      <td>COMMUNICATION</td>\n",
       "      <td>4.4</td>\n",
       "      <td>69119316</td>\n",
       "      <td>Varies with device</td>\n",
       "      <td>1,000,000,000+</td>\n",
       "      <td>Free</td>\n",
       "      <td>Everyone</td>\n",
       "      <td>Communication</td>\n",
       "      <td>3-Aug-18</td>\n",
       "      <td>Varies with device</td>\n",
       "      <td>Varies with device</td>\n",
       "    </tr>\n",
       "    <tr>\n",
       "      <th>3</th>\n",
       "      <td>WhatsApp Messenger</td>\n",
       "      <td>COMMUNICATION</td>\n",
       "      <td>4.4</td>\n",
       "      <td>69119316</td>\n",
       "      <td>Varies with device</td>\n",
       "      <td>1,000,000,000+</td>\n",
       "      <td>Free</td>\n",
       "      <td>Everyone</td>\n",
       "      <td>Communication</td>\n",
       "      <td>3-Aug-18</td>\n",
       "      <td>Varies with device</td>\n",
       "      <td>Varies with device</td>\n",
       "    </tr>\n",
       "    <tr>\n",
       "      <th>4</th>\n",
       "      <td>WhatsApp Messenger</td>\n",
       "      <td>COMMUNICATION</td>\n",
       "      <td>4.4</td>\n",
       "      <td>69109672</td>\n",
       "      <td>Varies with device</td>\n",
       "      <td>1,000,000,000+</td>\n",
       "      <td>Free</td>\n",
       "      <td>Everyone</td>\n",
       "      <td>Communication</td>\n",
       "      <td>3-Aug-18</td>\n",
       "      <td>Varies with device</td>\n",
       "      <td>Varies with device</td>\n",
       "    </tr>\n",
       "  </tbody>\n",
       "</table>\n",
       "</div>"
      ],
      "text/plain": [
       "                  App       Category  Rating   Reviews                Size  \\\n",
       "0            Facebook         SOCIAL     4.1  78158306  Varies with device   \n",
       "1            Facebook         SOCIAL     4.1  78128208  Varies with device   \n",
       "2  WhatsApp Messenger  COMMUNICATION     4.4  69119316  Varies with device   \n",
       "3  WhatsApp Messenger  COMMUNICATION     4.4  69119316  Varies with device   \n",
       "4  WhatsApp Messenger  COMMUNICATION     4.4  69109672  Varies with device   \n",
       "\n",
       "         Installs  Type Content Rating         Genres Last Updated  \\\n",
       "0  1,000,000,000+  Free           Teen         Social     3-Aug-18   \n",
       "1  1,000,000,000+  Free           Teen         Social     3-Aug-18   \n",
       "2  1,000,000,000+  Free       Everyone  Communication     3-Aug-18   \n",
       "3  1,000,000,000+  Free       Everyone  Communication     3-Aug-18   \n",
       "4  1,000,000,000+  Free       Everyone  Communication     3-Aug-18   \n",
       "\n",
       "          Current Ver         Android Ver  \n",
       "0  Varies with device  Varies with device  \n",
       "1  Varies with device  Varies with device  \n",
       "2  Varies with device  Varies with device  \n",
       "3  Varies with device  Varies with device  \n",
       "4  Varies with device  Varies with device  "
      ]
     },
     "execution_count": 81,
     "metadata": {},
     "output_type": "execute_result"
    }
   ],
   "source": [
    "#import necessary packages and read in dataset\n",
    "import pandas as pd\n",
    "import numpy as np\n",
    "\n",
    "app = pd.read_csv(\"data/googleplaystore.csv\")\n",
    "\n",
    "app.head()"
   ]
  },
  {
   "cell_type": "markdown",
   "metadata": {},
   "source": [
    "**Data Types, Number of observations and attributes**"
   ]
  },
  {
   "cell_type": "code",
   "execution_count": 82,
   "metadata": {},
   "outputs": [
    {
     "data": {
      "text/plain": [
       "(10839, 12)"
      ]
     },
     "execution_count": 82,
     "metadata": {},
     "output_type": "execute_result"
    }
   ],
   "source": [
    "app.shape"
   ]
  },
  {
   "cell_type": "code",
   "execution_count": 83,
   "metadata": {},
   "outputs": [
    {
     "data": {
      "text/plain": [
       "App                object\n",
       "Category           object\n",
       "Rating            float64\n",
       "Reviews             int64\n",
       "Size               object\n",
       "Installs           object\n",
       "Type               object\n",
       "Content Rating     object\n",
       "Genres             object\n",
       "Last Updated       object\n",
       "Current Ver        object\n",
       "Android Ver        object\n",
       "dtype: object"
      ]
     },
     "execution_count": 83,
     "metadata": {},
     "output_type": "execute_result"
    }
   ],
   "source": [
    "app.dtypes"
   ]
  },
  {
   "cell_type": "markdown",
   "metadata": {},
   "source": [
    "**Attribute Description**\n",
    "\n",
    "Definition and Data Type\n",
    "\n",
    "App - Mobile Application Name\n",
    "\n",
    "Category - Identifies the category of the mobile application. Dtype: Object\n",
    "\n",
    "Rating - User rating of each mobile application. Dtype: Float\n",
    "\n",
    "Reviews - # of user reviews on the mobile application. Dtype: Integer\n",
    "\n",
    "Size - Size of the mobile application. Dtype: Object\n",
    "\n",
    "Installs - Number of application installs. Dtype: Object\n",
    "\n",
    "Type - Paid or Free. Dtype: Object\n",
    "\n",
    "Content Rating - Maturity rating. Dtype: Object\n",
    "\n",
    "Genres - Genre of the mobile application. Dtype: Object\n",
    "\n",
    "Last Updated - Last date of application update. Dtype: Object\n",
    "\n",
    "Current Ver - Mobile version. Dtype: Object\n",
    "\n",
    "Android Ver - Android mobile version. Dtype: Object"
   ]
  },
  {
   "cell_type": "code",
   "execution_count": 84,
   "metadata": {},
   "outputs": [
    {
     "data": {
      "text/html": [
       "<div>\n",
       "<style scoped>\n",
       "    .dataframe tbody tr th:only-of-type {\n",
       "        vertical-align: middle;\n",
       "    }\n",
       "\n",
       "    .dataframe tbody tr th {\n",
       "        vertical-align: top;\n",
       "    }\n",
       "\n",
       "    .dataframe thead th {\n",
       "        text-align: right;\n",
       "    }\n",
       "</style>\n",
       "<table border=\"1\" class=\"dataframe\">\n",
       "  <thead>\n",
       "    <tr style=\"text-align: right;\">\n",
       "      <th></th>\n",
       "      <th>App</th>\n",
       "      <th>Category</th>\n",
       "      <th>Rating</th>\n",
       "      <th>Reviews</th>\n",
       "      <th>Size</th>\n",
       "      <th>Installs</th>\n",
       "      <th>Type</th>\n",
       "      <th>Content Rating</th>\n",
       "      <th>Genres</th>\n",
       "      <th>Last Updated</th>\n",
       "      <th>Current Ver</th>\n",
       "      <th>Android Ver</th>\n",
       "    </tr>\n",
       "  </thead>\n",
       "  <tbody>\n",
       "    <tr>\n",
       "      <th>0</th>\n",
       "      <td>Facebook</td>\n",
       "      <td>SOCIAL</td>\n",
       "      <td>4.1</td>\n",
       "      <td>78158306</td>\n",
       "      <td>-1</td>\n",
       "      <td>1,000,000,000+</td>\n",
       "      <td>Free</td>\n",
       "      <td>Teen</td>\n",
       "      <td>Social</td>\n",
       "      <td>3-Aug-18</td>\n",
       "      <td>Varies with device</td>\n",
       "      <td>Varies with device</td>\n",
       "    </tr>\n",
       "    <tr>\n",
       "      <th>1</th>\n",
       "      <td>Facebook</td>\n",
       "      <td>SOCIAL</td>\n",
       "      <td>4.1</td>\n",
       "      <td>78128208</td>\n",
       "      <td>-1</td>\n",
       "      <td>1,000,000,000+</td>\n",
       "      <td>Free</td>\n",
       "      <td>Teen</td>\n",
       "      <td>Social</td>\n",
       "      <td>3-Aug-18</td>\n",
       "      <td>Varies with device</td>\n",
       "      <td>Varies with device</td>\n",
       "    </tr>\n",
       "    <tr>\n",
       "      <th>2</th>\n",
       "      <td>WhatsApp Messenger</td>\n",
       "      <td>COMMUNICATION</td>\n",
       "      <td>4.4</td>\n",
       "      <td>69119316</td>\n",
       "      <td>-1</td>\n",
       "      <td>1,000,000,000+</td>\n",
       "      <td>Free</td>\n",
       "      <td>Everyone</td>\n",
       "      <td>Communication</td>\n",
       "      <td>3-Aug-18</td>\n",
       "      <td>Varies with device</td>\n",
       "      <td>Varies with device</td>\n",
       "    </tr>\n",
       "    <tr>\n",
       "      <th>3</th>\n",
       "      <td>WhatsApp Messenger</td>\n",
       "      <td>COMMUNICATION</td>\n",
       "      <td>4.4</td>\n",
       "      <td>69119316</td>\n",
       "      <td>-1</td>\n",
       "      <td>1,000,000,000+</td>\n",
       "      <td>Free</td>\n",
       "      <td>Everyone</td>\n",
       "      <td>Communication</td>\n",
       "      <td>3-Aug-18</td>\n",
       "      <td>Varies with device</td>\n",
       "      <td>Varies with device</td>\n",
       "    </tr>\n",
       "    <tr>\n",
       "      <th>4</th>\n",
       "      <td>WhatsApp Messenger</td>\n",
       "      <td>COMMUNICATION</td>\n",
       "      <td>4.4</td>\n",
       "      <td>69109672</td>\n",
       "      <td>-1</td>\n",
       "      <td>1,000,000,000+</td>\n",
       "      <td>Free</td>\n",
       "      <td>Everyone</td>\n",
       "      <td>Communication</td>\n",
       "      <td>3-Aug-18</td>\n",
       "      <td>Varies with device</td>\n",
       "      <td>Varies with device</td>\n",
       "    </tr>\n",
       "  </tbody>\n",
       "</table>\n",
       "</div>"
      ],
      "text/plain": [
       "                  App       Category  Rating   Reviews Size        Installs  \\\n",
       "0            Facebook         SOCIAL     4.1  78158306   -1  1,000,000,000+   \n",
       "1            Facebook         SOCIAL     4.1  78128208   -1  1,000,000,000+   \n",
       "2  WhatsApp Messenger  COMMUNICATION     4.4  69119316   -1  1,000,000,000+   \n",
       "3  WhatsApp Messenger  COMMUNICATION     4.4  69119316   -1  1,000,000,000+   \n",
       "4  WhatsApp Messenger  COMMUNICATION     4.4  69109672   -1  1,000,000,000+   \n",
       "\n",
       "   Type Content Rating         Genres Last Updated         Current Ver  \\\n",
       "0  Free           Teen         Social     3-Aug-18  Varies with device   \n",
       "1  Free           Teen         Social     3-Aug-18  Varies with device   \n",
       "2  Free       Everyone  Communication     3-Aug-18  Varies with device   \n",
       "3  Free       Everyone  Communication     3-Aug-18  Varies with device   \n",
       "4  Free       Everyone  Communication     3-Aug-18  Varies with device   \n",
       "\n",
       "          Android Ver  \n",
       "0  Varies with device  \n",
       "1  Varies with device  \n",
       "2  Varies with device  \n",
       "3  Varies with device  \n",
       "4  Varies with device  "
      ]
     },
     "execution_count": 84,
     "metadata": {},
     "output_type": "execute_result"
    }
   ],
   "source": [
    "#begin process to convert size column to a numeric column\n",
    "\n",
    "app['Size'] = app['Size'].replace('Varies with device', -1)\n",
    "app.head()"
   ]
  },
  {
   "cell_type": "code",
   "execution_count": 85,
   "metadata": {},
   "outputs": [],
   "source": [
    "#convert numbers to thousands and millions\n",
    "\n",
    "app['Size'] = app['Size'].replace({'k': '*1e3', 'M': '*1e6'}, regex=True).map(pd.eval).astype(int)"
   ]
  },
  {
   "cell_type": "code",
   "execution_count": 86,
   "metadata": {},
   "outputs": [
    {
     "data": {
      "text/html": [
       "<div>\n",
       "<style scoped>\n",
       "    .dataframe tbody tr th:only-of-type {\n",
       "        vertical-align: middle;\n",
       "    }\n",
       "\n",
       "    .dataframe tbody tr th {\n",
       "        vertical-align: top;\n",
       "    }\n",
       "\n",
       "    .dataframe thead th {\n",
       "        text-align: right;\n",
       "    }\n",
       "</style>\n",
       "<table border=\"1\" class=\"dataframe\">\n",
       "  <thead>\n",
       "    <tr style=\"text-align: right;\">\n",
       "      <th></th>\n",
       "      <th>App</th>\n",
       "      <th>Category</th>\n",
       "      <th>Rating</th>\n",
       "      <th>Reviews</th>\n",
       "      <th>Size</th>\n",
       "      <th>Installs</th>\n",
       "      <th>Type</th>\n",
       "      <th>Content Rating</th>\n",
       "      <th>Genres</th>\n",
       "      <th>Last Updated</th>\n",
       "      <th>Current Ver</th>\n",
       "      <th>Android Ver</th>\n",
       "    </tr>\n",
       "  </thead>\n",
       "  <tbody>\n",
       "    <tr>\n",
       "      <th>0</th>\n",
       "      <td>Facebook</td>\n",
       "      <td>SOCIAL</td>\n",
       "      <td>4.1</td>\n",
       "      <td>78158306</td>\n",
       "      <td>NaN</td>\n",
       "      <td>1,000,000,000+</td>\n",
       "      <td>Free</td>\n",
       "      <td>Teen</td>\n",
       "      <td>Social</td>\n",
       "      <td>3-Aug-18</td>\n",
       "      <td>Varies with device</td>\n",
       "      <td>Varies with device</td>\n",
       "    </tr>\n",
       "    <tr>\n",
       "      <th>1</th>\n",
       "      <td>Facebook</td>\n",
       "      <td>SOCIAL</td>\n",
       "      <td>4.1</td>\n",
       "      <td>78128208</td>\n",
       "      <td>NaN</td>\n",
       "      <td>1,000,000,000+</td>\n",
       "      <td>Free</td>\n",
       "      <td>Teen</td>\n",
       "      <td>Social</td>\n",
       "      <td>3-Aug-18</td>\n",
       "      <td>Varies with device</td>\n",
       "      <td>Varies with device</td>\n",
       "    </tr>\n",
       "    <tr>\n",
       "      <th>2</th>\n",
       "      <td>WhatsApp Messenger</td>\n",
       "      <td>COMMUNICATION</td>\n",
       "      <td>4.4</td>\n",
       "      <td>69119316</td>\n",
       "      <td>NaN</td>\n",
       "      <td>1,000,000,000+</td>\n",
       "      <td>Free</td>\n",
       "      <td>Everyone</td>\n",
       "      <td>Communication</td>\n",
       "      <td>3-Aug-18</td>\n",
       "      <td>Varies with device</td>\n",
       "      <td>Varies with device</td>\n",
       "    </tr>\n",
       "    <tr>\n",
       "      <th>3</th>\n",
       "      <td>WhatsApp Messenger</td>\n",
       "      <td>COMMUNICATION</td>\n",
       "      <td>4.4</td>\n",
       "      <td>69119316</td>\n",
       "      <td>NaN</td>\n",
       "      <td>1,000,000,000+</td>\n",
       "      <td>Free</td>\n",
       "      <td>Everyone</td>\n",
       "      <td>Communication</td>\n",
       "      <td>3-Aug-18</td>\n",
       "      <td>Varies with device</td>\n",
       "      <td>Varies with device</td>\n",
       "    </tr>\n",
       "    <tr>\n",
       "      <th>4</th>\n",
       "      <td>WhatsApp Messenger</td>\n",
       "      <td>COMMUNICATION</td>\n",
       "      <td>4.4</td>\n",
       "      <td>69109672</td>\n",
       "      <td>NaN</td>\n",
       "      <td>1,000,000,000+</td>\n",
       "      <td>Free</td>\n",
       "      <td>Everyone</td>\n",
       "      <td>Communication</td>\n",
       "      <td>3-Aug-18</td>\n",
       "      <td>Varies with device</td>\n",
       "      <td>Varies with device</td>\n",
       "    </tr>\n",
       "  </tbody>\n",
       "</table>\n",
       "</div>"
      ],
      "text/plain": [
       "                  App       Category  Rating   Reviews  Size        Installs  \\\n",
       "0            Facebook         SOCIAL     4.1  78158306   NaN  1,000,000,000+   \n",
       "1            Facebook         SOCIAL     4.1  78128208   NaN  1,000,000,000+   \n",
       "2  WhatsApp Messenger  COMMUNICATION     4.4  69119316   NaN  1,000,000,000+   \n",
       "3  WhatsApp Messenger  COMMUNICATION     4.4  69119316   NaN  1,000,000,000+   \n",
       "4  WhatsApp Messenger  COMMUNICATION     4.4  69109672   NaN  1,000,000,000+   \n",
       "\n",
       "   Type Content Rating         Genres Last Updated         Current Ver  \\\n",
       "0  Free           Teen         Social     3-Aug-18  Varies with device   \n",
       "1  Free           Teen         Social     3-Aug-18  Varies with device   \n",
       "2  Free       Everyone  Communication     3-Aug-18  Varies with device   \n",
       "3  Free       Everyone  Communication     3-Aug-18  Varies with device   \n",
       "4  Free       Everyone  Communication     3-Aug-18  Varies with device   \n",
       "\n",
       "          Android Ver  \n",
       "0  Varies with device  \n",
       "1  Varies with device  \n",
       "2  Varies with device  \n",
       "3  Varies with device  \n",
       "4  Varies with device  "
      ]
     },
     "execution_count": 86,
     "metadata": {},
     "output_type": "execute_result"
    }
   ],
   "source": [
    "#replace -1 values to NaN\n",
    "\n",
    "app['Size'] = app['Size'].replace(-1, np.nan)\n",
    "\n",
    "app.head()"
   ]
  },
  {
   "cell_type": "markdown",
   "metadata": {},
   "source": [
    "**Show Data Preparation**"
   ]
  },
  {
   "cell_type": "code",
   "execution_count": 87,
   "metadata": {},
   "outputs": [
    {
     "data": {
      "text/html": [
       "<div>\n",
       "<style scoped>\n",
       "    .dataframe tbody tr th:only-of-type {\n",
       "        vertical-align: middle;\n",
       "    }\n",
       "\n",
       "    .dataframe tbody tr th {\n",
       "        vertical-align: top;\n",
       "    }\n",
       "\n",
       "    .dataframe thead th {\n",
       "        text-align: right;\n",
       "    }\n",
       "</style>\n",
       "<table border=\"1\" class=\"dataframe\">\n",
       "  <thead>\n",
       "    <tr style=\"text-align: right;\">\n",
       "      <th></th>\n",
       "      <th>Category</th>\n",
       "      <th>Rating</th>\n",
       "      <th>Reviews</th>\n",
       "      <th>Size</th>\n",
       "      <th>Installs</th>\n",
       "      <th>Paid?</th>\n",
       "      <th>Content Rating</th>\n",
       "      <th>Genres</th>\n",
       "    </tr>\n",
       "  </thead>\n",
       "  <tbody>\n",
       "    <tr>\n",
       "      <th>0</th>\n",
       "      <td>SOCIAL</td>\n",
       "      <td>4.1</td>\n",
       "      <td>78158306</td>\n",
       "      <td>NaN</td>\n",
       "      <td>1,000,000,000+</td>\n",
       "      <td>Free</td>\n",
       "      <td>Teen</td>\n",
       "      <td>Social</td>\n",
       "    </tr>\n",
       "    <tr>\n",
       "      <th>1</th>\n",
       "      <td>SOCIAL</td>\n",
       "      <td>4.1</td>\n",
       "      <td>78128208</td>\n",
       "      <td>NaN</td>\n",
       "      <td>1,000,000,000+</td>\n",
       "      <td>Free</td>\n",
       "      <td>Teen</td>\n",
       "      <td>Social</td>\n",
       "    </tr>\n",
       "    <tr>\n",
       "      <th>2</th>\n",
       "      <td>COMMUNICATION</td>\n",
       "      <td>4.4</td>\n",
       "      <td>69119316</td>\n",
       "      <td>NaN</td>\n",
       "      <td>1,000,000,000+</td>\n",
       "      <td>Free</td>\n",
       "      <td>Everyone</td>\n",
       "      <td>Communication</td>\n",
       "    </tr>\n",
       "    <tr>\n",
       "      <th>3</th>\n",
       "      <td>COMMUNICATION</td>\n",
       "      <td>4.4</td>\n",
       "      <td>69119316</td>\n",
       "      <td>NaN</td>\n",
       "      <td>1,000,000,000+</td>\n",
       "      <td>Free</td>\n",
       "      <td>Everyone</td>\n",
       "      <td>Communication</td>\n",
       "    </tr>\n",
       "    <tr>\n",
       "      <th>4</th>\n",
       "      <td>COMMUNICATION</td>\n",
       "      <td>4.4</td>\n",
       "      <td>69109672</td>\n",
       "      <td>NaN</td>\n",
       "      <td>1,000,000,000+</td>\n",
       "      <td>Free</td>\n",
       "      <td>Everyone</td>\n",
       "      <td>Communication</td>\n",
       "    </tr>\n",
       "  </tbody>\n",
       "</table>\n",
       "</div>"
      ],
      "text/plain": [
       "        Category  Rating   Reviews  Size        Installs Paid? Content Rating  \\\n",
       "0         SOCIAL     4.1  78158306   NaN  1,000,000,000+  Free           Teen   \n",
       "1         SOCIAL     4.1  78128208   NaN  1,000,000,000+  Free           Teen   \n",
       "2  COMMUNICATION     4.4  69119316   NaN  1,000,000,000+  Free       Everyone   \n",
       "3  COMMUNICATION     4.4  69119316   NaN  1,000,000,000+  Free       Everyone   \n",
       "4  COMMUNICATION     4.4  69109672   NaN  1,000,000,000+  Free       Everyone   \n",
       "\n",
       "          Genres  \n",
       "0         Social  \n",
       "1         Social  \n",
       "2  Communication  \n",
       "3  Communication  \n",
       "4  Communication  "
      ]
     },
     "execution_count": 87,
     "metadata": {},
     "output_type": "execute_result"
    }
   ],
   "source": [
    "#drop unused columns in modeling\n",
    "app = app.drop(columns = ['Last Updated', 'Current Ver', 'Android Ver', 'App'])\n",
    "app = app.rename(columns = {'Type': 'Paid?'})\n",
    "app.head()"
   ]
  },
  {
   "cell_type": "code",
   "execution_count": 88,
   "metadata": {},
   "outputs": [
    {
     "data": {
      "text/html": [
       "<div>\n",
       "<style scoped>\n",
       "    .dataframe tbody tr th:only-of-type {\n",
       "        vertical-align: middle;\n",
       "    }\n",
       "\n",
       "    .dataframe tbody tr th {\n",
       "        vertical-align: top;\n",
       "    }\n",
       "\n",
       "    .dataframe thead th {\n",
       "        text-align: right;\n",
       "    }\n",
       "</style>\n",
       "<table border=\"1\" class=\"dataframe\">\n",
       "  <thead>\n",
       "    <tr style=\"text-align: right;\">\n",
       "      <th></th>\n",
       "      <th>Category</th>\n",
       "      <th>Rating</th>\n",
       "      <th>Reviews</th>\n",
       "      <th>Size</th>\n",
       "      <th>Installs</th>\n",
       "      <th>Paid?</th>\n",
       "      <th>Content Rating</th>\n",
       "      <th>Genres</th>\n",
       "    </tr>\n",
       "  </thead>\n",
       "  <tbody>\n",
       "    <tr>\n",
       "      <th>0</th>\n",
       "      <td>SOCIAL</td>\n",
       "      <td>4.1</td>\n",
       "      <td>78158306</td>\n",
       "      <td>2.151653e+07</td>\n",
       "      <td>1,000,000,000+</td>\n",
       "      <td>Free</td>\n",
       "      <td>Teen</td>\n",
       "      <td>Social</td>\n",
       "    </tr>\n",
       "    <tr>\n",
       "      <th>1</th>\n",
       "      <td>SOCIAL</td>\n",
       "      <td>4.1</td>\n",
       "      <td>78128208</td>\n",
       "      <td>2.151653e+07</td>\n",
       "      <td>1,000,000,000+</td>\n",
       "      <td>Free</td>\n",
       "      <td>Teen</td>\n",
       "      <td>Social</td>\n",
       "    </tr>\n",
       "    <tr>\n",
       "      <th>2</th>\n",
       "      <td>COMMUNICATION</td>\n",
       "      <td>4.4</td>\n",
       "      <td>69119316</td>\n",
       "      <td>2.151653e+07</td>\n",
       "      <td>1,000,000,000+</td>\n",
       "      <td>Free</td>\n",
       "      <td>Everyone</td>\n",
       "      <td>Communication</td>\n",
       "    </tr>\n",
       "    <tr>\n",
       "      <th>3</th>\n",
       "      <td>COMMUNICATION</td>\n",
       "      <td>4.4</td>\n",
       "      <td>69119316</td>\n",
       "      <td>2.151653e+07</td>\n",
       "      <td>1,000,000,000+</td>\n",
       "      <td>Free</td>\n",
       "      <td>Everyone</td>\n",
       "      <td>Communication</td>\n",
       "    </tr>\n",
       "    <tr>\n",
       "      <th>4</th>\n",
       "      <td>COMMUNICATION</td>\n",
       "      <td>4.4</td>\n",
       "      <td>69109672</td>\n",
       "      <td>2.151653e+07</td>\n",
       "      <td>1,000,000,000+</td>\n",
       "      <td>Free</td>\n",
       "      <td>Everyone</td>\n",
       "      <td>Communication</td>\n",
       "    </tr>\n",
       "  </tbody>\n",
       "</table>\n",
       "</div>"
      ],
      "text/plain": [
       "        Category  Rating   Reviews          Size        Installs Paid?  \\\n",
       "0         SOCIAL     4.1  78158306  2.151653e+07  1,000,000,000+  Free   \n",
       "1         SOCIAL     4.1  78128208  2.151653e+07  1,000,000,000+  Free   \n",
       "2  COMMUNICATION     4.4  69119316  2.151653e+07  1,000,000,000+  Free   \n",
       "3  COMMUNICATION     4.4  69119316  2.151653e+07  1,000,000,000+  Free   \n",
       "4  COMMUNICATION     4.4  69109672  2.151653e+07  1,000,000,000+  Free   \n",
       "\n",
       "  Content Rating         Genres  \n",
       "0           Teen         Social  \n",
       "1           Teen         Social  \n",
       "2       Everyone  Communication  \n",
       "3       Everyone  Communication  \n",
       "4       Everyone  Communication  "
      ]
     },
     "execution_count": 88,
     "metadata": {},
     "output_type": "execute_result"
    }
   ],
   "source": [
    "#impute missing values of the Rating column with the mean\n",
    "\n",
    "def fill_mean(x):\n",
    "    x = pd.to_numeric(x, errors = 'coerce')\n",
    "    dropped_na = x[~np.isnan(x)]\n",
    "    mean = np.mean(dropped_na)\n",
    "    x[np.isnan(x)] = mean\n",
    "    return x\n",
    "\n",
    "app['Rating'] = fill_mean(app['Rating'])\n",
    "app['Size'] = fill_mean(app['Size'])\n",
    "    \n",
    "app.head()"
   ]
  },
  {
   "cell_type": "code",
   "execution_count": 89,
   "metadata": {},
   "outputs": [
    {
     "data": {
      "text/html": [
       "<div>\n",
       "<style scoped>\n",
       "    .dataframe tbody tr th:only-of-type {\n",
       "        vertical-align: middle;\n",
       "    }\n",
       "\n",
       "    .dataframe tbody tr th {\n",
       "        vertical-align: top;\n",
       "    }\n",
       "\n",
       "    .dataframe thead th {\n",
       "        text-align: right;\n",
       "    }\n",
       "</style>\n",
       "<table border=\"1\" class=\"dataframe\">\n",
       "  <thead>\n",
       "    <tr style=\"text-align: right;\">\n",
       "      <th></th>\n",
       "      <th>Category</th>\n",
       "      <th>Rating</th>\n",
       "      <th>Reviews</th>\n",
       "      <th>Size</th>\n",
       "      <th>Installs</th>\n",
       "      <th>Paid?</th>\n",
       "      <th>Content Rating</th>\n",
       "      <th>Genres</th>\n",
       "    </tr>\n",
       "  </thead>\n",
       "  <tbody>\n",
       "    <tr>\n",
       "      <th>0</th>\n",
       "      <td>SOCIAL</td>\n",
       "      <td>4.1</td>\n",
       "      <td>8922775.32</td>\n",
       "      <td>2.151653e+07</td>\n",
       "      <td>1,000,000,000+</td>\n",
       "      <td>Free</td>\n",
       "      <td>Teen</td>\n",
       "      <td>Social</td>\n",
       "    </tr>\n",
       "    <tr>\n",
       "      <th>1</th>\n",
       "      <td>SOCIAL</td>\n",
       "      <td>4.1</td>\n",
       "      <td>8922775.32</td>\n",
       "      <td>2.151653e+07</td>\n",
       "      <td>1,000,000,000+</td>\n",
       "      <td>Free</td>\n",
       "      <td>Teen</td>\n",
       "      <td>Social</td>\n",
       "    </tr>\n",
       "    <tr>\n",
       "      <th>2</th>\n",
       "      <td>COMMUNICATION</td>\n",
       "      <td>4.4</td>\n",
       "      <td>8922775.32</td>\n",
       "      <td>2.151653e+07</td>\n",
       "      <td>1,000,000,000+</td>\n",
       "      <td>Free</td>\n",
       "      <td>Everyone</td>\n",
       "      <td>Communication</td>\n",
       "    </tr>\n",
       "    <tr>\n",
       "      <th>3</th>\n",
       "      <td>COMMUNICATION</td>\n",
       "      <td>4.4</td>\n",
       "      <td>8922775.32</td>\n",
       "      <td>2.151653e+07</td>\n",
       "      <td>1,000,000,000+</td>\n",
       "      <td>Free</td>\n",
       "      <td>Everyone</td>\n",
       "      <td>Communication</td>\n",
       "    </tr>\n",
       "    <tr>\n",
       "      <th>4</th>\n",
       "      <td>COMMUNICATION</td>\n",
       "      <td>4.4</td>\n",
       "      <td>8922775.32</td>\n",
       "      <td>2.151653e+07</td>\n",
       "      <td>1,000,000,000+</td>\n",
       "      <td>Free</td>\n",
       "      <td>Everyone</td>\n",
       "      <td>Communication</td>\n",
       "    </tr>\n",
       "  </tbody>\n",
       "</table>\n",
       "</div>"
      ],
      "text/plain": [
       "        Category  Rating     Reviews          Size        Installs Paid?  \\\n",
       "0         SOCIAL     4.1  8922775.32  2.151653e+07  1,000,000,000+  Free   \n",
       "1         SOCIAL     4.1  8922775.32  2.151653e+07  1,000,000,000+  Free   \n",
       "2  COMMUNICATION     4.4  8922775.32  2.151653e+07  1,000,000,000+  Free   \n",
       "3  COMMUNICATION     4.4  8922775.32  2.151653e+07  1,000,000,000+  Free   \n",
       "4  COMMUNICATION     4.4  8922775.32  2.151653e+07  1,000,000,000+  Free   \n",
       "\n",
       "  Content Rating         Genres  \n",
       "0           Teen         Social  \n",
       "1           Teen         Social  \n",
       "2       Everyone  Communication  \n",
       "3       Everyone  Communication  \n",
       "4       Everyone  Communication  "
      ]
     },
     "execution_count": 89,
     "metadata": {},
     "output_type": "execute_result"
    }
   ],
   "source": [
    "#mobile applications are driven by network effects which leads to many outlier values and a higher comparable variation\n",
    "#cap outliers in the review column to its 99th percentile\n",
    "\n",
    "app['Reviews'] = np.clip(app['Reviews'], 0, app['Reviews'].quantile(0.99))\n",
    "\n",
    "app.head()"
   ]
  },
  {
   "cell_type": "code",
   "execution_count": 90,
   "metadata": {},
   "outputs": [
    {
     "data": {
      "text/html": [
       "<div>\n",
       "<style scoped>\n",
       "    .dataframe tbody tr th:only-of-type {\n",
       "        vertical-align: middle;\n",
       "    }\n",
       "\n",
       "    .dataframe tbody tr th {\n",
       "        vertical-align: top;\n",
       "    }\n",
       "\n",
       "    .dataframe thead th {\n",
       "        text-align: right;\n",
       "    }\n",
       "</style>\n",
       "<table border=\"1\" class=\"dataframe\">\n",
       "  <thead>\n",
       "    <tr style=\"text-align: right;\">\n",
       "      <th></th>\n",
       "      <th>Category</th>\n",
       "      <th>Rating</th>\n",
       "      <th>Reviews</th>\n",
       "      <th>Size</th>\n",
       "      <th>Installs</th>\n",
       "      <th>Paid?</th>\n",
       "      <th>Content Rating</th>\n",
       "      <th>Genres</th>\n",
       "    </tr>\n",
       "  </thead>\n",
       "  <tbody>\n",
       "    <tr>\n",
       "      <th>0</th>\n",
       "      <td>SOCIAL</td>\n",
       "      <td>4.1</td>\n",
       "      <td>8922775.32</td>\n",
       "      <td>2.151653e+07</td>\n",
       "      <td>1,000,000,000+</td>\n",
       "      <td>Free</td>\n",
       "      <td>Teen</td>\n",
       "      <td>Social</td>\n",
       "    </tr>\n",
       "    <tr>\n",
       "      <th>1</th>\n",
       "      <td>SOCIAL</td>\n",
       "      <td>4.1</td>\n",
       "      <td>8922775.32</td>\n",
       "      <td>2.151653e+07</td>\n",
       "      <td>1,000,000,000+</td>\n",
       "      <td>Free</td>\n",
       "      <td>Teen</td>\n",
       "      <td>Social</td>\n",
       "    </tr>\n",
       "    <tr>\n",
       "      <th>2</th>\n",
       "      <td>COMMUNICATION</td>\n",
       "      <td>4.4</td>\n",
       "      <td>8922775.32</td>\n",
       "      <td>2.151653e+07</td>\n",
       "      <td>1,000,000,000+</td>\n",
       "      <td>Free</td>\n",
       "      <td>Everyone</td>\n",
       "      <td>Communication</td>\n",
       "    </tr>\n",
       "    <tr>\n",
       "      <th>3</th>\n",
       "      <td>COMMUNICATION</td>\n",
       "      <td>4.4</td>\n",
       "      <td>8922775.32</td>\n",
       "      <td>2.151653e+07</td>\n",
       "      <td>1,000,000,000+</td>\n",
       "      <td>Free</td>\n",
       "      <td>Everyone</td>\n",
       "      <td>Communication</td>\n",
       "    </tr>\n",
       "    <tr>\n",
       "      <th>4</th>\n",
       "      <td>COMMUNICATION</td>\n",
       "      <td>4.4</td>\n",
       "      <td>8922775.32</td>\n",
       "      <td>2.151653e+07</td>\n",
       "      <td>1,000,000,000+</td>\n",
       "      <td>Free</td>\n",
       "      <td>Everyone</td>\n",
       "      <td>Communication</td>\n",
       "    </tr>\n",
       "  </tbody>\n",
       "</table>\n",
       "</div>"
      ],
      "text/plain": [
       "        Category  Rating     Reviews          Size        Installs Paid?  \\\n",
       "0         SOCIAL     4.1  8922775.32  2.151653e+07  1,000,000,000+  Free   \n",
       "1         SOCIAL     4.1  8922775.32  2.151653e+07  1,000,000,000+  Free   \n",
       "2  COMMUNICATION     4.4  8922775.32  2.151653e+07  1,000,000,000+  Free   \n",
       "3  COMMUNICATION     4.4  8922775.32  2.151653e+07  1,000,000,000+  Free   \n",
       "4  COMMUNICATION     4.4  8922775.32  2.151653e+07  1,000,000,000+  Free   \n",
       "\n",
       "  Content Rating         Genres  \n",
       "0           Teen         Social  \n",
       "1           Teen         Social  \n",
       "2       Everyone  Communication  \n",
       "3       Everyone  Communication  \n",
       "4       Everyone  Communication  "
      ]
     },
     "execution_count": 90,
     "metadata": {},
     "output_type": "execute_result"
    }
   ],
   "source": [
    "#setting numeric columns\n",
    "num_cols = ['Rating', 'Reviews', 'Size']    \n",
    "app.head()"
   ]
  },
  {
   "cell_type": "code",
   "execution_count": 91,
   "metadata": {},
   "outputs": [
    {
     "data": {
      "text/plain": [
       "no     10039\n",
       "yes      800\n",
       "Name: Paid?, dtype: int64"
      ]
     },
     "execution_count": 91,
     "metadata": {},
     "output_type": "execute_result"
    }
   ],
   "source": [
    "#consolidate categories\n",
    "app['Paid?'] = app['Paid?'].replace({'Paid': 'yes', \n",
    "                                   'Free': 'no'})\n",
    "pd.value_counts(app['Paid?'])"
   ]
  },
  {
   "cell_type": "code",
   "execution_count": 92,
   "metadata": {},
   "outputs": [
    {
     "data": {
      "text/plain": [
       "Everyone          8714\n",
       "Teen              1208\n",
       "Mature 17+         499\n",
       "Everyone 10+       413\n",
       "Adults/Unrated       5\n",
       "Name: Content Rating, dtype: int64"
      ]
     },
     "execution_count": 92,
     "metadata": {},
     "output_type": "execute_result"
    }
   ],
   "source": [
    "#consolidate categories\n",
    "app['Content Rating'] = app['Content Rating'].replace({'Adults only 18+': 'Adults/Unrated',\n",
    "                                                      'Unrated': 'Adults/Unrated'})\n",
    "pd.value_counts(app['Content Rating'])"
   ]
  },
  {
   "cell_type": "code",
   "execution_count": 93,
   "metadata": {},
   "outputs": [
    {
     "data": {
      "text/plain": [
       "Tools                      843\n",
       "Education                  757\n",
       "Entertainment              667\n",
       "Medical                    463\n",
       "Business                   460\n",
       "Productivity               424\n",
       "Sports                     402\n",
       "Personalization            392\n",
       "Communication              388\n",
       "Lifestyle                  383\n",
       "Action                     382\n",
       "Finance                    366\n",
       "Health & Fitness           343\n",
       "Photography                335\n",
       "Social                     295\n",
       "News & Magazines           283\n",
       "Casual                     270\n",
       "Shopping                   260\n",
       "Travel & Local             258\n",
       "Arcade                     237\n",
       "Books & Reference          234\n",
       "Dating                     234\n",
       "Simulation                 218\n",
       "Video Players & Editors    178\n",
       "Puzzle                     167\n",
       "Maps & Navigation          137\n",
       "Food & Drink               127\n",
       "Role Playing               123\n",
       "Racing                     119\n",
       "Strategy                   110\n",
       "Adventure                   91\n",
       "House & Home                88\n",
       "Libraries & Demo            85\n",
       "Auto & Vehicles             85\n",
       "Weather                     82\n",
       "Art & Design                69\n",
       "Events                      64\n",
       "Board                       63\n",
       "Comics                      60\n",
       "Parenting                   60\n",
       "Beauty                      53\n",
       "Card                        51\n",
       "Casino                      39\n",
       "Trivia                      39\n",
       "Word                        29\n",
       "Music                       26\n",
       "Name: Genres, dtype: int64"
      ]
     },
     "execution_count": 93,
     "metadata": {},
     "output_type": "execute_result"
    }
   ],
   "source": [
    "app['Genres'].value_counts()"
   ]
  },
  {
   "cell_type": "code",
   "execution_count": 94,
   "metadata": {},
   "outputs": [
    {
     "data": {
      "text/html": [
       "<div>\n",
       "<style scoped>\n",
       "    .dataframe tbody tr th:only-of-type {\n",
       "        vertical-align: middle;\n",
       "    }\n",
       "\n",
       "    .dataframe tbody tr th {\n",
       "        vertical-align: top;\n",
       "    }\n",
       "\n",
       "    .dataframe thead th {\n",
       "        text-align: right;\n",
       "    }\n",
       "</style>\n",
       "<table border=\"1\" class=\"dataframe\">\n",
       "  <thead>\n",
       "    <tr style=\"text-align: right;\">\n",
       "      <th></th>\n",
       "      <th>['Content Rating']_Adults/Unrated</th>\n",
       "      <th>['Content Rating']_Everyone</th>\n",
       "      <th>['Content Rating']_Everyone 10+</th>\n",
       "      <th>['Content Rating']_Mature 17+</th>\n",
       "      <th>['Content Rating']_Teen</th>\n",
       "    </tr>\n",
       "  </thead>\n",
       "  <tbody>\n",
       "    <tr>\n",
       "      <th>0</th>\n",
       "      <td>0</td>\n",
       "      <td>0</td>\n",
       "      <td>0</td>\n",
       "      <td>0</td>\n",
       "      <td>1</td>\n",
       "    </tr>\n",
       "    <tr>\n",
       "      <th>1</th>\n",
       "      <td>0</td>\n",
       "      <td>0</td>\n",
       "      <td>0</td>\n",
       "      <td>0</td>\n",
       "      <td>1</td>\n",
       "    </tr>\n",
       "    <tr>\n",
       "      <th>2</th>\n",
       "      <td>0</td>\n",
       "      <td>1</td>\n",
       "      <td>0</td>\n",
       "      <td>0</td>\n",
       "      <td>0</td>\n",
       "    </tr>\n",
       "    <tr>\n",
       "      <th>3</th>\n",
       "      <td>0</td>\n",
       "      <td>1</td>\n",
       "      <td>0</td>\n",
       "      <td>0</td>\n",
       "      <td>0</td>\n",
       "    </tr>\n",
       "    <tr>\n",
       "      <th>4</th>\n",
       "      <td>0</td>\n",
       "      <td>1</td>\n",
       "      <td>0</td>\n",
       "      <td>0</td>\n",
       "      <td>0</td>\n",
       "    </tr>\n",
       "  </tbody>\n",
       "</table>\n",
       "</div>"
      ],
      "text/plain": [
       "   ['Content Rating']_Adults/Unrated  ['Content Rating']_Everyone  \\\n",
       "0                                  0                            0   \n",
       "1                                  0                            0   \n",
       "2                                  0                            1   \n",
       "3                                  0                            1   \n",
       "4                                  0                            1   \n",
       "\n",
       "   ['Content Rating']_Everyone 10+  ['Content Rating']_Mature 17+  \\\n",
       "0                                0                              0   \n",
       "1                                0                              0   \n",
       "2                                0                              0   \n",
       "3                                0                              0   \n",
       "4                                0                              0   \n",
       "\n",
       "   ['Content Rating']_Teen  \n",
       "0                        1  \n",
       "1                        1  \n",
       "2                        0  \n",
       "3                        0  \n",
       "4                        0  "
      ]
     },
     "execution_count": 94,
     "metadata": {},
     "output_type": "execute_result"
    }
   ],
   "source": [
    "#use get dummies for content rating category\n",
    "OneHot = pd.get_dummies(app['Content Rating'], prefix = ['Content Rating'])\n",
    "\n",
    "OneHot.head()"
   ]
  },
  {
   "cell_type": "markdown",
   "metadata": {},
   "source": [
    "**Binary Choice Question**\n",
    "\n",
    "In this classifier, I will be looking to predict whether an application is free or paid. This references the 'Type' label in the dataset."
   ]
  },
  {
   "cell_type": "code",
   "execution_count": 95,
   "metadata": {},
   "outputs": [
    {
     "data": {
      "text/plain": [
       "no     10039\n",
       "yes      800\n",
       "Name: Paid?, dtype: int64"
      ]
     },
     "execution_count": 95,
     "metadata": {},
     "output_type": "execute_result"
    }
   ],
   "source": [
    "app['Paid?'].value_counts()"
   ]
  },
  {
   "cell_type": "code",
   "execution_count": 96,
   "metadata": {},
   "outputs": [
    {
     "data": {
      "text/html": [
       "<div>\n",
       "<style scoped>\n",
       "    .dataframe tbody tr th:only-of-type {\n",
       "        vertical-align: middle;\n",
       "    }\n",
       "\n",
       "    .dataframe tbody tr th {\n",
       "        vertical-align: top;\n",
       "    }\n",
       "\n",
       "    .dataframe thead th {\n",
       "        text-align: right;\n",
       "    }\n",
       "</style>\n",
       "<table border=\"1\" class=\"dataframe\">\n",
       "  <thead>\n",
       "    <tr style=\"text-align: right;\">\n",
       "      <th></th>\n",
       "      <th>Rating</th>\n",
       "      <th>Reviews</th>\n",
       "      <th>Size</th>\n",
       "    </tr>\n",
       "  </thead>\n",
       "  <tbody>\n",
       "    <tr>\n",
       "      <th>0</th>\n",
       "      <td>4.1</td>\n",
       "      <td>8922775.32</td>\n",
       "      <td>2.151653e+07</td>\n",
       "    </tr>\n",
       "    <tr>\n",
       "      <th>1</th>\n",
       "      <td>4.1</td>\n",
       "      <td>8922775.32</td>\n",
       "      <td>2.151653e+07</td>\n",
       "    </tr>\n",
       "    <tr>\n",
       "      <th>2</th>\n",
       "      <td>4.4</td>\n",
       "      <td>8922775.32</td>\n",
       "      <td>2.151653e+07</td>\n",
       "    </tr>\n",
       "    <tr>\n",
       "      <th>3</th>\n",
       "      <td>4.4</td>\n",
       "      <td>8922775.32</td>\n",
       "      <td>2.151653e+07</td>\n",
       "    </tr>\n",
       "    <tr>\n",
       "      <th>4</th>\n",
       "      <td>4.4</td>\n",
       "      <td>8922775.32</td>\n",
       "      <td>2.151653e+07</td>\n",
       "    </tr>\n",
       "  </tbody>\n",
       "</table>\n",
       "</div>"
      ],
      "text/plain": [
       "   Rating     Reviews          Size\n",
       "0     4.1  8922775.32  2.151653e+07\n",
       "1     4.1  8922775.32  2.151653e+07\n",
       "2     4.4  8922775.32  2.151653e+07\n",
       "3     4.4  8922775.32  2.151653e+07\n",
       "4     4.4  8922775.32  2.151653e+07"
      ]
     },
     "execution_count": 96,
     "metadata": {},
     "output_type": "execute_result"
    }
   ],
   "source": [
    "app_num = app[num_cols]\n",
    "app_num.head()"
   ]
  },
  {
   "cell_type": "code",
   "execution_count": 97,
   "metadata": {},
   "outputs": [
    {
     "data": {
      "text/html": [
       "<div>\n",
       "<style scoped>\n",
       "    .dataframe tbody tr th:only-of-type {\n",
       "        vertical-align: middle;\n",
       "    }\n",
       "\n",
       "    .dataframe tbody tr th {\n",
       "        vertical-align: top;\n",
       "    }\n",
       "\n",
       "    .dataframe thead th {\n",
       "        text-align: right;\n",
       "    }\n",
       "</style>\n",
       "<table border=\"1\" class=\"dataframe\">\n",
       "  <thead>\n",
       "    <tr style=\"text-align: right;\">\n",
       "      <th></th>\n",
       "      <th>Category</th>\n",
       "      <th>Rating</th>\n",
       "      <th>Reviews</th>\n",
       "      <th>Size</th>\n",
       "      <th>Installs</th>\n",
       "      <th>Paid?</th>\n",
       "      <th>Content Rating</th>\n",
       "      <th>Genres</th>\n",
       "    </tr>\n",
       "  </thead>\n",
       "  <tbody>\n",
       "    <tr>\n",
       "      <th>0</th>\n",
       "      <td>SOCIAL</td>\n",
       "      <td>-0.191598</td>\n",
       "      <td>7.06668</td>\n",
       "      <td>-3.591075e-15</td>\n",
       "      <td>1,000,000,000+</td>\n",
       "      <td>no</td>\n",
       "      <td>Teen</td>\n",
       "      <td>Social</td>\n",
       "    </tr>\n",
       "    <tr>\n",
       "      <th>1</th>\n",
       "      <td>SOCIAL</td>\n",
       "      <td>-0.191598</td>\n",
       "      <td>7.06668</td>\n",
       "      <td>-3.591075e-15</td>\n",
       "      <td>1,000,000,000+</td>\n",
       "      <td>no</td>\n",
       "      <td>Teen</td>\n",
       "      <td>Social</td>\n",
       "    </tr>\n",
       "    <tr>\n",
       "      <th>2</th>\n",
       "      <td>COMMUNICATION</td>\n",
       "      <td>0.434829</td>\n",
       "      <td>7.06668</td>\n",
       "      <td>-3.591075e-15</td>\n",
       "      <td>1,000,000,000+</td>\n",
       "      <td>no</td>\n",
       "      <td>Everyone</td>\n",
       "      <td>Communication</td>\n",
       "    </tr>\n",
       "    <tr>\n",
       "      <th>3</th>\n",
       "      <td>COMMUNICATION</td>\n",
       "      <td>0.434829</td>\n",
       "      <td>7.06668</td>\n",
       "      <td>-3.591075e-15</td>\n",
       "      <td>1,000,000,000+</td>\n",
       "      <td>no</td>\n",
       "      <td>Everyone</td>\n",
       "      <td>Communication</td>\n",
       "    </tr>\n",
       "    <tr>\n",
       "      <th>4</th>\n",
       "      <td>COMMUNICATION</td>\n",
       "      <td>0.434829</td>\n",
       "      <td>7.06668</td>\n",
       "      <td>-3.591075e-15</td>\n",
       "      <td>1,000,000,000+</td>\n",
       "      <td>no</td>\n",
       "      <td>Everyone</td>\n",
       "      <td>Communication</td>\n",
       "    </tr>\n",
       "  </tbody>\n",
       "</table>\n",
       "</div>"
      ],
      "text/plain": [
       "        Category    Rating  Reviews          Size        Installs Paid?  \\\n",
       "0         SOCIAL -0.191598  7.06668 -3.591075e-15  1,000,000,000+    no   \n",
       "1         SOCIAL -0.191598  7.06668 -3.591075e-15  1,000,000,000+    no   \n",
       "2  COMMUNICATION  0.434829  7.06668 -3.591075e-15  1,000,000,000+    no   \n",
       "3  COMMUNICATION  0.434829  7.06668 -3.591075e-15  1,000,000,000+    no   \n",
       "4  COMMUNICATION  0.434829  7.06668 -3.591075e-15  1,000,000,000+    no   \n",
       "\n",
       "  Content Rating         Genres  \n",
       "0           Teen         Social  \n",
       "1           Teen         Social  \n",
       "2       Everyone  Communication  \n",
       "3       Everyone  Communication  \n",
       "4       Everyone  Communication  "
      ]
     },
     "execution_count": 97,
     "metadata": {},
     "output_type": "execute_result"
    }
   ],
   "source": [
    "#subset numeric columns\n",
    "#z-normalize numeric columns \n",
    "\n",
    "def normalize(x):\n",
    "    x_norm = ((x - np.mean(x))/np.std(x))\n",
    "    return x_norm\n",
    "\n",
    "for col in app_num:\n",
    "    app[col] = normalize(app[col])\n",
    "    \n",
    "app.head()"
   ]
  },
  {
   "cell_type": "markdown",
   "metadata": {},
   "source": [
    "**Apply K-Means clusters**"
   ]
  },
  {
   "cell_type": "code",
   "execution_count": 98,
   "metadata": {},
   "outputs": [
    {
     "data": {
      "text/html": [
       "<div>\n",
       "<style scoped>\n",
       "    .dataframe tbody tr th:only-of-type {\n",
       "        vertical-align: middle;\n",
       "    }\n",
       "\n",
       "    .dataframe tbody tr th {\n",
       "        vertical-align: top;\n",
       "    }\n",
       "\n",
       "    .dataframe thead th {\n",
       "        text-align: right;\n",
       "    }\n",
       "</style>\n",
       "<table border=\"1\" class=\"dataframe\">\n",
       "  <thead>\n",
       "    <tr style=\"text-align: right;\">\n",
       "      <th></th>\n",
       "      <th>Rating</th>\n",
       "      <th>Reviews</th>\n",
       "      <th>Size</th>\n",
       "      <th>cluster</th>\n",
       "    </tr>\n",
       "  </thead>\n",
       "  <tbody>\n",
       "    <tr>\n",
       "      <th>0</th>\n",
       "      <td>-0.191598</td>\n",
       "      <td>7.06668</td>\n",
       "      <td>-3.591075e-15</td>\n",
       "      <td>1</td>\n",
       "    </tr>\n",
       "    <tr>\n",
       "      <th>1</th>\n",
       "      <td>-0.191598</td>\n",
       "      <td>7.06668</td>\n",
       "      <td>-3.591075e-15</td>\n",
       "      <td>1</td>\n",
       "    </tr>\n",
       "    <tr>\n",
       "      <th>2</th>\n",
       "      <td>0.434829</td>\n",
       "      <td>7.06668</td>\n",
       "      <td>-3.591075e-15</td>\n",
       "      <td>1</td>\n",
       "    </tr>\n",
       "    <tr>\n",
       "      <th>3</th>\n",
       "      <td>0.434829</td>\n",
       "      <td>7.06668</td>\n",
       "      <td>-3.591075e-15</td>\n",
       "      <td>1</td>\n",
       "    </tr>\n",
       "    <tr>\n",
       "      <th>4</th>\n",
       "      <td>0.434829</td>\n",
       "      <td>7.06668</td>\n",
       "      <td>-3.591075e-15</td>\n",
       "      <td>1</td>\n",
       "    </tr>\n",
       "  </tbody>\n",
       "</table>\n",
       "</div>"
      ],
      "text/plain": [
       "     Rating  Reviews          Size  cluster\n",
       "0 -0.191598  7.06668 -3.591075e-15        1\n",
       "1 -0.191598  7.06668 -3.591075e-15        1\n",
       "2  0.434829  7.06668 -3.591075e-15        1\n",
       "3  0.434829  7.06668 -3.591075e-15        1\n",
       "4  0.434829  7.06668 -3.591075e-15        1"
      ]
     },
     "execution_count": 98,
     "metadata": {},
     "output_type": "execute_result"
    }
   ],
   "source": [
    "#apply kmeans\n",
    "from sklearn.cluster import KMeans\n",
    "n_clusters = 3\n",
    "app_num = app.loc[:, ['Rating', 'Reviews', 'Size']]\n",
    "\n",
    "X = app_num\n",
    "kmeans = KMeans(n_clusters = n_clusters, random_state = 0)\n",
    "kmeans.fit(X)\n",
    "app_num['cluster'] = kmeans.predict(X)\n",
    "app_num.head()"
   ]
  },
  {
   "cell_type": "code",
   "execution_count": 99,
   "metadata": {},
   "outputs": [
    {
     "data": {
      "text/plain": [
       "KMeans(algorithm='auto', copy_x=True, init='k-means++', max_iter=300,\n",
       "       n_clusters=3, n_init=10, n_jobs=None, precompute_distances='auto',\n",
       "       random_state=0, tol=0.0001, verbose=0)"
      ]
     },
     "execution_count": 99,
     "metadata": {},
     "output_type": "execute_result"
    }
   ],
   "source": [
    "app_featurized = pd.concat([app_num, OneHot], axis = 1)\n",
    "\n",
    "kmeans = KMeans(n_clusters = n_clusters, random_state = 0)\n",
    "kmeans.fit(app_featurized)"
   ]
  },
  {
   "cell_type": "code",
   "execution_count": 100,
   "metadata": {},
   "outputs": [
    {
     "data": {
      "text/html": [
       "<div>\n",
       "<style scoped>\n",
       "    .dataframe tbody tr th:only-of-type {\n",
       "        vertical-align: middle;\n",
       "    }\n",
       "\n",
       "    .dataframe tbody tr th {\n",
       "        vertical-align: top;\n",
       "    }\n",
       "\n",
       "    .dataframe thead th {\n",
       "        text-align: right;\n",
       "    }\n",
       "</style>\n",
       "<table border=\"1\" class=\"dataframe\">\n",
       "  <thead>\n",
       "    <tr style=\"text-align: right;\">\n",
       "      <th></th>\n",
       "      <th>Category</th>\n",
       "      <th>Rating</th>\n",
       "      <th>Reviews</th>\n",
       "      <th>Size</th>\n",
       "      <th>Installs</th>\n",
       "      <th>Paid?</th>\n",
       "      <th>Content Rating</th>\n",
       "      <th>Genres</th>\n",
       "      <th>cluster</th>\n",
       "    </tr>\n",
       "  </thead>\n",
       "  <tbody>\n",
       "    <tr>\n",
       "      <th>0</th>\n",
       "      <td>SOCIAL</td>\n",
       "      <td>-0.191598</td>\n",
       "      <td>7.06668</td>\n",
       "      <td>-3.591075e-15</td>\n",
       "      <td>1,000,000,000+</td>\n",
       "      <td>no</td>\n",
       "      <td>Teen</td>\n",
       "      <td>Social</td>\n",
       "      <td>2</td>\n",
       "    </tr>\n",
       "    <tr>\n",
       "      <th>1</th>\n",
       "      <td>SOCIAL</td>\n",
       "      <td>-0.191598</td>\n",
       "      <td>7.06668</td>\n",
       "      <td>-3.591075e-15</td>\n",
       "      <td>1,000,000,000+</td>\n",
       "      <td>no</td>\n",
       "      <td>Teen</td>\n",
       "      <td>Social</td>\n",
       "      <td>2</td>\n",
       "    </tr>\n",
       "    <tr>\n",
       "      <th>2</th>\n",
       "      <td>COMMUNICATION</td>\n",
       "      <td>0.434829</td>\n",
       "      <td>7.06668</td>\n",
       "      <td>-3.591075e-15</td>\n",
       "      <td>1,000,000,000+</td>\n",
       "      <td>no</td>\n",
       "      <td>Everyone</td>\n",
       "      <td>Communication</td>\n",
       "      <td>2</td>\n",
       "    </tr>\n",
       "    <tr>\n",
       "      <th>3</th>\n",
       "      <td>COMMUNICATION</td>\n",
       "      <td>0.434829</td>\n",
       "      <td>7.06668</td>\n",
       "      <td>-3.591075e-15</td>\n",
       "      <td>1,000,000,000+</td>\n",
       "      <td>no</td>\n",
       "      <td>Everyone</td>\n",
       "      <td>Communication</td>\n",
       "      <td>2</td>\n",
       "    </tr>\n",
       "    <tr>\n",
       "      <th>4</th>\n",
       "      <td>COMMUNICATION</td>\n",
       "      <td>0.434829</td>\n",
       "      <td>7.06668</td>\n",
       "      <td>-3.591075e-15</td>\n",
       "      <td>1,000,000,000+</td>\n",
       "      <td>no</td>\n",
       "      <td>Everyone</td>\n",
       "      <td>Communication</td>\n",
       "      <td>2</td>\n",
       "    </tr>\n",
       "  </tbody>\n",
       "</table>\n",
       "</div>"
      ],
      "text/plain": [
       "        Category    Rating  Reviews          Size        Installs Paid?  \\\n",
       "0         SOCIAL -0.191598  7.06668 -3.591075e-15  1,000,000,000+    no   \n",
       "1         SOCIAL -0.191598  7.06668 -3.591075e-15  1,000,000,000+    no   \n",
       "2  COMMUNICATION  0.434829  7.06668 -3.591075e-15  1,000,000,000+    no   \n",
       "3  COMMUNICATION  0.434829  7.06668 -3.591075e-15  1,000,000,000+    no   \n",
       "4  COMMUNICATION  0.434829  7.06668 -3.591075e-15  1,000,000,000+    no   \n",
       "\n",
       "  Content Rating         Genres  cluster  \n",
       "0           Teen         Social        2  \n",
       "1           Teen         Social        2  \n",
       "2       Everyone  Communication        2  \n",
       "3       Everyone  Communication        2  \n",
       "4       Everyone  Communication        2  "
      ]
     },
     "execution_count": 100,
     "metadata": {},
     "output_type": "execute_result"
    }
   ],
   "source": [
    "#add cluster column\n",
    "app['cluster'] = kmeans.predict(app_featurized)\n",
    "app.head()"
   ]
  },
  {
   "cell_type": "code",
   "execution_count": 101,
   "metadata": {},
   "outputs": [],
   "source": [
    "app['cluster'] = app['cluster'].astype('object')"
   ]
  },
  {
   "cell_type": "code",
   "execution_count": 102,
   "metadata": {},
   "outputs": [
    {
     "name": "stdout",
     "output_type": "stream",
     "text": [
      "Numeric columns are Rating, Reviews, Size.\n",
      "Categorical columns are Category, Installs, Content Rating, Genres, cluster.\n"
     ]
    }
   ],
   "source": [
    "#differentiate categorical and numeric\n",
    "num_cols = app.select_dtypes(['integer', 'float']).columns\n",
    "cat_cols = app.select_dtypes(['object']).drop(columns = \"Paid?\").columns\n",
    "\n",
    "print(\"Numeric columns are {}.\".format(\", \".join(num_cols)))\n",
    "print(\"Categorical columns are {}.\".format(\", \".join(cat_cols)))"
   ]
  },
  {
   "cell_type": "markdown",
   "metadata": {},
   "source": [
    "**Split data into training and test sets.**"
   ]
  },
  {
   "cell_type": "code",
   "execution_count": 103,
   "metadata": {},
   "outputs": [
    {
     "name": "stdout",
     "output_type": "stream",
     "text": [
      "Training data has 9213 rows.\n",
      "Test data has 1626 rows.\n"
     ]
    }
   ],
   "source": [
    "#split train and test sets\n",
    "from sklearn.model_selection import train_test_split\n",
    "\n",
    "X_train, X_test, y_train, y_test = train_test_split(app.drop(columns = \"Paid?\"), app[\"Paid?\"], \n",
    "                                                    test_size = 0.15, random_state = 42)\n",
    "\n",
    "X_train = X_train.reset_index(drop = True)\n",
    "X_test = X_test.reset_index(drop = True)\n",
    "\n",
    "print(f\"Training data has {X_train.shape[0]} rows.\")\n",
    "print(f\"Test data has {X_test.shape[0]} rows.\")"
   ]
  },
  {
   "cell_type": "code",
   "execution_count": 104,
   "metadata": {},
   "outputs": [
    {
     "data": {
      "text/plain": [
       "FAMILY                 1971\n",
       "GAME                   1144\n",
       "TOOLS                   843\n",
       "MEDICAL                 463\n",
       "BUSINESS                460\n",
       "PRODUCTIVITY            424\n",
       "PERSONALIZATION         392\n",
       "COMMUNICATION           387\n",
       "SPORTS                  384\n",
       "LIFESTYLE               382\n",
       "FINANCE                 366\n",
       "HEALTH_AND_FITNESS      341\n",
       "PHOTOGRAPHY             335\n",
       "SOCIAL                  295\n",
       "NEWS_AND_MAGAZINES      283\n",
       "SHOPPING                260\n",
       "TRAVEL_AND_LOCAL        258\n",
       "DATING                  234\n",
       "BOOKS_AND_REFERENCE     231\n",
       "VIDEO_PLAYERS           175\n",
       "EDUCATION               156\n",
       "ENTERTAINMENT           149\n",
       "MAPS_AND_NAVIGATION     137\n",
       "FOOD_AND_DRINK          127\n",
       "HOUSE_AND_HOME           88\n",
       "AUTO_AND_VEHICLES        85\n",
       "LIBRARIES_AND_DEMO       85\n",
       "WEATHER                  82\n",
       "ART_AND_DESIGN           65\n",
       "EVENTS                   64\n",
       "PARENTING                60\n",
       "COMICS                   60\n",
       "BEAUTY                   53\n",
       "Name: Category, dtype: int64"
      ]
     },
     "execution_count": 104,
     "metadata": {},
     "output_type": "execute_result"
    }
   ],
   "source": [
    "app['Category'].value_counts()"
   ]
  },
  {
   "cell_type": "code",
   "execution_count": 105,
   "metadata": {},
   "outputs": [],
   "source": [
    "#one hot encode non numeric columns\n",
    "from sklearn.preprocessing import OneHotEncoder\n",
    "\n",
    "onehoter = OneHotEncoder(sparse = False, drop = \"first\")\n",
    "onehoter.fit(X_train[cat_cols])\n",
    "onehot_cols = onehoter.get_feature_names(cat_cols)\n",
    "X_train_onehot = pd.DataFrame(onehoter.transform(X_train[cat_cols]), columns = onehot_cols)\n",
    "X_test_onehot = pd.DataFrame(onehoter.transform(X_test[cat_cols]), columns = onehot_cols)"
   ]
  },
  {
   "cell_type": "code",
   "execution_count": 106,
   "metadata": {},
   "outputs": [
    {
     "data": {
      "text/html": [
       "<div>\n",
       "<style scoped>\n",
       "    .dataframe tbody tr th:only-of-type {\n",
       "        vertical-align: middle;\n",
       "    }\n",
       "\n",
       "    .dataframe tbody tr th {\n",
       "        vertical-align: top;\n",
       "    }\n",
       "\n",
       "    .dataframe thead th {\n",
       "        text-align: right;\n",
       "    }\n",
       "</style>\n",
       "<table border=\"1\" class=\"dataframe\">\n",
       "  <thead>\n",
       "    <tr style=\"text-align: right;\">\n",
       "      <th></th>\n",
       "      <th>Rating</th>\n",
       "      <th>Reviews</th>\n",
       "      <th>Size</th>\n",
       "    </tr>\n",
       "  </thead>\n",
       "  <tbody>\n",
       "    <tr>\n",
       "      <th>0</th>\n",
       "      <td>0.226020</td>\n",
       "      <td>7.066680</td>\n",
       "      <td>-3.591075e-15</td>\n",
       "    </tr>\n",
       "    <tr>\n",
       "      <th>1</th>\n",
       "      <td>-1.235642</td>\n",
       "      <td>-0.255627</td>\n",
       "      <td>-5.936394e-01</td>\n",
       "    </tr>\n",
       "    <tr>\n",
       "      <th>2</th>\n",
       "      <td>0.017211</td>\n",
       "      <td>-0.257329</td>\n",
       "      <td>-2.658889e-01</td>\n",
       "    </tr>\n",
       "    <tr>\n",
       "      <th>3</th>\n",
       "      <td>-1.653260</td>\n",
       "      <td>-0.258956</td>\n",
       "      <td>2.642955e-01</td>\n",
       "    </tr>\n",
       "    <tr>\n",
       "      <th>4</th>\n",
       "      <td>0.434829</td>\n",
       "      <td>-0.258971</td>\n",
       "      <td>-7.189557e-01</td>\n",
       "    </tr>\n",
       "  </tbody>\n",
       "</table>\n",
       "</div>"
      ],
      "text/plain": [
       "     Rating   Reviews          Size\n",
       "0  0.226020  7.066680 -3.591075e-15\n",
       "1 -1.235642 -0.255627 -5.936394e-01\n",
       "2  0.017211 -0.257329 -2.658889e-01\n",
       "3 -1.653260 -0.258956  2.642955e-01\n",
       "4  0.434829 -0.258971 -7.189557e-01"
      ]
     },
     "execution_count": 106,
     "metadata": {},
     "output_type": "execute_result"
    }
   ],
   "source": [
    "X_train_norm = X_train[num_cols]\n",
    "X_test_norm = X_test[num_cols]\n",
    "X_train_norm.head()"
   ]
  },
  {
   "cell_type": "markdown",
   "metadata": {},
   "source": [
    "**Create a classification model for the expert label based on the training data.**"
   ]
  },
  {
   "cell_type": "code",
   "execution_count": 107,
   "metadata": {},
   "outputs": [
    {
     "name": "stdout",
     "output_type": "stream",
     "text": [
      "Featurized training data has 9213 rows and 105 columns.\n",
      "Featurized test data has 1626 rows and 105 columns.\n"
     ]
    }
   ],
   "source": [
    "X_train_featurized = X_train_onehot # add one-hot-encoded columns\n",
    "X_test_featurized = X_test_onehot   # add one-hot-encoded columns\n",
    "X_train_featurized[num_cols] = X_train_norm # add numeric columns\n",
    "X_test_featurized[num_cols] = X_test_norm   # add numeric columns\n",
    "\n",
    "del X_train_norm, X_test_norm, X_train_onehot, X_test_onehot\n",
    "\n",
    "print(\"Featurized training data has {} rows and {} columns.\".format(*X_train_featurized.shape))\n",
    "print(\"Featurized test data has {} rows and {} columns.\".format(*X_test_featurized.shape))"
   ]
  },
  {
   "cell_type": "markdown",
   "metadata": {},
   "source": [
    "**Conduct a logistic regression and decision tree classifier**"
   ]
  },
  {
   "cell_type": "code",
   "execution_count": 108,
   "metadata": {},
   "outputs": [],
   "source": [
    "from sklearn.linear_model import LogisticRegression\n",
    "\n",
    "logit = LogisticRegression(max_iter = 5000)\n",
    "logit.fit(X_train_featurized, y_train)\n",
    "\n",
    "y_hat_train = logit.predict(X_train_featurized)\n",
    "y_hat_test = logit.predict(X_test_featurized)"
   ]
  },
  {
   "cell_type": "code",
   "execution_count": 109,
   "metadata": {},
   "outputs": [],
   "source": [
    "#setting max depth to 4 to generalize better on the test set\n",
    "\n",
    "from sklearn.tree import DecisionTreeClassifier\n",
    "\n",
    "dtree = DecisionTreeClassifier(max_depth = 4)\n",
    "dtree.fit(X_train_featurized, y_train)\n",
    "\n",
    "y_hat_train_dt = dtree.predict(X_train_featurized)\n",
    "y_hat_test_dt = dtree.predict(X_test_featurized)"
   ]
  },
  {
   "cell_type": "markdown",
   "metadata": {},
   "source": [
    "**Apply classifiers to the test data to predict probabilities and determine accuracy rate**"
   ]
  },
  {
   "cell_type": "code",
   "execution_count": 110,
   "metadata": {},
   "outputs": [
    {
     "name": "stdout",
     "output_type": "stream",
     "text": [
      "Accuracy on the training data: 93%.\n",
      "Accuracy on the test data: 93%.\n"
     ]
    }
   ],
   "source": [
    "from sklearn.metrics import accuracy_score\n",
    "\n",
    "acc_train = accuracy_score(y_train, y_hat_train) * 100\n",
    "acc_test = accuracy_score(y_test, y_hat_test) * 100\n",
    "\n",
    "print(\"Accuracy on the training data: {:.0f}%.\".format(acc_train))\n",
    "print(\"Accuracy on the test data: {:.0f}%.\".format(acc_test))"
   ]
  },
  {
   "cell_type": "code",
   "execution_count": 111,
   "metadata": {},
   "outputs": [
    {
     "name": "stdout",
     "output_type": "stream",
     "text": [
      "Accuracy on the training data: 93%.\n",
      "Accuracy on the test data: 93%.\n"
     ]
    }
   ],
   "source": [
    "#decision tree accuracy\n",
    "\n",
    "acc_train_dt = accuracy_score(y_train, y_hat_train_dt) * 100\n",
    "acc_test_dt = accuracy_score(y_test, y_hat_test_dt) * 100\n",
    "\n",
    "print(\"Accuracy on the training data: {:.0f}%.\".format(acc_train_dt))\n",
    "print(\"Accuracy on the test data: {:.0f}%.\".format(acc_test_dt))"
   ]
  },
  {
   "cell_type": "code",
   "execution_count": 112,
   "metadata": {
    "scrolled": true
   },
   "outputs": [
    {
     "name": "stdout",
     "output_type": "stream",
     "text": [
      "-3.323182323369886 + \n",
      "Category_AUTO_AND_VEHICLES * -0.19492335477887585 + \n",
      "Category_BEAUTY * -0.6654965219195715 + \n",
      "Category_BOOKS_AND_REFERENCE * 0.22590722907336233 + \n",
      "Category_BUSINESS * -0.5140833619505282 + \n",
      "Category_COMICS * -0.6478622754248187 + \n",
      "Category_COMMUNICATION * 0.3980440696814302 + \n",
      "Category_DATING * -0.38400593968257807 + \n",
      "Category_EDUCATION * 0.7388635088967209 + \n",
      "Category_ENTERTAINMENT * 1.2710328784862364 + \n",
      "Category_EVENTS * -0.6060060162683533 + \n",
      "Category_FAMILY * 1.2151667715768106 + \n",
      "Category_FINANCE * -0.10182019058026123 + \n",
      "Category_FOOD_AND_DRINK * -0.5093915881109186 + \n",
      "Category_GAME * 0.9329562855443919 + \n",
      "Category_HEALTH_AND_FITNESS * 0.13809443625253956 + \n",
      "Category_HOUSE_AND_HOME * -0.6887617552932005 + \n",
      "Category_LIBRARIES_AND_DEMO * -0.580470341083653 + \n",
      "Category_LIFESTYLE * -0.10572812766936801 + \n",
      "Category_MAPS_AND_NAVIGATION * -0.033787371148095754 + \n",
      "Category_MEDICAL * 0.6014376780256879 + \n",
      "Category_NEWS_AND_MAGAZINES * -0.8203493267782453 + \n",
      "Category_PARENTING * -0.352221024157206 + \n",
      "Category_PERSONALIZATION * 0.7347393808283589 + \n",
      "Category_PHOTOGRAPHY * 0.4840648770778381 + \n",
      "Category_PRODUCTIVITY * 0.13353181578503132 + \n",
      "Category_SHOPPING * -0.6716789775424326 + \n",
      "Category_SOCIAL * -0.6357131055573365 + \n",
      "Category_SPORTS * -0.5066500561254107 + \n",
      "Category_TOOLS * 0.342795475387026 + \n",
      "Category_TRAVEL_AND_LOCAL * 0.013053753911197457 + \n",
      "Category_VIDEO_PLAYERS * -0.1387328861356182 + \n",
      "Category_WEATHER * 0.7069302990540685 + \n",
      "Installs_1+ * 1.6714209499998938 + \n",
      "Installs_1,000+ * 0.8341433174052184 + \n",
      "Installs_1,000,000+ * -1.7324421342407452 + \n",
      "Installs_1,000,000,000+ * -0.07767915833547068 + \n",
      "Installs_10+ * 1.0772094225651303 + \n",
      "Installs_10,000+ * 0.4729071111601612 + \n",
      "Installs_10,000,000+ * -2.900711234743566 + \n",
      "Installs_100+ * 0.7499065251137045 + \n",
      "Installs_100,000+ * -0.08433999473261587 + \n",
      "Installs_100,000,000+ * -1.43358707832317 + \n",
      "Installs_5+ * 0.9134431763114685 + \n",
      "Installs_5,000+ * 0.7915305484830941 + \n",
      "Installs_5,000,000+ * -3.044769290779434 + \n",
      "Installs_50+ * 0.9103751002734498 + \n",
      "Installs_50,000+ * 0.16439487228876407 + \n",
      "Installs_50,000,000+ * -1.8761492002450217 + \n",
      "Installs_500+ * 0.48283243196161296 + \n",
      "Installs_500,000+ * -1.2751581970196753 + \n",
      "Installs_500,000,000+ * -0.2698347377673047 + \n",
      "Content Rating_Everyone * 0.09652561975428428 + \n",
      "Content Rating_Everyone 10+ * 0.37603343781933424 + \n",
      "Content Rating_Mature 17+ * 0.05453468942214744 + \n",
      "Content Rating_Teen * -0.40275997201444097 + \n",
      "Genres_Adventure * 0.8213311701039698 + \n",
      "Genres_Arcade * 0.3890149514615609 + \n",
      "Genres_Art & Design * -0.047035602508773214 + \n",
      "Genres_Auto & Vehicles * -0.19492335477887585 + \n",
      "Genres_Beauty * -0.6654965219195715 + \n",
      "Genres_Board * 0.7961778254571634 + \n",
      "Genres_Books & Reference * 0.44529634261923334 + \n",
      "Genres_Business * -0.5140833619505282 + \n",
      "Genres_Card * 0.6771637355832373 + \n",
      "Genres_Casino * -0.31346182624083374 + \n",
      "Genres_Casual * -0.3822865829456183 + \n",
      "Genres_Comics * -0.6478622754248187 + \n",
      "Genres_Communication * 0.33377740971685477 + \n",
      "Genres_Dating * -0.38400593968257807 + \n",
      "Genres_Education * -0.879226421115352 + \n",
      "Genres_Entertainment * -1.652791884369035 + \n",
      "Genres_Events * -0.6060060162683533 + \n",
      "Genres_Finance * -0.10182019058026123 + \n",
      "Genres_Food & Drink * -0.5093915881109186 + \n",
      "Genres_Health & Fitness * -0.07100332484465807 + \n",
      "Genres_House & Home * -0.6887617552932005 + \n",
      "Genres_Libraries & Demo * -0.580470341083653 + \n",
      "Genres_Lifestyle * -0.22463666533143886 + \n",
      "Genres_Maps & Navigation * -0.033787371148095754 + \n",
      "Genres_Medical * 0.6014376780256879 + \n",
      "Genres_Music * 0.14796424168543296 + \n",
      "Genres_News & Magazines * -0.8203493267782453 + \n",
      "Genres_Parenting * -0.352221024157206 + \n",
      "Genres_Personalization * 0.7347393808283589 + \n",
      "Genres_Photography * 0.4840648770778381 + \n",
      "Genres_Productivity * 0.13353181578503132 + \n",
      "Genres_Puzzle * 0.23972888333723977 + \n",
      "Genres_Racing * -0.2354708008251709 + \n",
      "Genres_Role Playing * 1.133775967944889 + \n",
      "Genres_Shopping * -0.6716789775424326 + \n",
      "Genres_Simulation * -0.7353494826896232 + \n",
      "Genres_Social * -0.6357131055573365 + \n",
      "Genres_Sports * 0.7043735967146714 + \n",
      "Genres_Strategy * 0.8091935292673995 + \n",
      "Genres_Tools * 0.342795475387026 + \n",
      "Genres_Travel & Local * 0.013053753911197457 + \n",
      "Genres_Trivia * -1.3422434239204015 + \n",
      "Genres_Video Players & Editors * -0.1599736907318096 + \n",
      "Genres_Weather * 0.7069302990540685 + \n",
      "Genres_Word * -0.782297880518172 + \n",
      "cluster_1 * 0.4060945746033388 + \n",
      "cluster_2 * -0.08967179471462347 + \n",
      "Rating * 0.199975352930474 + \n",
      "Reviews * -1.0287667743788176 + \n",
      "Size * -0.030298593041254856\n"
     ]
    }
   ],
   "source": [
    "#create equation with log-odds ratio\n",
    "variables = list(X_train_featurized.columns)\n",
    "coefficients = map(str, list(logit.coef_[0]))\n",
    "intercept = logit.intercept_[0]\n",
    "\n",
    "var_coef_pairs = list(zip(variables, coefficients))\n",
    "equation = str(intercept) + \" + \\n\" + \" + \\n\".join([v + \" * \" + c for v,c in var_coef_pairs])\n",
    "print(equation)"
   ]
  },
  {
   "cell_type": "code",
   "execution_count": 113,
   "metadata": {},
   "outputs": [
    {
     "data": {
      "text/plain": [
       "array([[0.98689808, 0.01310192],\n",
       "       [0.99796491, 0.00203509],\n",
       "       [0.96015326, 0.03984674],\n",
       "       ...,\n",
       "       [0.99105904, 0.00894096],\n",
       "       [0.97851815, 0.02148185],\n",
       "       [0.80326738, 0.19673262]])"
      ]
     },
     "execution_count": 113,
     "metadata": {},
     "output_type": "execute_result"
    }
   ],
   "source": [
    "#use predict proba to get the probabilitylogit.predict_proba(X_test_featurized)\n",
    "\n",
    "logit.predict_proba(X_test_featurized)"
   ]
  },
  {
   "cell_type": "code",
   "execution_count": 114,
   "metadata": {},
   "outputs": [
    {
     "data": {
      "text/plain": [
       "array([[0.99099815, 0.00900185],\n",
       "       [0.99099815, 0.00900185],\n",
       "       [0.89449424, 0.10550576],\n",
       "       ...,\n",
       "       [0.89449424, 0.10550576],\n",
       "       [0.99099815, 0.00900185],\n",
       "       [0.89449424, 0.10550576]])"
      ]
     },
     "execution_count": 114,
     "metadata": {},
     "output_type": "execute_result"
    }
   ],
   "source": [
    "dtree.predict_proba(X_test_featurized)"
   ]
  },
  {
   "cell_type": "markdown",
   "metadata": {},
   "source": [
    "**Confusion Matrix from Predicted Values**"
   ]
  },
  {
   "cell_type": "markdown",
   "metadata": {},
   "source": [
    "The default threshold in this logistic regression is 0.5. This is the probability threshold used in this exercise to cast a wider net that catches more of the paid mobile applications. The cost of a false positive in this model is not very high. We want to understand the characteristics of a paid mobile application."
   ]
  },
  {
   "cell_type": "code",
   "execution_count": 115,
   "metadata": {},
   "outputs": [
    {
     "data": {
      "text/plain": [
       "array([[1499,    5],\n",
       "       [ 116,    6]], dtype=int64)"
      ]
     },
     "execution_count": 115,
     "metadata": {},
     "output_type": "execute_result"
    }
   ],
   "source": [
    "#show confusion matrix on logistic regression model\n",
    "from sklearn.metrics import confusion_matrix\n",
    "\n",
    "cf = confusion_matrix(y_test, y_hat_test)\n",
    "\n",
    "cf"
   ]
  },
  {
   "cell_type": "markdown",
   "metadata": {},
   "source": [
    "**Logistic Regression Results**\n",
    "\n",
    "True Positives: 6\n",
    "\n",
    "False Positives: 5\n",
    "\n",
    "False Negatives: 116\n",
    "\n",
    "True Negatives: 1499"
   ]
  },
  {
   "cell_type": "code",
   "execution_count": 116,
   "metadata": {},
   "outputs": [
    {
     "data": {
      "text/plain": [
       "array([[1499,    5],\n",
       "       [ 109,   13]], dtype=int64)"
      ]
     },
     "execution_count": 116,
     "metadata": {},
     "output_type": "execute_result"
    }
   ],
   "source": [
    "#show confusion matrix on decision tree classifier\n",
    "\n",
    "cf_dt = confusion_matrix(y_test, y_hat_test_dt)\n",
    "\n",
    "cf_dt"
   ]
  },
  {
   "cell_type": "markdown",
   "metadata": {},
   "source": [
    "**Decision Tree Results**\n",
    "\n",
    "True Positives: 13\n",
    "\n",
    "False Positives: 5\n",
    "\n",
    "False Negatives: 109\n",
    "\n",
    "True Negatives: 1499"
   ]
  },
  {
   "cell_type": "markdown",
   "metadata": {},
   "source": [
    "**Precision, Recall, and F1 measures based on the Confusion Matrix.**"
   ]
  },
  {
   "cell_type": "code",
   "execution_count": 117,
   "metadata": {},
   "outputs": [
    {
     "name": "stdout",
     "output_type": "stream",
     "text": [
      "Precision = 61% and recall = 3% and f1 = 6% on the training data.\n",
      "Precision = 55% and recall = 5% and f1 = 9% on the test data.\n"
     ]
    }
   ],
   "source": [
    "#call precision, recall, and f1 from the sklearn package\n",
    "#calculate performance on each metric\n",
    "\n",
    "from sklearn.metrics import precision_score, recall_score, f1_score\n",
    "\n",
    "precision_train = precision_score(y_train, y_hat_train, pos_label = 'yes') * 100\n",
    "precision_test = precision_score(y_test, y_hat_test, pos_label = 'yes') * 100\n",
    "\n",
    "recall_train = recall_score(y_train, y_hat_train, pos_label = 'yes') * 100\n",
    "recall_test = recall_score(y_test, y_hat_test, pos_label = 'yes') * 100\n",
    "\n",
    "f1_train = f1_score(y_train, y_hat_train, pos_label = 'yes') * 100\n",
    "f1_test = f1_score(y_test, y_hat_test, pos_label = 'yes') * 100\n",
    "\n",
    "print(\"Precision = {:.0f}% and recall = {:.0f}% and f1 = {:.0f}% on the training data.\".format(precision_train, recall_train, f1_train))\n",
    "print(\"Precision = {:.0f}% and recall = {:.0f}% and f1 = {:.0f}% on the test data.\".format(precision_test, recall_test, f1_test))"
   ]
  },
  {
   "cell_type": "code",
   "execution_count": 118,
   "metadata": {},
   "outputs": [
    {
     "name": "stdout",
     "output_type": "stream",
     "text": [
      "Precision = 66% and recall = 10% and f1 = 18% on the training data.\n",
      "Precision = 72% and recall = 11% and f1 = 19% on the test data.\n"
     ]
    }
   ],
   "source": [
    "#precision, recall, and f1 on decision tree\n",
    "\n",
    "precision_train_dt = precision_score(y_train, y_hat_train_dt, pos_label = 'yes') * 100\n",
    "precision_test_dt = precision_score(y_test, y_hat_test_dt, pos_label = 'yes') * 100\n",
    "\n",
    "recall_train_dt = recall_score(y_train, y_hat_train_dt, pos_label = 'yes') * 100\n",
    "recall_test_dt = recall_score(y_test, y_hat_test_dt, pos_label = 'yes') * 100\n",
    "\n",
    "f1_train_dt = f1_score(y_train, y_hat_train_dt, pos_label = 'yes') * 100\n",
    "f1_test_dt = f1_score(y_test, y_hat_test_dt, pos_label = 'yes') * 100\n",
    "\n",
    "print(\"Precision = {:.0f}% and recall = {:.0f}% and f1 = {:.0f}% on the training data.\".format(precision_train_dt, recall_train_dt, f1_train_dt))\n",
    "print(\"Precision = {:.0f}% and recall = {:.0f}% and f1 = {:.0f}% on the test data.\".format(precision_test_dt, recall_test_dt, f1_test_dt))"
   ]
  },
  {
   "cell_type": "markdown",
   "metadata": {},
   "source": [
    "**Calculate the ROC Curve and it's AUC using sklearn. Present the ROC curve and AUC.**"
   ]
  },
  {
   "cell_type": "code",
   "execution_count": 119,
   "metadata": {},
   "outputs": [],
   "source": [
    "#construct the roc curve\n",
    "#calculate and show AUC\n",
    "\n",
    "from sklearn.metrics import roc_curve, auc\n",
    "import matplotlib.pyplot as plt\n",
    "\n",
    "def plot_roc(models, model_names):\n",
    "    plt.figure(0, figsize = [8, 7]).clf()\n",
    "    plt.plot([0, 1], [0, 1],'r--')\n",
    "    plt.xlim([0, 1])\n",
    "    plt.ylim([0, 1])\n",
    "    plt.ylabel('True Positive Rate')\n",
    "    plt.xlabel('False Positive Rate')\n",
    "    \n",
    "    for ii, model in enumerate(models):\n",
    "        y_prob_test = model.predict_proba(X_test_featurized)[:, 1]\n",
    "        fpr, tpr, threshold = roc_curve(y_test, y_prob_test, pos_label = \"yes\")\n",
    "        roc_auc = auc(fpr, tpr)\n",
    "\n",
    "        plt.plot(fpr, tpr, label = \"{} AUC = {:0.2f}\".format(model_names[ii], roc_auc))\n",
    "\n",
    "    plt.legend(loc = 'lower right');"
   ]
  },
  {
   "cell_type": "code",
   "execution_count": 120,
   "metadata": {},
   "outputs": [
    {
     "data": {
      "image/png": "[encoded data removed]",
      "text/plain": [
       "<Figure size 576x504 with 1 Axes>"
      ]
     },
     "metadata": {
      "needs_background": "light"
     },
     "output_type": "display_data"
    }
   ],
   "source": [
    "#show plot\n",
    "plot_roc([logit, dtree], ['logistic', 'decision-tree'])"
   ]
  },
  {
   "cell_type": "markdown",
   "metadata": {},
   "source": [
    "**Summary**\n",
    "\n"
   ]
  },
  {
   "cell_type": "markdown",
   "metadata": {},
   "source": [
    "The ROC curve above does a great job of illustrating the trade offs in this model. We can see that the logistic regression model does a better job of predicting accurately, whether an app is paid or free. But the problem with it is that it is less willing to be incorrect. This means that the model predicts less True Positives and False Positives. Within the context of this exercise, this is not a good thing. While I like that it's more accurate, I prefer it to also be better able to highlight paid applications.\n",
    "\n",
    "The decision tree on the other hand, takes the opposite approach. It is a more \"daring\" model, predicting more false positives, but also significantly more true positives. This leads to a 17% higher precision score and 6% higher recall score. The AUC is also not bad at 0.80 vs 0.85 on the logistic regression. While both models have their flaws, I believe the decision tree does a decent job of locating more paid applications, while also being fairly accurate. Because I set out to find the characteristics of a paid mobile application and want higher precision, the decision tree is the better model despite the overall accuracy issues."
   ]
  }
 ],
 "metadata": {
  "kernelspec": {
   "display_name": "Python 3",
   "language": "python",
   "name": "python3"
  },
  "language_info": {
   "codemirror_mode": {
    "name": "ipython",
    "version": 3
   },
   "file_extension": ".py",
   "mimetype": "text/x-python",
   "name": "python",
   "nbconvert_exporter": "python",
   "pygments_lexer": "ipython3",
   "version": "3.7.6"
  }
 },
 "nbformat": 4,
 "nbformat_minor": 2
}
